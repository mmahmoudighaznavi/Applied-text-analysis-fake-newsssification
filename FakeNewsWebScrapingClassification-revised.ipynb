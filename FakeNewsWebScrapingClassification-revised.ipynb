{
 "cells": [
  {
   "cell_type": "code",
   "execution_count": 1,
   "id": "04836b15",
   "metadata": {},
   "outputs": [],
   "source": [
    "# !pip install nltk\n",
    "# !pip install tensorflow\n",
    "# !pip install WordCloud"
   ]
  },
  {
   "cell_type": "code",
   "execution_count": 3,
   "id": "000fbffa",
   "metadata": {},
   "outputs": [
    {
     "name": "stderr",
     "output_type": "stream",
     "text": [
      "C:\\Users\\Mohammad\\anaconda3\\lib\\site-packages\\pandas\\core\\computation\\expressions.py:21: UserWarning: Pandas requires version '2.8.0' or newer of 'numexpr' (version '2.7.3' currently installed).\n",
      "  from pandas.core.computation.check import NUMEXPR_INSTALLED\n",
      "C:\\Users\\Mohammad\\anaconda3\\lib\\site-packages\\pandas\\core\\arrays\\masked.py:62: UserWarning: Pandas requires version '1.3.4' or newer of 'bottleneck' (version '1.3.2' currently installed).\n",
      "  from pandas.core import (\n"
     ]
    }
   ],
   "source": [
    "# import dependencies\n",
    "import pandas as pd\n",
    "import numpy as np\n",
    "import csv\n",
    "import os\n",
    "\n",
    "# visualization\n",
    "import seaborn as sns\n",
    "import matplotlib.pyplot as plt\n",
    "%matplotlib inline\n",
    "from wordcloud import WordCloud\n",
    "from sklearn.feature_extraction.text import CountVectorizer\n",
    "from sklearn.feature_extraction.text import TfidfVectorizer\n",
    "\n",
    "\n",
    "from sklearn.model_selection import train_test_split\n",
    "\n",
    "import nltk\n",
    "from nltk.corpus import stopwords\n",
    "from nltk.stem import WordNetLemmatizer\n",
    "import re\n",
    "\n",
    "from tensorflow.keras.preprocessing.text import Tokenizer\n",
    "from tensorflow.keras.preprocessing.sequence import pad_sequences\n",
    "\n",
    "import warnings\n",
    "warnings.filterwarnings('ignore')\n"
   ]
  },
  {
   "cell_type": "markdown",
   "id": "e394ac65",
   "metadata": {},
   "source": [
    "## Importing Data"
   ]
  },
  {
   "cell_type": "code",
   "execution_count": 7,
   "id": "4a0ae261",
   "metadata": {},
   "outputs": [
    {
     "data": {
      "text/html": [
       "<div>\n",
       "<style scoped>\n",
       "    .dataframe tbody tr th:only-of-type {\n",
       "        vertical-align: middle;\n",
       "    }\n",
       "\n",
       "    .dataframe tbody tr th {\n",
       "        vertical-align: top;\n",
       "    }\n",
       "\n",
       "    .dataframe thead th {\n",
       "        text-align: right;\n",
       "    }\n",
       "</style>\n",
       "<table border=\"1\" class=\"dataframe\">\n",
       "  <thead>\n",
       "    <tr style=\"text-align: right;\">\n",
       "      <th></th>\n",
       "      <th>id</th>\n",
       "      <th>title</th>\n",
       "      <th>author</th>\n",
       "      <th>text</th>\n",
       "      <th>label</th>\n",
       "    </tr>\n",
       "  </thead>\n",
       "  <tbody>\n",
       "    <tr>\n",
       "      <th>0</th>\n",
       "      <td>0</td>\n",
       "      <td>House Dem Aide: We Didn’t Even See Comey’s Let...</td>\n",
       "      <td>Darrell Lucus</td>\n",
       "      <td>House Dem Aide: We Didn’t Even See Comey’s Let...</td>\n",
       "      <td>1</td>\n",
       "    </tr>\n",
       "    <tr>\n",
       "      <th>1</th>\n",
       "      <td>1</td>\n",
       "      <td>FLYNN: Hillary Clinton, Big Woman on Campus - ...</td>\n",
       "      <td>Daniel J. Flynn</td>\n",
       "      <td>Ever get the feeling your life circles the rou...</td>\n",
       "      <td>0</td>\n",
       "    </tr>\n",
       "    <tr>\n",
       "      <th>2</th>\n",
       "      <td>2</td>\n",
       "      <td>Why the Truth Might Get You Fired</td>\n",
       "      <td>Consortiumnews.com</td>\n",
       "      <td>Why the Truth Might Get You Fired October 29, ...</td>\n",
       "      <td>1</td>\n",
       "    </tr>\n",
       "    <tr>\n",
       "      <th>3</th>\n",
       "      <td>3</td>\n",
       "      <td>15 Civilians Killed In Single US Airstrike Hav...</td>\n",
       "      <td>Jessica Purkiss</td>\n",
       "      <td>Videos 15 Civilians Killed In Single US Airstr...</td>\n",
       "      <td>1</td>\n",
       "    </tr>\n",
       "    <tr>\n",
       "      <th>4</th>\n",
       "      <td>4</td>\n",
       "      <td>Iranian woman jailed for fictional unpublished...</td>\n",
       "      <td>Howard Portnoy</td>\n",
       "      <td>Print \\nAn Iranian woman has been sentenced to...</td>\n",
       "      <td>1</td>\n",
       "    </tr>\n",
       "    <tr>\n",
       "      <th>...</th>\n",
       "      <td>...</td>\n",
       "      <td>...</td>\n",
       "      <td>...</td>\n",
       "      <td>...</td>\n",
       "      <td>...</td>\n",
       "    </tr>\n",
       "    <tr>\n",
       "      <th>20795</th>\n",
       "      <td>20795</td>\n",
       "      <td>Rapper T.I.: Trump a ’Poster Child For White S...</td>\n",
       "      <td>Jerome Hudson</td>\n",
       "      <td>Rapper T. I. unloaded on black celebrities who...</td>\n",
       "      <td>0</td>\n",
       "    </tr>\n",
       "    <tr>\n",
       "      <th>20796</th>\n",
       "      <td>20796</td>\n",
       "      <td>N.F.L. Playoffs: Schedule, Matchups and Odds -...</td>\n",
       "      <td>Benjamin Hoffman</td>\n",
       "      <td>When the Green Bay Packers lost to the Washing...</td>\n",
       "      <td>0</td>\n",
       "    </tr>\n",
       "    <tr>\n",
       "      <th>20797</th>\n",
       "      <td>20797</td>\n",
       "      <td>Macy’s Is Said to Receive Takeover Approach by...</td>\n",
       "      <td>Michael J. de la Merced and Rachel Abrams</td>\n",
       "      <td>The Macy’s of today grew from the union of sev...</td>\n",
       "      <td>0</td>\n",
       "    </tr>\n",
       "    <tr>\n",
       "      <th>20798</th>\n",
       "      <td>20798</td>\n",
       "      <td>NATO, Russia To Hold Parallel Exercises In Bal...</td>\n",
       "      <td>Alex Ansary</td>\n",
       "      <td>NATO, Russia To Hold Parallel Exercises In Bal...</td>\n",
       "      <td>1</td>\n",
       "    </tr>\n",
       "    <tr>\n",
       "      <th>20799</th>\n",
       "      <td>20799</td>\n",
       "      <td>What Keeps the F-35 Alive</td>\n",
       "      <td>David Swanson</td>\n",
       "      <td>David Swanson is an author, activist, journa...</td>\n",
       "      <td>1</td>\n",
       "    </tr>\n",
       "  </tbody>\n",
       "</table>\n",
       "<p>20800 rows × 5 columns</p>\n",
       "</div>"
      ],
      "text/plain": [
       "          id                                              title  \\\n",
       "0          0  House Dem Aide: We Didn’t Even See Comey’s Let...   \n",
       "1          1  FLYNN: Hillary Clinton, Big Woman on Campus - ...   \n",
       "2          2                  Why the Truth Might Get You Fired   \n",
       "3          3  15 Civilians Killed In Single US Airstrike Hav...   \n",
       "4          4  Iranian woman jailed for fictional unpublished...   \n",
       "...      ...                                                ...   \n",
       "20795  20795  Rapper T.I.: Trump a ’Poster Child For White S...   \n",
       "20796  20796  N.F.L. Playoffs: Schedule, Matchups and Odds -...   \n",
       "20797  20797  Macy’s Is Said to Receive Takeover Approach by...   \n",
       "20798  20798  NATO, Russia To Hold Parallel Exercises In Bal...   \n",
       "20799  20799                          What Keeps the F-35 Alive   \n",
       "\n",
       "                                          author  \\\n",
       "0                                  Darrell Lucus   \n",
       "1                                Daniel J. Flynn   \n",
       "2                             Consortiumnews.com   \n",
       "3                                Jessica Purkiss   \n",
       "4                                 Howard Portnoy   \n",
       "...                                          ...   \n",
       "20795                              Jerome Hudson   \n",
       "20796                           Benjamin Hoffman   \n",
       "20797  Michael J. de la Merced and Rachel Abrams   \n",
       "20798                                Alex Ansary   \n",
       "20799                              David Swanson   \n",
       "\n",
       "                                                    text  label  \n",
       "0      House Dem Aide: We Didn’t Even See Comey’s Let...      1  \n",
       "1      Ever get the feeling your life circles the rou...      0  \n",
       "2      Why the Truth Might Get You Fired October 29, ...      1  \n",
       "3      Videos 15 Civilians Killed In Single US Airstr...      1  \n",
       "4      Print \\nAn Iranian woman has been sentenced to...      1  \n",
       "...                                                  ...    ...  \n",
       "20795  Rapper T. I. unloaded on black celebrities who...      0  \n",
       "20796  When the Green Bay Packers lost to the Washing...      0  \n",
       "20797  The Macy’s of today grew from the union of sev...      0  \n",
       "20798  NATO, Russia To Hold Parallel Exercises In Bal...      1  \n",
       "20799    David Swanson is an author, activist, journa...      1  \n",
       "\n",
       "[20800 rows x 5 columns]"
      ]
     },
     "metadata": {},
     "output_type": "display_data"
    }
   ],
   "source": [
    "#fake_news_df = pd.read_csv(r\"C:\\Users\\Mohammad\\Downloads\\archive (8)\\fake_news.csv\")\n",
    "fake_news_df = pd.read_csv(\"Input Resource/fake_news.csv\")\n",
    "display(fake_news_df)"
   ]
  },
  {
   "cell_type": "markdown",
   "id": "3310aab8",
   "metadata": {},
   "source": [
    "## Data Cleaning"
   ]
  },
  {
   "cell_type": "code",
   "execution_count": 4,
   "id": "4c716d79",
   "metadata": {},
   "outputs": [
    {
     "data": {
      "text/plain": [
       "id           0\n",
       "title      558\n",
       "author    1957\n",
       "text        39\n",
       "label        0\n",
       "dtype: int64"
      ]
     },
     "execution_count": 4,
     "metadata": {},
     "output_type": "execute_result"
    }
   ],
   "source": [
    "# check missing values in dataset\n",
    "fake_news_df.isnull().sum()"
   ]
  },
  {
   "cell_type": "code",
   "execution_count": 8,
   "id": "2aef39e7",
   "metadata": {},
   "outputs": [],
   "source": [
    "# replace NaN values in 'title' and 'text'. \n",
    "fake_news_df['title'].fillna(\"\", inplace=True)\n",
    "fake_news_df['text'].fillna(\"\", inplace=True)"
   ]
  },
  {
   "cell_type": "markdown",
   "id": "9d82a0ac",
   "metadata": {},
   "source": [
    "**NaN Values:** When dealing with machine learning tasks, especially those that involve text, it's crucial to address missing values. If left unhandled, they can lead to errors during the modeling process or during feature extraction."
   ]
  },
  {
   "cell_type": "code",
   "execution_count": 9,
   "id": "a0b4abd6",
   "metadata": {},
   "outputs": [
    {
     "data": {
      "text/html": [
       "<div>\n",
       "<style scoped>\n",
       "    .dataframe tbody tr th:only-of-type {\n",
       "        vertical-align: middle;\n",
       "    }\n",
       "\n",
       "    .dataframe tbody tr th {\n",
       "        vertical-align: top;\n",
       "    }\n",
       "\n",
       "    .dataframe thead th {\n",
       "        text-align: right;\n",
       "    }\n",
       "</style>\n",
       "<table border=\"1\" class=\"dataframe\">\n",
       "  <thead>\n",
       "    <tr style=\"text-align: right;\">\n",
       "      <th></th>\n",
       "      <th>id</th>\n",
       "      <th>title</th>\n",
       "      <th>author</th>\n",
       "      <th>text</th>\n",
       "      <th>label</th>\n",
       "      <th>content</th>\n",
       "    </tr>\n",
       "  </thead>\n",
       "  <tbody>\n",
       "    <tr>\n",
       "      <th>0</th>\n",
       "      <td>0</td>\n",
       "      <td>House Dem Aide: We Didn’t Even See Comey’s Let...</td>\n",
       "      <td>Darrell Lucus</td>\n",
       "      <td>House Dem Aide: We Didn’t Even See Comey’s Let...</td>\n",
       "      <td>1</td>\n",
       "      <td>House Dem Aide: We Didn’t Even See Comey’s Let...</td>\n",
       "    </tr>\n",
       "    <tr>\n",
       "      <th>1</th>\n",
       "      <td>1</td>\n",
       "      <td>FLYNN: Hillary Clinton, Big Woman on Campus - ...</td>\n",
       "      <td>Daniel J. Flynn</td>\n",
       "      <td>Ever get the feeling your life circles the rou...</td>\n",
       "      <td>0</td>\n",
       "      <td>FLYNN: Hillary Clinton, Big Woman on Campus - ...</td>\n",
       "    </tr>\n",
       "    <tr>\n",
       "      <th>2</th>\n",
       "      <td>2</td>\n",
       "      <td>Why the Truth Might Get You Fired</td>\n",
       "      <td>Consortiumnews.com</td>\n",
       "      <td>Why the Truth Might Get You Fired October 29, ...</td>\n",
       "      <td>1</td>\n",
       "      <td>Why the Truth Might Get You Fired Why the Trut...</td>\n",
       "    </tr>\n",
       "    <tr>\n",
       "      <th>3</th>\n",
       "      <td>3</td>\n",
       "      <td>15 Civilians Killed In Single US Airstrike Hav...</td>\n",
       "      <td>Jessica Purkiss</td>\n",
       "      <td>Videos 15 Civilians Killed In Single US Airstr...</td>\n",
       "      <td>1</td>\n",
       "      <td>15 Civilians Killed In Single US Airstrike Hav...</td>\n",
       "    </tr>\n",
       "    <tr>\n",
       "      <th>4</th>\n",
       "      <td>4</td>\n",
       "      <td>Iranian woman jailed for fictional unpublished...</td>\n",
       "      <td>Howard Portnoy</td>\n",
       "      <td>Print \\nAn Iranian woman has been sentenced to...</td>\n",
       "      <td>1</td>\n",
       "      <td>Iranian woman jailed for fictional unpublished...</td>\n",
       "    </tr>\n",
       "  </tbody>\n",
       "</table>\n",
       "</div>"
      ],
      "text/plain": [
       "   id                                              title              author  \\\n",
       "0   0  House Dem Aide: We Didn’t Even See Comey’s Let...       Darrell Lucus   \n",
       "1   1  FLYNN: Hillary Clinton, Big Woman on Campus - ...     Daniel J. Flynn   \n",
       "2   2                  Why the Truth Might Get You Fired  Consortiumnews.com   \n",
       "3   3  15 Civilians Killed In Single US Airstrike Hav...     Jessica Purkiss   \n",
       "4   4  Iranian woman jailed for fictional unpublished...      Howard Portnoy   \n",
       "\n",
       "                                                text  label  \\\n",
       "0  House Dem Aide: We Didn’t Even See Comey’s Let...      1   \n",
       "1  Ever get the feeling your life circles the rou...      0   \n",
       "2  Why the Truth Might Get You Fired October 29, ...      1   \n",
       "3  Videos 15 Civilians Killed In Single US Airstr...      1   \n",
       "4  Print \\nAn Iranian woman has been sentenced to...      1   \n",
       "\n",
       "                                             content  \n",
       "0  House Dem Aide: We Didn’t Even See Comey’s Let...  \n",
       "1  FLYNN: Hillary Clinton, Big Woman on Campus - ...  \n",
       "2  Why the Truth Might Get You Fired Why the Trut...  \n",
       "3  15 Civilians Killed In Single US Airstrike Hav...  \n",
       "4  Iranian woman jailed for fictional unpublished...  "
      ]
     },
     "execution_count": 9,
     "metadata": {},
     "output_type": "execute_result"
    }
   ],
   "source": [
    "# combine 'title' and 'text' into a one single variable\n",
    "fake_news_df['content'] = fake_news_df['title'] + ' ' + fake_news_df['text']\n",
    "fake_news_df.head()"
   ]
  },
  {
   "cell_type": "markdown",
   "id": "6cd18c56",
   "metadata": {},
   "source": [
    "We've decided to fill NaN values in the 'title' and 'text' columns with an empty string (\" \") which is a common practice in text-based tasks. An empty string ensures that any text processing (e.g., tokenization or vectorization) will not encounter errors when it operates on these columns."
   ]
  },
  {
   "cell_type": "code",
   "execution_count": 10,
   "id": "53771401",
   "metadata": {},
   "outputs": [],
   "source": [
    "# drop unnecessary column\n",
    "fake_news_df.drop([\"id\", \"author\"],axis=1,inplace=True)"
   ]
  },
  {
   "cell_type": "markdown",
   "id": "c3c55b74",
   "metadata": {},
   "source": [
    "# Class Imbalance check"
   ]
  },
  {
   "cell_type": "markdown",
   "id": "ac4f9c86",
   "metadata": {},
   "source": [
    "**Balanced Classes:** It's important to check the balance of the labels in classification tasks. If there's a significant class imbalance, it can lead to biased models. A model trained on imbalanced data might predict the majority class more often, leading to misleadingly high accuracy but poor generalization to new data."
   ]
  },
  {
   "cell_type": "code",
   "execution_count": 8,
   "id": "00ca953c",
   "metadata": {},
   "outputs": [
    {
     "name": "stdout",
     "output_type": "stream",
     "text": [
      "1    10413\n",
      "0    10387\n",
      "Name: label, dtype: int64\n"
     ]
    },
    {
     "data": {
      "image/png": "[encoded data removed]",
      "text/plain": [
       "<Figure size 432x288 with 1 Axes>"
      ]
     },
     "metadata": {
      "needs_background": "light"
     },
     "output_type": "display_data"
    }
   ],
   "source": [
    "# check the distribution of the class labels\n",
    "label_count = fake_news_df[\"label\"].value_counts()\n",
    "print(label_count)\n",
    "\n",
    "label_count.plot(kind='bar', color=['blue','orange'])\n",
    "plt.xlabel('Label')\n",
    "plt.ylabel('Count')\n",
    "plt.title('Distribution of Class Labels')\n",
    "plt.show()"
   ]
  },
  {
   "cell_type": "markdown",
   "id": "c1a63fc9",
   "metadata": {},
   "source": [
    "In our case, having 10,413 samples labeled as '1' (fake news) and 10,387 samples labeled as '0' (true news) suggests that the dataset is well balanced. This balance will likely aid the model in learning both classes effectively."
   ]
  },
  {
   "cell_type": "markdown",
   "id": "d0483d86",
   "metadata": {},
   "source": [
    "## EDA Processing "
   ]
  },
  {
   "cell_type": "markdown",
   "id": "caed5b9a",
   "metadata": {},
   "source": [
    "### Text Length Distribution by Label\n"
   ]
  },
  {
   "cell_type": "code",
   "execution_count": 8,
   "id": "d5bf6073",
   "metadata": {},
   "outputs": [
    {
     "data": {
      "image/png": "[encoded data removed]",
      "text/plain": [
       "<Figure size 864x432 with 1 Axes>"
      ]
     },
     "metadata": {
      "needs_background": "light"
     },
     "output_type": "display_data"
    }
   ],
   "source": [
    "fake_news_df['total_length'] = fake_news_df['text'].apply(len)\n",
    "\n",
    "# create separate dataframes for fake and real news\n",
    "fake_news = fake_news_df[fake_news_df['label']==1]\n",
    "real_news = fake_news_df[fake_news_df['label']==0]\n",
    "\n",
    "# plot the distribution of article length for each label\n",
    "plt.figure(figsize=(12,6))\n",
    "sns.histplot(fake_news['total_length'], color='red', kde=True, label='Fake News')\n",
    "sns.histplot(real_news['total_length'], color='blue', kde=True, label='Real News')\n",
    "plt.title('Distribution of Article Length by Label')\n",
    "plt.xlabel('Article Length')\n",
    "plt.ylabel('Density')\n",
    "plt.legend()\n",
    "plt.show()"
   ]
  },
  {
   "cell_type": "markdown",
   "id": "124284f9",
   "metadata": {},
   "source": [
    "We conducted an article length distribution analysis to examine potential correlations between the length of news articles and their authenticity. Our primary goal was to determine if there were discernible patterns in article length that could aid in distinguishing fake news from true news. The results revealed that the majority of news articles are clustered within the 0 to 20,000-length range. However, this distribution did not provide a clear distinction between fake and true news based on length alone. For instance, had we observed that the majority of fake news articles were significantly shorter than true news articles, we could have inferred that fake news tends to be brief. Given these findings, we recognized the need to explore additional analytical approaches, including machine learning and further visualizations, to better understand and differentiate between fake and true news."
   ]
  },
  {
   "cell_type": "markdown",
   "id": "227e7aa9",
   "metadata": {},
   "source": [
    "## Bigrams Analysis\n"
   ]
  },
  {
   "cell_type": "markdown",
   "id": "3fc68b2b",
   "metadata": {},
   "source": [
    "Bigram analysis refers to the study and use of pairs of words that occur adjacent to each other in a text or corpus. Essentially, a bigram is a sequence of two adjacent elements from a string of tokens, which are typically letters, syllables, or words. Bigram analysis is a type of n-gram analysis, where \"n\" is a number indicating the consecutive sequence length. In the case of bigrams, n=2."
   ]
  },
  {
   "cell_type": "code",
   "execution_count": 51,
   "id": "432bc813",
   "metadata": {},
   "outputs": [
    {
     "data": {
      "image/png": "[encoded data removed]",
      "text/plain": [
       "<Figure size 1080x667.491 with 1 Axes>"
      ]
     },
     "metadata": {
      "needs_background": "light"
     },
     "output_type": "display_data"
    },
    {
     "data": {
      "image/png": "[encoded data removed]",
      "text/plain": [
       "<Figure size 1080x667.491 with 1 Axes>"
      ]
     },
     "metadata": {
      "needs_background": "light"
     },
     "output_type": "display_data"
    }
   ],
   "source": [
    "# Function to plot top n bigrams\n",
    "def plot_top_n_bigrams(n, text, title):\n",
    "    count_vectorizer = CountVectorizer(ngram_range=(2,2), stop_words='english')\n",
    "    count_data = count_vectorizer.fit_transform(text)\n",
    "\n",
    "    words = count_vectorizer.get_feature_names_out()\n",
    "    total_counts = np.zeros(len(words))\n",
    "\n",
    "    for t in count_data:\n",
    "        total_counts += t.toarray()[0]\n",
    "\n",
    "    count_dict = (zip(words, total_counts))\n",
    "    count_dict = sorted(count_dict, key=lambda x: x[1], reverse=True)[0:n]\n",
    "    words = [w[0] for w in count_dict]\n",
    "    counts = [w[1] for w in count_dict]\n",
    "    x_pos = np.arange(len(words))\n",
    "\n",
    "    plt.figure(2, figsize=(15, 15/1.6180))\n",
    "    plt.subplot(title=title)\n",
    "    sns.set_context(\"notebook\", font_scale=1.25, rc={\"lines.linewidth\": 2.5})\n",
    "    sns.barplot(x=words, y=counts, palette='husl')\n",
    "    plt.xticks(x_pos, words, rotation=90)\n",
    "    plt.xlabel('Bigrams')\n",
    "    plt.ylabel('Counts')\n",
    "    plt.show()\n",
    "\n",
    "# Plot top n bigrams for fake and real news\n",
    "plot_top_n_bigrams(30, fake_news['text'], 'Top 30 bigrams in fake news')\n",
    "plot_top_n_bigrams(30, real_news['text'], 'Top 30 bigrams in real news')\n"
   ]
  },
  {
   "cell_type": "markdown",
   "id": "8ef8961a",
   "metadata": {},
   "source": [
    "In our study of the top pairs of words, or bigrams, in both fake and real news, we found something interesting: both types of news often talked about the same things. Words like \"hillary clinton\", \"donald trump\", \"united states\", \"white house\", \"campaign\", and \"november\" popped up a lot in both datasets. This tells us that fake and real news stories during this time were focused on similar big topics, especially related to U.S. politics. However, just because an article mentions these terms doesn't mean it's true or false. The fact that both fake and real news discuss the same topics means we need to look at other ways to figure out if a story is trustworthy or not. It's a reminder that checking the facts and sources is crucial."
   ]
  },
  {
   "cell_type": "markdown",
   "id": "05d9495b",
   "metadata": {},
   "source": [
    "## TF-IDF Analysis\n"
   ]
  },
  {
   "cell_type": "markdown",
   "id": "746a6629",
   "metadata": {},
   "source": [
    "**TF-IDF** stands for Term Frequency-Inverse Document Frequency. It's a method used in text analysis and natural language processing to understand the importance of a word in a document relative to a collection of documents, often referred to as a corpus.\n",
    "\n",
    "**Term Frequency (TF):** It's the number of times a word appears in a document divided by the total number of words in that document\n",
    "\n",
    "**Inverse Document Frequency (IDF):** It's the log of the total number of documents divided by the number of documents containing the word. It captures the rarity of the word across documents. A word that appears in many documents will have a lower IDF (less uniqueness), while a word that appears in fewer documents will have a higher IDF (more uniqueness).\n",
    "\n",
    "The TF-IDF value is calculated by multiplying the TF and IDF values for each word. This value will be high for a word that appears often in a particular document but not in many documents throughout the corpus, making it both locally and globally important."
   ]
  },
  {
   "cell_type": "code",
   "execution_count": 54,
   "id": "7b1d2450",
   "metadata": {},
   "outputs": [
    {
     "data": {
      "image/png": "[encoded data removed]",
      "text/plain": [
       "<Figure size 1080x667.491 with 1 Axes>"
      ]
     },
     "metadata": {
      "needs_background": "light"
     },
     "output_type": "display_data"
    },
    {
     "data": {
      "image/png": "[encoded data removed]",
      "text/plain": [
       "<Figure size 1080x667.491 with 1 Axes>"
      ]
     },
     "metadata": {
      "needs_background": "light"
     },
     "output_type": "display_data"
    }
   ],
   "source": [
    "# Function to calculate and plot top n words ranked by TF-IDF\n",
    "def plot_top_n_tfidf(n, text, title):\n",
    "    tfidf_vectorizer = TfidfVectorizer(stop_words='english')\n",
    "    tfidf_data = tfidf_vectorizer.fit_transform(text)\n",
    "\n",
    "    words = tfidf_vectorizer.get_feature_names_out()\n",
    "    total_counts = np.zeros(len(words))\n",
    "\n",
    "    for t in tfidf_data:\n",
    "        total_counts += t.toarray()[0]\n",
    "\n",
    "    count_dict = (zip(words, total_counts))\n",
    "    count_dict = sorted(count_dict, key=lambda x: x[1], reverse=True)[0:n]\n",
    "    words = [w[0] for w in count_dict]\n",
    "    counts = [w[1] for w in count_dict]\n",
    "    x_pos = np.arange(len(words))\n",
    "\n",
    "    plt.figure(2, figsize=(15, 15/1.6180))\n",
    "    plt.subplot(title=title)\n",
    "    sns.set_context(\"notebook\", font_scale=1.25, rc={\"lines.linewidth\": 2.5})\n",
    "    sns.barplot(x=words, y=counts, palette='husl')\n",
    "    plt.xticks(x_pos, words, rotation=90)\n",
    "    plt.xlabel('Words')\n",
    "    plt.ylabel('TF-IDF')\n",
    "    plt.show()\n",
    "\n",
    "# Plot top n words ranked by TF-IDF for fake and real news\n",
    "plot_top_n_tfidf(30, fake_news['text'], 'Top 30 words in fake news ranked by TF-IDF')\n",
    "plot_top_n_tfidf(30, real_news['text'], 'Top 30 words in real news ranked by TF-IDF')"
   ]
  },
  {
   "cell_type": "markdown",
   "id": "15249880",
   "metadata": {},
   "source": [
    "Both fake and true news heavily discuss figures like Trump and Clinton, indicating their prominence during the time these articles were written. The appearance of \"election\" and \"hillary\" predominantly in fake news could indicate topics or narratives that were especially prevalent or manipulated in the fake news domain. If certain words are consistently associated with either true or fake news, it could suggest underlying biases to each category. For instance, a heavy focus on \"election\" and \"hillary\", and \"trump\" in fake news might indicate attempts to influence perceptions related to electoral events."
   ]
  },
  {
   "cell_type": "markdown",
   "id": "d1881b90",
   "metadata": {},
   "source": [
    "# Data pre-processing"
   ]
  },
  {
   "cell_type": "code",
   "execution_count": 11,
   "id": "41e60744",
   "metadata": {},
   "outputs": [
    {
     "name": "stderr",
     "output_type": "stream",
     "text": [
      "[nltk_data] Downloading package stopwords to\n",
      "[nltk_data]     C:\\Users\\Mohammad\\AppData\\Roaming\\nltk_data...\n",
      "[nltk_data]   Package stopwords is already up-to-date!\n",
      "[nltk_data] Downloading package wordnet to\n",
      "[nltk_data]     C:\\Users\\Mohammad\\AppData\\Roaming\\nltk_data...\n",
      "[nltk_data]   Package wordnet is already up-to-date!\n"
     ]
    }
   ],
   "source": [
    "# Ensure you've downloaded the required NLTK datasets\n",
    "nltk.download('stopwords')\n",
    "nltk.download('wordnet')\n",
    "\n",
    "# Create global instances and sets for efficiency\n",
    "lemmatizer = WordNetLemmatizer()\n",
    "stopwords_set = set(stopwords.words('english'))"
   ]
  },
  {
   "cell_type": "code",
   "execution_count": 12,
   "id": "eae33a75",
   "metadata": {},
   "outputs": [],
   "source": [
    "import re\n",
    "import nltk\n",
    "from nltk.stem import WordNetLemmatizer\n",
    "from nltk.corpus import stopwords"
   ]
  },
  {
   "cell_type": "code",
   "execution_count": 13,
   "id": "72f878e2",
   "metadata": {},
   "outputs": [],
   "source": [
    "class NewsPreprocessor:\n",
    "    \n",
    "    def __init__(self):\n",
    "        nltk.download('stopwords')\n",
    "        nltk.download('wordnet')\n",
    "        self.lemmatizer = WordNetLemmatizer()\n",
    "        self.stopwords_set = set(stopwords.words('english'))\n",
    "\n",
    "    def preprocess(self, content):\n",
    "        content = self._remove_non_alpha(content)\n",
    "        content = self._lowercase(content)\n",
    "        content = self._remove_stopwords_and_lemmatize(content)\n",
    "        return content\n",
    "\n",
    "    def _remove_non_alpha(self, text):\n",
    "        return re.sub('[^a-zA-Z]+', ' ', text)\n",
    "\n",
    "    def _lowercase(self, text):\n",
    "        return text.lower()\n",
    "\n",
    "    def _remove_stopwords_and_lemmatize(self, text):\n",
    "        words = text.split()\n",
    "        lemmatized_words = [self.lemmatizer.lemmatize(word) for word in words if word not in self.stopwords_set]\n",
    "        return ' '.join(lemmatized_words)"
   ]
  },
  {
   "cell_type": "code",
   "execution_count": 12,
   "id": "5f765665",
   "metadata": {},
   "outputs": [],
   "source": [
    "# !pip install dask"
   ]
  },
  {
   "cell_type": "code",
   "execution_count": 13,
   "id": "f6d2657f",
   "metadata": {},
   "outputs": [
    {
     "name": "stderr",
     "output_type": "stream",
     "text": [
      "[nltk_data] Downloading package stopwords to\n",
      "[nltk_data]     /Users/ruddysimonpour/nltk_data...\n",
      "[nltk_data]   Package stopwords is already up-to-date!\n",
      "[nltk_data] Downloading package wordnet to\n",
      "[nltk_data]     /Users/ruddysimonpour/nltk_data...\n",
      "[nltk_data]   Package wordnet is already up-to-date!\n"
     ]
    }
   ],
   "source": [
    "import dask.dataframe as dd\n",
    "\n",
    "preprocessor = NewsPreprocessor()\n",
    "\n",
    "dask_df = dd.from_pandas(fake_news_df, npartitions=4)  \n",
    "\n",
    "dask_df['content'] = dask_df['content'].map_partitions(lambda df: df.apply(lambda x: preprocessor.preprocess(x))).\\\n",
    "compute(scheduler='multiprocessing')\n",
    "\n",
    "# convert back to pandas dataframe \n",
    "fake_news_df = dask_df.compute()\n"
   ]
  },
  {
   "cell_type": "code",
   "execution_count": 14,
   "id": "86ec3e32",
   "metadata": {},
   "outputs": [
    {
     "data": {
      "text/plain": [
       "'flynn hillary clinton big woman campus breitbart ever get feeling life circle roundabout rather head straight line toward intended destination hillary clinton remains big woman campus leafy liberal wellesley massachusetts everywhere else vote likely inauguration dress remainder day way miss havisham forever wore wedding dress speaking great expectation hillary rodham overflowed year ago first addressed wellesley graduating class president college informed gathered student needed debate far could ascertain spokesman kind like democratic primary minus term unknown even seven sister school glad miss adam made clear speaking today u u miss rodham told classmate appointing edger bergen charlie mccarthy mortimer snerds attendance bespectacled granny glass awarding matronly wisdom least john lennon wisdom took issue previous speaker despite becoming first win election seat u senate since reconstruction edward brooke came criticism calling empathy goal protestors criticized tactic though clinton senior thesis saul alinsky lamented black power demagogue elitist arrogance repressive intolerance within new left similar word coming republican necessitated brief rebuttal trust rodham ironically observed one word asked class rehearsal wanted say everyone came said talk trust talk lack trust u way feel others talk trust bust say say feeling permeates generation perhaps even understood distrusted trust bust certainly busted clinton plan certainly even understand people distrusted whitewater travelgate vast conspiracy benghazi missing email clinton found distrusted voice friday load compromising road broadening political horizon distrust american people trump edged percent percent question immediately prior november election stood major reason closing horizon clinton described vanquisher supporter embracing lie con alternative fact assault truth reason failed explain american people chose lie truth history major among today know well people power invent fact attack question mark beginning end free society offered hyperbole like many people emerge hillary clinton embarked upon long strange trip high school goldwater girl wellesley college republican president democratic politician clinton drank time place gave degree significantly went idealist cynic comparison two wellesley commencement address show way back lamented long leader viewed politics art possible challenge practice politics art making appears impossible possible big woman campus odd woman white house wonder current station even possible point ahead asked september may asks president woman famously dubbed congenital liar bill safire concludes lie mind getting stood election day like finding jilted bride wedding day inspires dangerous delusion'"
      ]
     },
     "execution_count": 14,
     "metadata": {},
     "output_type": "execute_result"
    }
   ],
   "source": [
    "# check the content text \n",
    "fake_news_df.iloc[1][\"content\"]"
   ]
  },
  {
   "cell_type": "markdown",
   "id": "832c2524",
   "metadata": {},
   "source": [
    "After conducting the EDA analysis, we transitioned to data preprocessing. Processing ensures that all text is consistent and in a uniform format. we implemented a class, `NewsPreprocessor`, equipped with functions that can accomplish important task to make convert the text into a uniform structure like; removeing non-alphabetic characters, converting all text to lowercase, exclude commonly used words, and converting words to their base form. \n",
    "\n",
    "Given the sizable dataset, a straightforward application of these functions might be computationally intensive and time-consuming. Therefore, to expedite this preprocessing phase, we employed Dask, a flexible parallel computing library that integrates seamlessly with popular Python libraries like Pandas. By partitioning our data into segments and applying the preprocessing steps in parallel across these partitions, we substantially reduced the total processing time."
   ]
  },
  {
   "cell_type": "markdown",
   "id": "dcdb0db0",
   "metadata": {},
   "source": [
    "# Data Partitioning"
   ]
  },
  {
   "cell_type": "code",
   "execution_count": 14,
   "id": "073433c9",
   "metadata": {},
   "outputs": [],
   "source": [
    "# data splitting\n",
    "train_df, test_df = train_test_split(fake_news_df, test_size=0.2, random_state=42)\n",
    "train_X = train_df['content']\n",
    "test_X = test_df['content']\n",
    "train_y = train_df['label']\n",
    "test_y = test_df['label']\n"
   ]
  },
  {
   "cell_type": "code",
   "execution_count": 179,
   "id": "9a6d669f",
   "metadata": {},
   "outputs": [
    {
     "data": {
      "text/html": [
       "<div>\n",
       "<style scoped>\n",
       "    .dataframe tbody tr th:only-of-type {\n",
       "        vertical-align: middle;\n",
       "    }\n",
       "\n",
       "    .dataframe tbody tr th {\n",
       "        vertical-align: top;\n",
       "    }\n",
       "\n",
       "    .dataframe thead th {\n",
       "        text-align: right;\n",
       "    }\n",
       "</style>\n",
       "<table border=\"1\" class=\"dataframe\">\n",
       "  <thead>\n",
       "    <tr style=\"text-align: right;\">\n",
       "      <th></th>\n",
       "      <th>title</th>\n",
       "      <th>text</th>\n",
       "      <th>label</th>\n",
       "      <th>content</th>\n",
       "    </tr>\n",
       "  </thead>\n",
       "  <tbody>\n",
       "    <tr>\n",
       "      <th>5933</th>\n",
       "      <td>Raccoons in Central Park Draw Crowds, and Warn...</td>\n",
       "      <td>Like a little crew of   bandits, the first few...</td>\n",
       "      <td>0</td>\n",
       "      <td>Raccoons in Central Park Draw Crowds, and Warn...</td>\n",
       "    </tr>\n",
       "    <tr>\n",
       "      <th>9646</th>\n",
       "      <td>Bolton on Susan Rice Scandal: Obama Needs to B...</td>\n",
       "      <td>On Thursday’s Breitbart News Daily, SiriusXM h...</td>\n",
       "      <td>0</td>\n",
       "      <td>Bolton on Susan Rice Scandal: Obama Needs to B...</td>\n",
       "    </tr>\n",
       "    <tr>\n",
       "      <th>8642</th>\n",
       "      <td>IF HILLARY CLINTON IS CHARGED WITH OBSTRUCTION...</td>\n",
       "      <td>Home › POLITICS › IF HILLARY CLINTON IS CHARGE...</td>\n",
       "      <td>1</td>\n",
       "      <td>IF HILLARY CLINTON IS CHARGED WITH OBSTRUCTION...</td>\n",
       "    </tr>\n",
       "    <tr>\n",
       "      <th>15126</th>\n",
       "      <td>New York Times’s Moscow Bureau Was Targeted by...</td>\n",
       "      <td>The New York Times’s Moscow bureau was the tar...</td>\n",
       "      <td>0</td>\n",
       "      <td>New York Times’s Moscow Bureau Was Targeted by...</td>\n",
       "    </tr>\n",
       "    <tr>\n",
       "      <th>3410</th>\n",
       "      <td>Gays Against Sharia March Branded ’Islamophobi...</td>\n",
       "      <td>An event organised by Gays Against Sharia to m...</td>\n",
       "      <td>0</td>\n",
       "      <td>Gays Against Sharia March Branded ’Islamophobi...</td>\n",
       "    </tr>\n",
       "    <tr>\n",
       "      <th>...</th>\n",
       "      <td>...</td>\n",
       "      <td>...</td>\n",
       "      <td>...</td>\n",
       "      <td>...</td>\n",
       "    </tr>\n",
       "    <tr>\n",
       "      <th>11284</th>\n",
       "      <td>TRUMP SUPPORTER GOT NUTS On MSNBC Reporter Cov...</td>\n",
       "      <td>Go to Article A Trump supporter wearing a Trum...</td>\n",
       "      <td>1</td>\n",
       "      <td>TRUMP SUPPORTER GOT NUTS On MSNBC Reporter Cov...</td>\n",
       "    </tr>\n",
       "    <tr>\n",
       "      <th>11964</th>\n",
       "      <td>Watch Megyn Kelly almost cry on air when Trump...</td>\n",
       "      <td>Watch Megyn Kelly almost cry on air when Trump...</td>\n",
       "      <td>1</td>\n",
       "      <td>Watch Megyn Kelly almost cry on air when Trump...</td>\n",
       "    </tr>\n",
       "    <tr>\n",
       "      <th>5390</th>\n",
       "      <td>How to Pay for College With Less Stress - The ...</td>\n",
       "      <td>In this our quadrennial season of financial ho...</td>\n",
       "      <td>0</td>\n",
       "      <td>How to Pay for College With Less Stress - The ...</td>\n",
       "    </tr>\n",
       "    <tr>\n",
       "      <th>860</th>\n",
       "      <td>Russian scientists will track sea lions from s...</td>\n",
       "      <td>Russian scientists will track sea lions from s...</td>\n",
       "      <td>1</td>\n",
       "      <td>Russian scientists will track sea lions from s...</td>\n",
       "    </tr>\n",
       "    <tr>\n",
       "      <th>15795</th>\n",
       "      <td>Heseltine strangled dog as part of Thatcher ca...</td>\n",
       "      <td>Heseltine strangled dog as part of Thatcher ca...</td>\n",
       "      <td>1</td>\n",
       "      <td>Heseltine strangled dog as part of Thatcher ca...</td>\n",
       "    </tr>\n",
       "  </tbody>\n",
       "</table>\n",
       "<p>16640 rows × 4 columns</p>\n",
       "</div>"
      ],
      "text/plain": [
       "                                                   title  \\\n",
       "5933   Raccoons in Central Park Draw Crowds, and Warn...   \n",
       "9646   Bolton on Susan Rice Scandal: Obama Needs to B...   \n",
       "8642   IF HILLARY CLINTON IS CHARGED WITH OBSTRUCTION...   \n",
       "15126  New York Times’s Moscow Bureau Was Targeted by...   \n",
       "3410   Gays Against Sharia March Branded ’Islamophobi...   \n",
       "...                                                  ...   \n",
       "11284  TRUMP SUPPORTER GOT NUTS On MSNBC Reporter Cov...   \n",
       "11964  Watch Megyn Kelly almost cry on air when Trump...   \n",
       "5390   How to Pay for College With Less Stress - The ...   \n",
       "860    Russian scientists will track sea lions from s...   \n",
       "15795  Heseltine strangled dog as part of Thatcher ca...   \n",
       "\n",
       "                                                    text  label  \\\n",
       "5933   Like a little crew of   bandits, the first few...      0   \n",
       "9646   On Thursday’s Breitbart News Daily, SiriusXM h...      0   \n",
       "8642   Home › POLITICS › IF HILLARY CLINTON IS CHARGE...      1   \n",
       "15126  The New York Times’s Moscow bureau was the tar...      0   \n",
       "3410   An event organised by Gays Against Sharia to m...      0   \n",
       "...                                                  ...    ...   \n",
       "11284  Go to Article A Trump supporter wearing a Trum...      1   \n",
       "11964  Watch Megyn Kelly almost cry on air when Trump...      1   \n",
       "5390   In this our quadrennial season of financial ho...      0   \n",
       "860    Russian scientists will track sea lions from s...      1   \n",
       "15795  Heseltine strangled dog as part of Thatcher ca...      1   \n",
       "\n",
       "                                                 content  \n",
       "5933   Raccoons in Central Park Draw Crowds, and Warn...  \n",
       "9646   Bolton on Susan Rice Scandal: Obama Needs to B...  \n",
       "8642   IF HILLARY CLINTON IS CHARGED WITH OBSTRUCTION...  \n",
       "15126  New York Times’s Moscow Bureau Was Targeted by...  \n",
       "3410   Gays Against Sharia March Branded ’Islamophobi...  \n",
       "...                                                  ...  \n",
       "11284  TRUMP SUPPORTER GOT NUTS On MSNBC Reporter Cov...  \n",
       "11964  Watch Megyn Kelly almost cry on air when Trump...  \n",
       "5390   How to Pay for College With Less Stress - The ...  \n",
       "860    Russian scientists will track sea lions from s...  \n",
       "15795  Heseltine strangled dog as part of Thatcher ca...  \n",
       "\n",
       "[16640 rows x 4 columns]"
      ]
     },
     "execution_count": 179,
     "metadata": {},
     "output_type": "execute_result"
    }
   ],
   "source": []
  },
  {
   "cell_type": "markdown",
   "id": "a59b0eec",
   "metadata": {},
   "source": [
    "# Text Tokenizer"
   ]
  },
  {
   "cell_type": "markdown",
   "id": "025cbd74",
   "metadata": {},
   "source": [
    "When dealing with textual data for deep learning or any machine learning models, one of the preliminary steps involves converting this textual data into a numerical format."
   ]
  },
  {
   "cell_type": "code",
   "execution_count": 16,
   "id": "9b822bf0",
   "metadata": {},
   "outputs": [],
   "source": [
    "tokenizer = Tokenizer(num_words=20000, oov_token=\"<OOV>\")\n",
    "\n",
    "tokenizer.fit_on_texts(train_X)\n",
    "\n",
    "# tokenize the training and test data\n",
    "train_sequences = tokenizer.texts_to_sequences(train_X)\n",
    "test_sequences = tokenizer.texts_to_sequences(test_X)\n",
    "\n",
    "max_length = int(np.percentile([len(seq) for seq in train_sequences], 95))\n",
    "\n",
    "# padding the sequences\n",
    "train_padded = pad_sequences(train_sequences, padding='post', maxlen=max_length)\n",
    "test_padded = pad_sequences(test_sequences, padding='post', maxlen=max_length)"
   ]
  },
  {
   "cell_type": "code",
   "execution_count": 17,
   "id": "c8f8d4e1",
   "metadata": {},
   "outputs": [],
   "source": [
    "import pickle\n",
    "\n",
    "# Save the tokenizer\n",
    "with open('deeplearning_tokenizer.pickle', 'wb') as handle:\n",
    "    pickle.dump(tokenizer, handle, protocol=pickle.HIGHEST_PROTOCOL)\n"
   ]
  },
  {
   "cell_type": "markdown",
   "id": "d9bb3118",
   "metadata": {},
   "source": [
    "1. The Tokenizer is initialized with a parameter, `num_words=20000`, which means that the tokenizer will only keep the 20,000 most common words in the dataset. Any other word, which is not part of these 20,000, will be marked with a special out-of-vocabulary token, OOV. This ensures that rare words, which might not contribute much to the model's understanding but can add computational complexity, are effectively managed.\n",
    "\n",
    "\n",
    "2. Then we fit our tokenizer on our training data. This step is very important which creates a dictionary- like mapping where each word in the training data gets a unique integer, based on its frequency.\n",
    "\n",
    "\n",
    "3. Afterwards, we transforming text to sequences, which means that we convert our training data and test textual data respectively into sequences of integers. Each word in the text gets its respective integer value from the dictionary created in the previous step. \n",
    "\n",
    "\n",
    "4. The final step is padding. Padding is an essential step in neural network and deep learning models. Different texts will naturally have different lengths. But neural networks prefer inputs that have a consistent shape and size. So, we add padding to make all sequences of the same length. The chosen length here is the 95th percentile of the sequence lengths in the training data, meaning we're covering the lengths of most of our sequences without having exceedingly long array lengths. The pad_sequences method pads shorter sequences with zeros (at the end, because of padding='post') and truncates longer sequences to the specified max_length."
   ]
  },
  {
   "cell_type": "markdown",
   "id": "364903d5",
   "metadata": {},
   "source": [
    "After all this, the tokenizer is saved using the pickle module. This is crucial because, later on, when we're deploying the model or using it for inference on new data, we want to ensure that the new data goes through the exact same transformation as we training data. "
   ]
  },
  {
   "cell_type": "markdown",
   "id": "0eea9065",
   "metadata": {},
   "source": [
    "# Modeling"
   ]
  },
  {
   "cell_type": "markdown",
   "id": "71da07e4",
   "metadata": {},
   "source": [
    "## Deep Learning Models"
   ]
  },
  {
   "cell_type": "markdown",
   "id": "ce787cd0",
   "metadata": {},
   "source": [
    "### Word2Vec Embeddings"
   ]
  },
  {
   "cell_type": "markdown",
   "id": "8c47f9f8",
   "metadata": {},
   "source": [
    "Word embeddings are a type of word representation that allows words to be represented by dense vectors where a vector represents the 'meaning' of a word. This is in contrast to sparse representations like one-hot encoding. Dense vectors are used because they are more efficient and can capture the semantic similarities between words based on the contexts in which they appear.\n",
    "\n",
    "For instance, in a dense vector space, words like \"president\" and \"election\" are more likely to be situated close to each other, as they often appear in similar contexts and have related meanings (both are utensils). The \"distance\" between two word vectors tends to relate to semantic similarity.\n",
    "\n",
    "**Word2Vec:** Word2Vec is a technique to compute such word embeddings. It uses a shallow neural network model that's trained to reconstruct the linguistic contexts of words. It captures two things mainly: 1- Words with similar mearning are located close to each other in the vector space. 2- It also reflects various degress of similarity between words like \"strong\" and \"stronger\". "
   ]
  },
  {
   "cell_type": "code",
   "execution_count": 27,
   "id": "c834dbb7",
   "metadata": {},
   "outputs": [],
   "source": [
    "#!pip install gensim --quiet"
   ]
  },
  {
   "cell_type": "code",
   "execution_count": 31,
   "id": "e4b92b13",
   "metadata": {},
   "outputs": [],
   "source": [
    "from gensim.models import Word2Vec, KeyedVectors"
   ]
  },
  {
   "cell_type": "code",
   "execution_count": 34,
   "id": "664db7aa",
   "metadata": {},
   "outputs": [],
   "source": [
    "from gensim.models import KeyedVectors\n",
    "\n",
    "word2vec_path = 'GoogleNews-vectors-negative300.bin'\n",
    "word2vec_model = KeyedVectors.load_word2vec_format(word2vec_path, binary=True)\n"
   ]
  },
  {
   "cell_type": "markdown",
   "id": "5a849431",
   "metadata": {},
   "source": [
    "We used GoogleNews-vectors-negative300 which is a specific pre-trained word embedding model provided by Google. It was trained on a part of the Google News dataset, covering a vast range of topics from news articles. The model is already trained on a large corpus (Google News), which saves significant time and computetional power. Given it's trained on a news articles, the embeddings have a good understanding of a wide variety of topics and a rich vocabulary. "
   ]
  },
  {
   "cell_type": "code",
   "execution_count": 38,
   "id": "5dae750d",
   "metadata": {},
   "outputs": [],
   "source": [
    "EMBEDDING_DIM = 300"
   ]
  },
  {
   "cell_type": "code",
   "execution_count": 40,
   "id": "079dab23",
   "metadata": {},
   "outputs": [],
   "source": [
    "# embedding matrix\n",
    "embedding_matrix = np.zeros((len(tokenizer.word_index) + 1, EMBEDDING_DIM))\n",
    "for word, i in tokenizer.word_index.items():\n",
    "    try:\n",
    "        embedding_vector = word2vec_model[word]\n",
    "        embedding_matrix[i] = embedding_vector\n",
    "    except KeyError:  # word not in Word2Vec\n",
    "        pass"
   ]
  },
  {
   "cell_type": "markdown",
   "id": "cc46b9d9",
   "metadata": {},
   "source": [
    "The embedding matrix is a crucial component here. It's a matrix where each row represents a word in your model's vocabulary (which is created by the Tokenizer), and each column corresponds to a dimension in the embedding space (set by EMBEDDING_DIM, which needs to match the dimensions of the pre-trained Word2Vec embeddings).\n",
    "\n",
    "We set the embedding dimension to 300 which matches to the 300-sized word vectors of google news vectors. "
   ]
  },
  {
   "cell_type": "markdown",
   "id": "372acbc9",
   "metadata": {},
   "source": [
    "### Running LSTM Network"
   ]
  },
  {
   "cell_type": "code",
   "execution_count": 41,
   "id": "3ebefabb",
   "metadata": {},
   "outputs": [
    {
     "name": "stdout",
     "output_type": "stream",
     "text": [
      "Model: \"sequential\"\n",
      "_________________________________________________________________\n",
      " Layer (type)                Output Shape              Param #   \n",
      "=================================================================\n",
      " embedding (Embedding)       (None, 1037, 300)         29616900  \n",
      "                                                                 \n",
      " lstm (LSTM)                 (None, 128)               219648    \n",
      "                                                                 \n",
      " dense (Dense)               (None, 1)                 129       \n",
      "                                                                 \n",
      "=================================================================\n",
      "Total params: 29836677 (113.82 MB)\n",
      "Trainable params: 219777 (858.50 KB)\n",
      "Non-trainable params: 29616900 (112.98 MB)\n",
      "_________________________________________________________________\n"
     ]
    }
   ],
   "source": [
    "from tensorflow.keras.models import Sequential\n",
    "from tensorflow.keras.layers import Embedding, LSTM, Dense\n",
    "\n",
    "LSTM_model = Sequential()\n",
    "\n",
    "LSTM_model.add(Embedding(len(tokenizer.word_index) + 1,\n",
    "                         EMBEDDING_DIM,\n",
    "                         weights=[embedding_matrix],\n",
    "                         input_length=max_length,\n",
    "                         trainable=False)) #this argument in the Embedding layer means that the embeddings will not be updated during training. This is what we want if we're using pre-trained embeddings and don't want to adjust them.\n",
    "# LSTM layer\n",
    "LSTM_model.add(LSTM(128))\n",
    "\n",
    "LSTM_model.add(Dense(1, activation='sigmoid'))\n",
    "\n",
    "LSTM_model.compile(optimizer='adam', loss='binary_crossentropy', metrics=['accuracy'])\n",
    "\n",
    "LSTM_model.summary()"
   ]
  },
  {
   "cell_type": "code",
   "execution_count": 42,
   "id": "77b083c1",
   "metadata": {},
   "outputs": [
    {
     "name": "stdout",
     "output_type": "stream",
     "text": [
      "Epoch 1/10\n",
      "520/520 [==============================] - 585s 1s/step - loss: 0.6851 - accuracy: 0.5150 - val_loss: 0.6862 - val_accuracy: 0.5034\n",
      "Epoch 2/10\n",
      "520/520 [==============================] - 613s 1s/step - loss: 0.6813 - accuracy: 0.5154 - val_loss: 0.7169 - val_accuracy: 0.5012\n",
      "Epoch 3/10\n",
      "520/520 [==============================] - 638s 1s/step - loss: 0.6923 - accuracy: 0.5091 - val_loss: 0.6888 - val_accuracy: 0.5135\n",
      "Epoch 4/10\n",
      "520/520 [==============================] - 634s 1s/step - loss: 0.6379 - accuracy: 0.5909 - val_loss: 0.4726 - val_accuracy: 0.7767\n",
      "Epoch 5/10\n",
      "520/520 [==============================] - 673s 1s/step - loss: 0.3559 - accuracy: 0.8478 - val_loss: 0.2801 - val_accuracy: 0.8796\n",
      "Epoch 6/10\n",
      "520/520 [==============================] - 698s 1s/step - loss: 0.2252 - accuracy: 0.9110 - val_loss: 0.2109 - val_accuracy: 0.9118\n",
      "Epoch 7/10\n",
      "520/520 [==============================] - 671s 1s/step - loss: 0.1721 - accuracy: 0.9316 - val_loss: 0.1996 - val_accuracy: 0.9252\n",
      "Epoch 8/10\n",
      "520/520 [==============================] - 625s 1s/step - loss: 0.1412 - accuracy: 0.9452 - val_loss: 0.1833 - val_accuracy: 0.9298\n",
      "Epoch 9/10\n",
      "520/520 [==============================] - 619s 1s/step - loss: 0.1200 - accuracy: 0.9534 - val_loss: 0.1669 - val_accuracy: 0.9373\n",
      "Epoch 10/10\n",
      "520/520 [==============================] - 562s 1s/step - loss: 0.1016 - accuracy: 0.9609 - val_loss: 0.1788 - val_accuracy: 0.9380\n"
     ]
    }
   ],
   "source": [
    "history_LSTM = LSTM_model.fit(train_padded, train_y, epochs=10, validation_data=(test_padded, test_y))"
   ]
  },
  {
   "cell_type": "code",
   "execution_count": 43,
   "id": "5482470a",
   "metadata": {},
   "outputs": [
    {
     "data": {
      "image/png": "[encoded data removed]",
      "text/plain": [
       "<Figure size 864x288 with 1 Axes>"
      ]
     },
     "metadata": {
      "needs_background": "light"
     },
     "output_type": "display_data"
    }
   ],
   "source": [
    "plt.figure(figsize=(12, 4))\n",
    "\n",
    "plt.plot(history_LSTM.history['accuracy'])\n",
    "plt.plot(history_LSTM.history['val_accuracy'])\n",
    "plt.title('Model accuracy')\n",
    "plt.ylabel('Accuracy')\n",
    "plt.xlabel('Epoch')\n",
    "plt.legend(['Train', 'Validation'], loc='upper left')\n",
    "\n",
    "plt.tight_layout()\n",
    "plt.show()"
   ]
  },
  {
   "cell_type": "code",
   "execution_count": 44,
   "id": "694d6e39",
   "metadata": {},
   "outputs": [
    {
     "data": {
      "image/png": "[encoded data removed]",
      "text/plain": [
       "<Figure size 864x288 with 1 Axes>"
      ]
     },
     "metadata": {
      "needs_background": "light"
     },
     "output_type": "display_data"
    }
   ],
   "source": [
    "plt.figure(figsize=(12, 4))\n",
    "plt.plot(history_LSTM.history['loss'])\n",
    "plt.plot(history_LSTM.history['val_loss'])\n",
    "plt.title('Model loss')\n",
    "plt.ylabel('Loss')\n",
    "plt.xlabel('Epoch')\n",
    "plt.legend(['Train', 'Validation'], loc='upper left')\n",
    "\n",
    "plt.tight_layout()\n",
    "plt.show()"
   ]
  },
  {
   "cell_type": "markdown",
   "id": "68ba55bf",
   "metadata": {},
   "source": [
    "**Loss:** The loss on both the training and validation sets decreases over the epochs. This indicates that the model is learning and the error is reducing.\n",
    "\n",
    "**Accuracy:** The accuracy for both the training and validation sets is increasing, which means the model is classifying more samples correctly as the training progresses.\n",
    "\n",
    "**Validation vs. Training Performance:** The validation accuracy and loss are very close to the training accuracy and loss, which is a good sign. It indicates that the model is generalizing well to unseen data and is not overfitting to the training set.\n",
    "\n",
    "**Convergence:** Around the 5th epoch, there is a sharp increase in accuracy and a sharp decrease in loss. This is the point where the model seems to have figured out a good representation and is making significant improvements.\n",
    "\n",
    "**Final Performance:** By the end of the 10 epochs, the training accuracy is around 96.09% and the validation accuracy is around 93.80%. This is a strong performance, especially on a task like fake news detection which can be quite challenging.\n",
    "\n",
    "The model seems to be performing well without signs of overfitting, which means that the embedding layer with the pre-trained weights (Word2Vec or GloVe) has helped in capturing semantic information about the words."
   ]
  },
  {
   "cell_type": "code",
   "execution_count": 45,
   "id": "64881538",
   "metadata": {},
   "outputs": [],
   "source": [
    "# model evaluation test dataset\n",
    "def model_evaluation(model,X_test,y_test):\n",
    "    score = model.evaluate(X_test, y_test, verbose=0)\n",
    "    #print(f'Test loss: {score[0]} / Test accuracy: {score[1]}')\n",
    "    return score"
   ]
  },
  {
   "cell_type": "code",
   "execution_count": 46,
   "id": "02b03f30",
   "metadata": {},
   "outputs": [
    {
     "data": {
      "text/plain": [
       "[0.1787964254617691, 0.9379807710647583]"
      ]
     },
     "execution_count": 46,
     "metadata": {},
     "output_type": "execute_result"
    }
   ],
   "source": [
    "model_evaluation(LSTM_model,test_padded, test_y)"
   ]
  },
  {
   "cell_type": "code",
   "execution_count": 49,
   "id": "956fef31",
   "metadata": {},
   "outputs": [],
   "source": [
    "if not os.path.exists('Saved_models'):\n",
    "    os.makedirs('Saved_models')"
   ]
  },
  {
   "cell_type": "code",
   "execution_count": 50,
   "id": "332c9515",
   "metadata": {},
   "outputs": [],
   "source": [
    "LSTM_model.save('saved_models/lstm_model.h5')"
   ]
  },
  {
   "cell_type": "markdown",
   "id": "ff0e215d",
   "metadata": {},
   "source": [
    "### Running RNN Network"
   ]
  },
  {
   "cell_type": "code",
   "execution_count": 51,
   "id": "fd99d96c",
   "metadata": {},
   "outputs": [
    {
     "name": "stdout",
     "output_type": "stream",
     "text": [
      "Model: \"sequential_1\"\n",
      "_________________________________________________________________\n",
      " Layer (type)                Output Shape              Param #   \n",
      "=================================================================\n",
      " embedding_1 (Embedding)     (None, 1037, 300)         29616900  \n",
      "                                                                 \n",
      " simple_rnn (SimpleRNN)      (None, 128)               54912     \n",
      "                                                                 \n",
      " dense_1 (Dense)             (None, 1)                 129       \n",
      "                                                                 \n",
      "=================================================================\n",
      "Total params: 29671941 (113.19 MB)\n",
      "Trainable params: 55041 (215.00 KB)\n",
      "Non-trainable params: 29616900 (112.98 MB)\n",
      "_________________________________________________________________\n"
     ]
    }
   ],
   "source": [
    "from tensorflow.keras.layers import Embedding, SimpleRNN, Dense\n",
    "\n",
    "RNN_model = Sequential()\n",
    "\n",
    "RNN_model.add(Embedding(input_dim=len(tokenizer.word_index) + 1,\n",
    "                        output_dim=EMBEDDING_DIM,\n",
    "                        weights=[embedding_matrix],\n",
    "                        input_length=max_length,\n",
    "                        trainable=False))\n",
    "\n",
    "# SimpleRNN layer\n",
    "RNN_model.add(SimpleRNN(128))\n",
    "\n",
    "RNN_model.add(Dense(1, activation='sigmoid'))\n",
    "\n",
    "RNN_model.compile(optimizer='adam', loss='binary_crossentropy', metrics=['accuracy'])\n",
    "\n",
    "RNN_model.summary()"
   ]
  },
  {
   "cell_type": "code",
   "execution_count": 52,
   "id": "67a33ae2",
   "metadata": {},
   "outputs": [
    {
     "name": "stdout",
     "output_type": "stream",
     "text": [
      "Epoch 1/10\n",
      "520/520 [==============================] - 194s 370ms/step - loss: 0.6955 - accuracy: 0.5017 - val_loss: 0.6925 - val_accuracy: 0.5070\n",
      "Epoch 2/10\n",
      "520/520 [==============================] - 194s 374ms/step - loss: 0.6894 - accuracy: 0.5100 - val_loss: 0.6880 - val_accuracy: 0.5216\n",
      "Epoch 3/10\n",
      "520/520 [==============================] - 181s 347ms/step - loss: 0.6833 - accuracy: 0.5244 - val_loss: 0.7102 - val_accuracy: 0.4870\n",
      "Epoch 4/10\n",
      "520/520 [==============================] - 185s 357ms/step - loss: 0.6949 - accuracy: 0.5249 - val_loss: 0.6935 - val_accuracy: 0.5248\n",
      "Epoch 5/10\n",
      "520/520 [==============================] - 178s 342ms/step - loss: 0.6919 - accuracy: 0.5213 - val_loss: 0.6956 - val_accuracy: 0.5055\n",
      "Epoch 6/10\n",
      "520/520 [==============================] - 187s 360ms/step - loss: 0.6916 - accuracy: 0.5215 - val_loss: 0.6924 - val_accuracy: 0.5240\n",
      "Epoch 7/10\n",
      "520/520 [==============================] - 177s 340ms/step - loss: 0.6906 - accuracy: 0.5293 - val_loss: 0.6912 - val_accuracy: 0.5269\n",
      "Epoch 8/10\n",
      "520/520 [==============================] - 180s 347ms/step - loss: 0.6900 - accuracy: 0.5314 - val_loss: 0.6965 - val_accuracy: 0.5252\n",
      "Epoch 9/10\n",
      "520/520 [==============================] - 180s 346ms/step - loss: 0.6884 - accuracy: 0.5418 - val_loss: 0.6931 - val_accuracy: 0.5226\n",
      "Epoch 10/10\n",
      "520/520 [==============================] - 198s 381ms/step - loss: 0.6886 - accuracy: 0.5309 - val_loss: 0.6922 - val_accuracy: 0.5144\n"
     ]
    }
   ],
   "source": [
    "history_RNN = RNN_model.fit(train_padded, train_y, epochs=10, validation_data=(test_padded, test_y))"
   ]
  },
  {
   "cell_type": "code",
   "execution_count": 53,
   "id": "b23f2dd8",
   "metadata": {},
   "outputs": [
    {
     "data": {
      "image/png": "[encoded data removed]",
      "text/plain": [
       "<Figure size 864x288 with 1 Axes>"
      ]
     },
     "metadata": {
      "needs_background": "light"
     },
     "output_type": "display_data"
    }
   ],
   "source": [
    "plt.figure(figsize=(12, 4))\n",
    "\n",
    "plt.plot(history_RNN.history['accuracy'])\n",
    "plt.plot(history_RNN.history['val_accuracy'])\n",
    "plt.title('Model accuracy')\n",
    "plt.ylabel('Accuracy')\n",
    "plt.xlabel('Epoch')\n",
    "plt.legend(['Train', 'Validation'], loc='upper left')\n",
    "\n",
    "plt.tight_layout()\n",
    "plt.show()"
   ]
  },
  {
   "cell_type": "code",
   "execution_count": 54,
   "id": "a97a6c73",
   "metadata": {},
   "outputs": [
    {
     "data": {
      "image/png": "[encoded data removed]",
      "text/plain": [
       "<Figure size 864x288 with 1 Axes>"
      ]
     },
     "metadata": {
      "needs_background": "light"
     },
     "output_type": "display_data"
    }
   ],
   "source": [
    "plt.figure(figsize=(12, 4))\n",
    "plt.plot(history_RNN.history['loss'])\n",
    "plt.plot(history_RNN.history['val_loss'])\n",
    "plt.title('Model loss')\n",
    "plt.ylabel('Loss')\n",
    "plt.xlabel('Epoch')\n",
    "plt.legend(['Train', 'Validation'], loc='upper left')\n",
    "\n",
    "plt.tight_layout()\n",
    "plt.show()"
   ]
  },
  {
   "cell_type": "code",
   "execution_count": 55,
   "id": "4e089590",
   "metadata": {},
   "outputs": [
    {
     "data": {
      "text/plain": [
       "[0.69222092628479, 0.5144230723381042]"
      ]
     },
     "execution_count": 55,
     "metadata": {},
     "output_type": "execute_result"
    }
   ],
   "source": [
    "model_evaluation(RNN_model,test_padded, test_y)"
   ]
  },
  {
   "cell_type": "markdown",
   "id": "6937644a",
   "metadata": {},
   "source": [
    "**Training Accuracy:** The model reaches an accuracy of approximately 53% on the training data.\n",
    "\n",
    "**Validation Accuracy:** The accuracy on the validation data is around 51%, similar to the training accuracy.\n",
    "\n",
    "**Loss:** The loss seems to decrease slightly but doesn't show significant improvement over epochs, which suggests the model isn't learning effectively from the data."
   ]
  },
  {
   "cell_type": "markdown",
   "id": "0883d078",
   "metadata": {},
   "source": [
    "The results indicate that the model is performing slightly better than random guessing, considering that an accuracy of 50% would be equivalent to random guesses in binary classification. This modest performance can be attributed to several factors, but primarily to the \"vanishing gradient\" problem common in SimpleRNNs, which makes them less effective for long sequences, as they struggle to carry information across many time steps during training."
   ]
  },
  {
   "cell_type": "markdown",
   "id": "9559b6ec",
   "metadata": {},
   "source": [
    "\"Random guessing\" in the context of classification problems. The random guessing refers to a baseline method where the classification is done randomly, without any consideration of the input data.\n",
    "\n",
    "In a binary classification (two possible outcomes), if we were to randomly guess the class of any given input, we'd theoretically be correct about 50% of the time, assuming the classes are evenly distributed. This 50% accuracy is not based on understanding, learning, or identifying patterns in the data, but purely on chance.\n",
    "\n",
    "So, when we say a model's accuracy is \"slightly better than random guessing,\" we mean that the model's predictions are only slightly better than what would be achieved by chance alone. In the context of our model's performance, an accuracy of around 51-53% is very close to the 50% mark, which would be achieved by random guessing in a balanced binary classification task.\n",
    "\n",
    "If a model performs at or near the level of random guessing, it suggests that it isn't effectively learning from the data, possibly due to underfitting, overfitting, or the quality of the data itself.\n"
   ]
  },
  {
   "cell_type": "code",
   "execution_count": 63,
   "id": "e909cd98",
   "metadata": {},
   "outputs": [],
   "source": [
    "RNN_model.save('saved_models/rnn_model.h5')"
   ]
  },
  {
   "cell_type": "markdown",
   "id": "3422e93d",
   "metadata": {},
   "source": [
    "### Running GRU Network "
   ]
  },
  {
   "cell_type": "code",
   "execution_count": 58,
   "id": "3418591a",
   "metadata": {},
   "outputs": [
    {
     "name": "stdout",
     "output_type": "stream",
     "text": [
      "Model: \"sequential_3\"\n",
      "_________________________________________________________________\n",
      " Layer (type)                Output Shape              Param #   \n",
      "=================================================================\n",
      " embedding_2 (Embedding)     (None, 1037, 300)         29616900  \n",
      "                                                                 \n",
      " gru (GRU)                   (None, 128)               165120    \n",
      "                                                                 \n",
      " dense_2 (Dense)             (None, 1)                 129       \n",
      "                                                                 \n",
      "=================================================================\n",
      "Total params: 29782149 (113.61 MB)\n",
      "Trainable params: 165249 (645.50 KB)\n",
      "Non-trainable params: 29616900 (112.98 MB)\n",
      "_________________________________________________________________\n"
     ]
    }
   ],
   "source": [
    "from tensorflow.keras.layers import Embedding, GRU, Dense\n",
    "\n",
    "GRU_model = Sequential()\n",
    "\n",
    "GRU_model.add(Embedding(input_dim=len(tokenizer.word_index) + 1,\n",
    "                        output_dim=EMBEDDING_DIM,\n",
    "                        weights=[embedding_matrix],\n",
    "                        input_length=max_length,\n",
    "                        trainable=False))\n",
    "\n",
    "\n",
    "# GRU layer\n",
    "GRU_model.add(GRU(128))\n",
    "\n",
    "GRU_model.add(Dense(1, activation='sigmoid'))\n",
    "\n",
    "GRU_model.compile(optimizer='adam', loss='binary_crossentropy', metrics=['accuracy'])\n",
    "\n",
    "GRU_model.summary()"
   ]
  },
  {
   "cell_type": "code",
   "execution_count": 59,
   "id": "d883c6a8",
   "metadata": {},
   "outputs": [
    {
     "name": "stdout",
     "output_type": "stream",
     "text": [
      "Epoch 1/10\n",
      "520/520 [==============================] - 445s 837ms/step - loss: 0.6857 - accuracy: 0.5136 - val_loss: 0.6824 - val_accuracy: 0.5219\n",
      "Epoch 2/10\n",
      "520/520 [==============================] - 400s 770ms/step - loss: 0.6771 - accuracy: 0.5174 - val_loss: 0.6836 - val_accuracy: 0.5058\n",
      "Epoch 3/10\n",
      "520/520 [==============================] - 401s 771ms/step - loss: 0.6522 - accuracy: 0.5606 - val_loss: 0.5044 - val_accuracy: 0.7488\n",
      "Epoch 4/10\n",
      "520/520 [==============================] - 426s 820ms/step - loss: 0.4194 - accuracy: 0.8005 - val_loss: 0.2609 - val_accuracy: 0.8938\n",
      "Epoch 5/10\n",
      "520/520 [==============================] - 427s 820ms/step - loss: 0.1939 - accuracy: 0.9216 - val_loss: 0.1767 - val_accuracy: 0.9293\n",
      "Epoch 6/10\n",
      "520/520 [==============================] - 388s 747ms/step - loss: 0.1377 - accuracy: 0.9466 - val_loss: 0.1501 - val_accuracy: 0.9445\n",
      "Epoch 7/10\n",
      "520/520 [==============================] - 435s 837ms/step - loss: 0.0988 - accuracy: 0.9634 - val_loss: 0.1419 - val_accuracy: 0.9490\n",
      "Epoch 8/10\n",
      "520/520 [==============================] - 428s 824ms/step - loss: 0.0791 - accuracy: 0.9704 - val_loss: 0.1503 - val_accuracy: 0.9474\n",
      "Epoch 9/10\n",
      "520/520 [==============================] - 436s 839ms/step - loss: 0.0596 - accuracy: 0.9777 - val_loss: 0.1452 - val_accuracy: 0.9512\n",
      "Epoch 10/10\n",
      "520/520 [==============================] - 452s 868ms/step - loss: 0.0458 - accuracy: 0.9838 - val_loss: 0.1507 - val_accuracy: 0.9543\n"
     ]
    }
   ],
   "source": [
    "history_GRU = GRU_model.fit(train_padded, train_y, epochs=10, validation_data=(test_padded, test_y))"
   ]
  },
  {
   "cell_type": "code",
   "execution_count": 60,
   "id": "2514e46c",
   "metadata": {},
   "outputs": [
    {
     "data": {
      "image/png": "[encoded data removed]",
      "text/plain": [
       "<Figure size 864x288 with 1 Axes>"
      ]
     },
     "metadata": {
      "needs_background": "light"
     },
     "output_type": "display_data"
    }
   ],
   "source": [
    "plt.figure(figsize=(12, 4))\n",
    "\n",
    "plt.plot(history_GRU.history['accuracy'])\n",
    "plt.plot(history_GRU.history['val_accuracy'])\n",
    "plt.title('Model accuracy')\n",
    "plt.ylabel('Accuracy')\n",
    "plt.xlabel('Epoch')\n",
    "plt.legend(['Train', 'Validation'], loc='upper left')\n",
    "\n",
    "plt.tight_layout()\n",
    "plt.show()"
   ]
  },
  {
   "cell_type": "code",
   "execution_count": 61,
   "id": "0bde87a7",
   "metadata": {},
   "outputs": [
    {
     "data": {
      "image/png": "[encoded data removed]",
      "text/plain": [
       "<Figure size 864x288 with 1 Axes>"
      ]
     },
     "metadata": {
      "needs_background": "light"
     },
     "output_type": "display_data"
    }
   ],
   "source": [
    "plt.figure(figsize=(12, 4))\n",
    "plt.plot(history_GRU.history['loss'])\n",
    "plt.plot(history_GRU.history['val_loss'])\n",
    "plt.title('Model loss')\n",
    "plt.ylabel('Loss')\n",
    "plt.xlabel('Epoch')\n",
    "plt.legend(['Train', 'Validation'], loc='upper left')\n",
    "\n",
    "plt.tight_layout()\n",
    "plt.show()"
   ]
  },
  {
   "cell_type": "markdown",
   "id": "4501a3fb",
   "metadata": {},
   "source": [
    "***Loss Function***"
   ]
  },
  {
   "cell_type": "markdown",
   "id": "c670a92d",
   "metadata": {},
   "source": [
    "**Loss Function:** The specific formula used to calculate the loss depends on the type of task we're trying to solve. For a binary classification task like the one we seem to be working on, the most common loss function is \"binary crossentropy\". For multi-class classification, you might use \"categorical crossentropy\", and for regression tasks, you might use \"mean squared error\".\n",
    "\n",
    "Backpropagation: This is the mechanism by which the model learns. It involves calculating the gradient of the loss function with respect to each weight by the chain rule and then updating the weights in the direction that reduces the loss.\n",
    "\n",
    "***Interpreting the Loss:***\n",
    "\n",
    "**High Loss at Start:** At the beginning of training, your model is likely initialized with random weights, so its predictions are essentially random. This is why the loss starts off high (in our GRU example, it starts around 0.7).\n",
    "\n",
    "**Decreasing Loss:** As training progresses and the model learns from the data, the predictions get better, and the loss decreases. A decreasing loss over epochs generally indicates that learning is taking place.\n",
    "\n",
    "**Low Loss:** Doesn't always mean a perfect model. While a low training loss indicates that the model is fitting well to the training data, we always have to check validation loss to ensure the model isn't overfitting and will generalize well to new, unseen data."
   ]
  },
  {
   "cell_type": "markdown",
   "id": "be7c0223",
   "metadata": {},
   "source": [
    "The performance of your GRU model looks very good. Starting from an accuracy of just over 50% in the first epoch, it has quickly converged to a training accuracy of 98.38% by the 10th epoch. The validation accuracy is also impressive at 95.43% in the final epoch.\n",
    "\n",
    "**No Overfitting**: There's no significant divergence between training and validation metrics (loss and accuracy), which suggests that overfitting isn't a major concern with the current model and the data you've provided.\n",
    "\n",
    "**Performance Plateau:** The model seems to start plateauing in terms of validation accuracy around the 7th epoch. This means additional epochs might not yield substantial improvements unless other modifications are made.\n",
    "\n",
    "**Possible Improvements:** Even though the results are already quite good, you can still experiment further. Consider techniques like dropout for regularization, adjusting the learning rate, or adding more layers to see if there's a performance boost."
   ]
  },
  {
   "cell_type": "code",
   "execution_count": 62,
   "id": "e8280341",
   "metadata": {},
   "outputs": [
    {
     "data": {
      "text/plain": [
       "[0.15067072212696075, 0.9543269276618958]"
      ]
     },
     "execution_count": 62,
     "metadata": {},
     "output_type": "execute_result"
    }
   ],
   "source": [
    "model_evaluation(GRU_model,test_padded, test_y)"
   ]
  },
  {
   "cell_type": "code",
   "execution_count": 64,
   "id": "137eae78",
   "metadata": {},
   "outputs": [],
   "source": [
    "GRU_model.save('saved_models/gru_model.h5')"
   ]
  },
  {
   "cell_type": "markdown",
   "id": "258376ab",
   "metadata": {},
   "source": [
    "## Classical Algorithms"
   ]
  },
  {
   "cell_type": "code",
   "execution_count": 15,
   "id": "adddfe96",
   "metadata": {},
   "outputs": [],
   "source": [
    "# transform the text data using TF-IDF\n",
    "vectorizer = TfidfVectorizer(max_features=5000, stop_words='english', ngram_range=(1, 2))\n",
    "train_X = vectorizer.fit_transform(train_X)\n",
    "test_X = vectorizer.transform(test_X)"
   ]
  },
  {
   "cell_type": "code",
   "execution_count": 66,
   "id": "00536504",
   "metadata": {},
   "outputs": [
    {
     "name": "stdout",
     "output_type": "stream",
     "text": [
      "Shape of train_X:  (16640, 5000)\n",
      "Shape of test_X:  (4160, 5000)\n"
     ]
    }
   ],
   "source": [
    "print(\"Shape of train_X: \", train_X.shape)\n",
    "print(\"Shape of test_X: \", test_X.shape)"
   ]
  },
  {
   "cell_type": "markdown",
   "id": "7f473d2b",
   "metadata": {},
   "source": [
    "### Logistic Regression"
   ]
  },
  {
   "cell_type": "code",
   "execution_count": 5,
   "id": "8958d6ef",
   "metadata": {},
   "outputs": [],
   "source": [
    "from sklearn.model_selection import RandomizedSearchCV\n",
    "from scipy.stats import uniform\n",
    "from sklearn.linear_model import LogisticRegression\n",
    "from sklearn.metrics import classification_report, confusion_matrix, accuracy_score"
   ]
  },
  {
   "cell_type": "markdown",
   "id": "70a5722b",
   "metadata": {},
   "source": [
    "### Hyperparameter Tuning for Logistic Regression Using RandomizedSearchCV"
   ]
  },
  {
   "cell_type": "code",
   "execution_count": 16,
   "id": "9ae33235",
   "metadata": {},
   "outputs": [
    {
     "name": "stdout",
     "output_type": "stream",
     "text": [
      "Best Parameters: {'solver': 'lbfgs', 'penalty': 'l2', 'max_iter': 600, 'C': 10}\n"
     ]
    },
    {
     "data": {
      "text/html": [
       "<style>#sk-container-id-1 {color: black;}#sk-container-id-1 pre{padding: 0;}#sk-container-id-1 div.sk-toggleable {background-color: white;}#sk-container-id-1 label.sk-toggleable__label {cursor: pointer;display: block;width: 100%;margin-bottom: 0;padding: 0.3em;box-sizing: border-box;text-align: center;}#sk-container-id-1 label.sk-toggleable__label-arrow:before {content: \"▸\";float: left;margin-right: 0.25em;color: #696969;}#sk-container-id-1 label.sk-toggleable__label-arrow:hover:before {color: black;}#sk-container-id-1 div.sk-estimator:hover label.sk-toggleable__label-arrow:before {color: black;}#sk-container-id-1 div.sk-toggleable__content {max-height: 0;max-width: 0;overflow: hidden;text-align: left;background-color: #f0f8ff;}#sk-container-id-1 div.sk-toggleable__content pre {margin: 0.2em;color: black;border-radius: 0.25em;background-color: #f0f8ff;}#sk-container-id-1 input.sk-toggleable__control:checked~div.sk-toggleable__content {max-height: 200px;max-width: 100%;overflow: auto;}#sk-container-id-1 input.sk-toggleable__control:checked~label.sk-toggleable__label-arrow:before {content: \"▾\";}#sk-container-id-1 div.sk-estimator input.sk-toggleable__control:checked~label.sk-toggleable__label {background-color: #d4ebff;}#sk-container-id-1 div.sk-label input.sk-toggleable__control:checked~label.sk-toggleable__label {background-color: #d4ebff;}#sk-container-id-1 input.sk-hidden--visually {border: 0;clip: rect(1px 1px 1px 1px);clip: rect(1px, 1px, 1px, 1px);height: 1px;margin: -1px;overflow: hidden;padding: 0;position: absolute;width: 1px;}#sk-container-id-1 div.sk-estimator {font-family: monospace;background-color: #f0f8ff;border: 1px dotted black;border-radius: 0.25em;box-sizing: border-box;margin-bottom: 0.5em;}#sk-container-id-1 div.sk-estimator:hover {background-color: #d4ebff;}#sk-container-id-1 div.sk-parallel-item::after {content: \"\";width: 100%;border-bottom: 1px solid gray;flex-grow: 1;}#sk-container-id-1 div.sk-label:hover label.sk-toggleable__label {background-color: #d4ebff;}#sk-container-id-1 div.sk-serial::before {content: \"\";position: absolute;border-left: 1px solid gray;box-sizing: border-box;top: 0;bottom: 0;left: 50%;z-index: 0;}#sk-container-id-1 div.sk-serial {display: flex;flex-direction: column;align-items: center;background-color: white;padding-right: 0.2em;padding-left: 0.2em;position: relative;}#sk-container-id-1 div.sk-item {position: relative;z-index: 1;}#sk-container-id-1 div.sk-parallel {display: flex;align-items: stretch;justify-content: center;background-color: white;position: relative;}#sk-container-id-1 div.sk-item::before, #sk-container-id-1 div.sk-parallel-item::before {content: \"\";position: absolute;border-left: 1px solid gray;box-sizing: border-box;top: 0;bottom: 0;left: 50%;z-index: -1;}#sk-container-id-1 div.sk-parallel-item {display: flex;flex-direction: column;z-index: 1;position: relative;background-color: white;}#sk-container-id-1 div.sk-parallel-item:first-child::after {align-self: flex-end;width: 50%;}#sk-container-id-1 div.sk-parallel-item:last-child::after {align-self: flex-start;width: 50%;}#sk-container-id-1 div.sk-parallel-item:only-child::after {width: 0;}#sk-container-id-1 div.sk-dashed-wrapped {border: 1px dashed gray;margin: 0 0.4em 0.5em 0.4em;box-sizing: border-box;padding-bottom: 0.4em;background-color: white;}#sk-container-id-1 div.sk-label label {font-family: monospace;font-weight: bold;display: inline-block;line-height: 1.2em;}#sk-container-id-1 div.sk-label-container {text-align: center;}#sk-container-id-1 div.sk-container {/* jupyter's `normalize.less` sets `[hidden] { display: none; }` but bootstrap.min.css set `[hidden] { display: none !important; }` so we also need the `!important` here to be able to override the default hidden behavior on the sphinx rendered scikit-learn.org. See: https://github.com/scikit-learn/scikit-learn/issues/21755 */display: inline-block !important;position: relative;}#sk-container-id-1 div.sk-text-repr-fallback {display: none;}</style><div id=\"sk-container-id-1\" class=\"sk-top-container\"><div class=\"sk-text-repr-fallback\"><pre>LogisticRegression(C=10, max_iter=600)</pre><b>In a Jupyter environment, please rerun this cell to show the HTML representation or trust the notebook. <br />On GitHub, the HTML representation is unable to render, please try loading this page with nbviewer.org.</b></div><div class=\"sk-container\" hidden><div class=\"sk-item\"><div class=\"sk-estimator sk-toggleable\"><input class=\"sk-toggleable__control sk-hidden--visually\" id=\"sk-estimator-id-1\" type=\"checkbox\" checked><label for=\"sk-estimator-id-1\" class=\"sk-toggleable__label sk-toggleable__label-arrow\">LogisticRegression</label><div class=\"sk-toggleable__content\"><pre>LogisticRegression(C=10, max_iter=600)</pre></div></div></div></div></div>"
      ],
      "text/plain": [
       "LogisticRegression(C=10, max_iter=600)"
      ]
     },
     "execution_count": 16,
     "metadata": {},
     "output_type": "execute_result"
    }
   ],
   "source": [
    "# Hyperparameters to tune\n",
    "param_dict = {\n",
    "    'C': [0.001, 0.01, 0.1, 1, 10],\n",
    "    'penalty': ['l1', 'l2'],\n",
    "    'solver': ['newton-cg', 'lbfgs', 'liblinear', 'sag', 'saga'],\n",
    "    'max_iter': list(range(100,800,100))\n",
    "}\n",
    "\n",
    "random_search = RandomizedSearchCV(LogisticRegression(), \n",
    "                                   param_distributions=param_dict,\n",
    "                                   n_iter=10,\n",
    "                                   scoring='accuracy',\n",
    "                                   cv=5, \n",
    "                                   n_jobs=-1)\n",
    "\n",
    "random_search.fit(train_X, train_y)\n",
    "\n",
    "# best parameters\n",
    "best_parameters = random_search.best_params_\n",
    "print(\"Best Parameters:\", best_parameters)\n",
    "\n",
    "# best parameter to fit the model\n",
    "lr_model = LogisticRegression(**best_parameters)\n",
    "lr_model.fit(train_X, train_y)"
   ]
  },
  {
   "cell_type": "code",
   "execution_count": 69,
   "id": "ec090062",
   "metadata": {},
   "outputs": [
    {
     "name": "stdout",
     "output_type": "stream",
     "text": [
      "Train Accuracy:  0.9948317307692308\n",
      "Test Accuracy:  0.9605769230769231\n",
      "Confusion Matrix: \n",
      " [[1993   84]\n",
      " [  80 2003]]\n",
      "Classification Report: \n",
      "               precision    recall  f1-score   support\n",
      "\n",
      "           0       0.96      0.96      0.96      2077\n",
      "           1       0.96      0.96      0.96      2083\n",
      "\n",
      "    accuracy                           0.96      4160\n",
      "   macro avg       0.96      0.96      0.96      4160\n",
      "weighted avg       0.96      0.96      0.96      4160\n",
      "\n"
     ]
    }
   ],
   "source": [
    "# prediction\n",
    "lr_prediction_train = lr_model.predict(train_X)\n",
    "lr_prediction_test = lr_model.predict(test_X)\n",
    "\n",
    "# Evaluate the model\n",
    "print(\"Train Accuracy: \", accuracy_score(train_y, lr_prediction_train))\n",
    "\n",
    "print(\"Test Accuracy: \", accuracy_score(test_y, lr_prediction_test))\n",
    "print(\"Confusion Matrix: \\n\", confusion_matrix(test_y, lr_prediction_test))\n",
    "print(\"Classification Report: \\n\", classification_report(test_y, lr_prediction_test))"
   ]
  },
  {
   "cell_type": "markdown",
   "id": "b2910fbc",
   "metadata": {},
   "source": [
    "**Train Accuracy vs Test Accuracy:**\n",
    "\n",
    "our training accuracy is approximately  99.48%\n",
    "and the test accuracy is approximately 96.06%\n",
    "There is a slight difference between train and test accuracy, which suggests a mild overfitting. However, this difference isn't alarming.\n",
    "\n",
    "**Confusion Matrix:**\n",
    "\n",
    "Out of 2077 actual negative instances (0), 1993 were predicted correctly, and 84 were misclassified as positive.\n",
    "Out of 2083 actual positive instances (1), 2003 were predicted correctly, and 80 were misclassified as negative.\n",
    "Classification Report:\n",
    "\n",
    "**Precision:** Out of all the instances predicted as a particular class, how many were correctly predicted? For both classes, this is 96%, which is great.\n",
    "\n",
    "**Recall:** Out of all the actual instances of a particular class, how many were correctly predicted by the model? Both classes have a recall of 96%, which is commendable.\n",
    "\n",
    "**F1-Score:** This is the harmonic mean of precision and recall, providing a balance between them. Again, both classes have an F1-score of 96%, indicating a well-performing model.\n",
    "\n",
    "**Support:** It shows the number of actual occurrences of the class in the test data set. The dataset seems to be quite balanced as the support for both classes is nearly equal.\n",
    "\n",
    "In summary, the logistic regression model with hyperparameter tuning has performed quite well on our dataset. The metrics across both classes are consistent, which is a good sign, especially if the dataset is balanced, as it suggests the model isn't biased towards any particular class."
   ]
  },
  {
   "cell_type": "code",
   "execution_count": 72,
   "id": "e559fbb0",
   "metadata": {},
   "outputs": [
    {
     "data": {
      "text/plain": [
       "['logistic_regression_model.joblib']"
      ]
     },
     "execution_count": 72,
     "metadata": {},
     "output_type": "execute_result"
    }
   ],
   "source": [
    "from joblib import dump, load\n",
    "\n",
    "dump(lr_model, 'logistic_regression_model.joblib')"
   ]
  },
  {
   "cell_type": "code",
   "execution_count": 73,
   "id": "b0bba9eb",
   "metadata": {},
   "outputs": [],
   "source": [
    "# To load the model later\n",
    "# loaded_model = load('logistic_regression_model.joblib')"
   ]
  },
  {
   "cell_type": "markdown",
   "id": "e8eb8af0",
   "metadata": {},
   "source": [
    "### Decision Tree"
   ]
  },
  {
   "cell_type": "code",
   "execution_count": 74,
   "id": "2068014b",
   "metadata": {},
   "outputs": [],
   "source": [
    "from sklearn.tree import DecisionTreeClassifier"
   ]
  },
  {
   "cell_type": "markdown",
   "id": "720c89b7",
   "metadata": {},
   "source": [
    "### Hyperparameter Tuning for Decision Tree Using RandomizedSearchCV"
   ]
  },
  {
   "cell_type": "code",
   "execution_count": 75,
   "id": "c63e76e3",
   "metadata": {},
   "outputs": [
    {
     "name": "stdout",
     "output_type": "stream",
     "text": [
      "Best Parameters: {'min_samples_split': 5, 'min_samples_leaf': 4, 'max_depth': 9, 'criterion': 'entropy'}\n"
     ]
    },
    {
     "data": {
      "text/html": [
       "<style>#sk-container-id-2 {color: black;background-color: white;}#sk-container-id-2 pre{padding: 0;}#sk-container-id-2 div.sk-toggleable {background-color: white;}#sk-container-id-2 label.sk-toggleable__label {cursor: pointer;display: block;width: 100%;margin-bottom: 0;padding: 0.3em;box-sizing: border-box;text-align: center;}#sk-container-id-2 label.sk-toggleable__label-arrow:before {content: \"▸\";float: left;margin-right: 0.25em;color: #696969;}#sk-container-id-2 label.sk-toggleable__label-arrow:hover:before {color: black;}#sk-container-id-2 div.sk-estimator:hover label.sk-toggleable__label-arrow:before {color: black;}#sk-container-id-2 div.sk-toggleable__content {max-height: 0;max-width: 0;overflow: hidden;text-align: left;background-color: #f0f8ff;}#sk-container-id-2 div.sk-toggleable__content pre {margin: 0.2em;color: black;border-radius: 0.25em;background-color: #f0f8ff;}#sk-container-id-2 input.sk-toggleable__control:checked~div.sk-toggleable__content {max-height: 200px;max-width: 100%;overflow: auto;}#sk-container-id-2 input.sk-toggleable__control:checked~label.sk-toggleable__label-arrow:before {content: \"▾\";}#sk-container-id-2 div.sk-estimator input.sk-toggleable__control:checked~label.sk-toggleable__label {background-color: #d4ebff;}#sk-container-id-2 div.sk-label input.sk-toggleable__control:checked~label.sk-toggleable__label {background-color: #d4ebff;}#sk-container-id-2 input.sk-hidden--visually {border: 0;clip: rect(1px 1px 1px 1px);clip: rect(1px, 1px, 1px, 1px);height: 1px;margin: -1px;overflow: hidden;padding: 0;position: absolute;width: 1px;}#sk-container-id-2 div.sk-estimator {font-family: monospace;background-color: #f0f8ff;border: 1px dotted black;border-radius: 0.25em;box-sizing: border-box;margin-bottom: 0.5em;}#sk-container-id-2 div.sk-estimator:hover {background-color: #d4ebff;}#sk-container-id-2 div.sk-parallel-item::after {content: \"\";width: 100%;border-bottom: 1px solid gray;flex-grow: 1;}#sk-container-id-2 div.sk-label:hover label.sk-toggleable__label {background-color: #d4ebff;}#sk-container-id-2 div.sk-serial::before {content: \"\";position: absolute;border-left: 1px solid gray;box-sizing: border-box;top: 0;bottom: 0;left: 50%;z-index: 0;}#sk-container-id-2 div.sk-serial {display: flex;flex-direction: column;align-items: center;background-color: white;padding-right: 0.2em;padding-left: 0.2em;position: relative;}#sk-container-id-2 div.sk-item {position: relative;z-index: 1;}#sk-container-id-2 div.sk-parallel {display: flex;align-items: stretch;justify-content: center;background-color: white;position: relative;}#sk-container-id-2 div.sk-item::before, #sk-container-id-2 div.sk-parallel-item::before {content: \"\";position: absolute;border-left: 1px solid gray;box-sizing: border-box;top: 0;bottom: 0;left: 50%;z-index: -1;}#sk-container-id-2 div.sk-parallel-item {display: flex;flex-direction: column;z-index: 1;position: relative;background-color: white;}#sk-container-id-2 div.sk-parallel-item:first-child::after {align-self: flex-end;width: 50%;}#sk-container-id-2 div.sk-parallel-item:last-child::after {align-self: flex-start;width: 50%;}#sk-container-id-2 div.sk-parallel-item:only-child::after {width: 0;}#sk-container-id-2 div.sk-dashed-wrapped {border: 1px dashed gray;margin: 0 0.4em 0.5em 0.4em;box-sizing: border-box;padding-bottom: 0.4em;background-color: white;}#sk-container-id-2 div.sk-label label {font-family: monospace;font-weight: bold;display: inline-block;line-height: 1.2em;}#sk-container-id-2 div.sk-label-container {text-align: center;}#sk-container-id-2 div.sk-container {/* jupyter's `normalize.less` sets `[hidden] { display: none; }` but bootstrap.min.css set `[hidden] { display: none !important; }` so we also need the `!important` here to be able to override the default hidden behavior on the sphinx rendered scikit-learn.org. See: https://github.com/scikit-learn/scikit-learn/issues/21755 */display: inline-block !important;position: relative;}#sk-container-id-2 div.sk-text-repr-fallback {display: none;}</style><div id=\"sk-container-id-2\" class=\"sk-top-container\"><div class=\"sk-text-repr-fallback\"><pre>DecisionTreeClassifier(criterion=&#x27;entropy&#x27;, max_depth=9, min_samples_leaf=4,\n",
       "                       min_samples_split=5)</pre><b>In a Jupyter environment, please rerun this cell to show the HTML representation or trust the notebook. <br />On GitHub, the HTML representation is unable to render, please try loading this page with nbviewer.org.</b></div><div class=\"sk-container\" hidden><div class=\"sk-item\"><div class=\"sk-estimator sk-toggleable\"><input class=\"sk-toggleable__control sk-hidden--visually\" id=\"sk-estimator-id-2\" type=\"checkbox\" checked><label for=\"sk-estimator-id-2\" class=\"sk-toggleable__label sk-toggleable__label-arrow\">DecisionTreeClassifier</label><div class=\"sk-toggleable__content\"><pre>DecisionTreeClassifier(criterion=&#x27;entropy&#x27;, max_depth=9, min_samples_leaf=4,\n",
       "                       min_samples_split=5)</pre></div></div></div></div></div>"
      ],
      "text/plain": [
       "DecisionTreeClassifier(criterion='entropy', max_depth=9, min_samples_leaf=4,\n",
       "                       min_samples_split=5)"
      ]
     },
     "execution_count": 75,
     "metadata": {},
     "output_type": "execute_result"
    }
   ],
   "source": [
    "# Hyperparameters to tune\n",
    "param_dict = {\"max_depth\": range(1,10),\n",
    "              \"min_samples_split\": range(2,10),\n",
    "              \"min_samples_leaf\": range(1,5),\n",
    "              \"criterion\": ['gini', 'entropy']}\n",
    "\n",
    "random_search = RandomizedSearchCV(DecisionTreeClassifier(), \n",
    "                                   param_distributions=param_dict, \n",
    "                                   cv=5, \n",
    "                                   scoring='accuracy', \n",
    "                                   n_iter=50, \n",
    "                                   random_state=42)\n",
    "\n",
    "random_search.fit(train_X, train_y)\n",
    "\n",
    "# best parameters\n",
    "best_parameters = random_search.best_params_\n",
    "print(\"Best Parameters:\", best_parameters)\n",
    "\n",
    "# best parameter to fit the model\n",
    "dtree_model = DecisionTreeClassifier(**best_parameters)\n",
    "dtree_model.fit(train_X, train_y)"
   ]
  },
  {
   "cell_type": "code",
   "execution_count": 77,
   "id": "863a451b",
   "metadata": {},
   "outputs": [
    {
     "name": "stdout",
     "output_type": "stream",
     "text": [
      "Train Accuracy:  0.9692307692307692\n",
      "Test Accuracy:  0.9456730769230769\n",
      "Confusion Matrix: \n",
      " [[1935  142]\n",
      " [  84 1999]]\n",
      "Classification Report: \n",
      "               precision    recall  f1-score   support\n",
      "\n",
      "           0       0.96      0.93      0.94      2077\n",
      "           1       0.93      0.96      0.95      2083\n",
      "\n",
      "    accuracy                           0.95      4160\n",
      "   macro avg       0.95      0.95      0.95      4160\n",
      "weighted avg       0.95      0.95      0.95      4160\n",
      "\n"
     ]
    }
   ],
   "source": [
    "# prediction\n",
    "dt_prediction_train = dtree_model.predict(train_X)\n",
    "dt_prediction_test = dtree_model.predict(test_X)\n",
    "\n",
    "# Evaluate the model\n",
    "print(\"Train Accuracy: \", accuracy_score(train_y, dt_prediction_train))\n",
    "\n",
    "print(\"Test Accuracy: \", accuracy_score(test_y, dt_prediction_test))\n",
    "print(\"Confusion Matrix: \\n\", confusion_matrix(test_y, dt_prediction_test))\n",
    "print(\"Classification Report: \\n\", classification_report(test_y, dt_prediction_test))"
   ]
  },
  {
   "cell_type": "code",
   "execution_count": 78,
   "id": "281e7773",
   "metadata": {},
   "outputs": [
    {
     "data": {
      "text/plain": [
       "['Saved_models/dt_model.joblib']"
      ]
     },
     "execution_count": 78,
     "metadata": {},
     "output_type": "execute_result"
    }
   ],
   "source": [
    "from joblib import dump, load\n",
    "\n"
   ]
  },
  {
   "cell_type": "markdown",
   "id": "ec584396",
   "metadata": {},
   "source": [
    "### Support Vector Machine ( Linear Kernel )"
   ]
  },
  {
   "cell_type": "code",
   "execution_count": 79,
   "id": "63ac55ef",
   "metadata": {},
   "outputs": [],
   "source": [
    "from sklearn.svm import LinearSVC"
   ]
  },
  {
   "cell_type": "markdown",
   "id": "af61edf0",
   "metadata": {},
   "source": [
    "### Hyperparameter Tuning for Supprot Vector Machine Using RandomizedSearchCV"
   ]
  },
  {
   "cell_type": "code",
   "execution_count": 80,
   "id": "7a61477e",
   "metadata": {},
   "outputs": [
    {
     "name": "stdout",
     "output_type": "stream",
     "text": [
      "Best parameters: {'C': 0.1}\n"
     ]
    },
    {
     "data": {
      "text/html": [
       "<style>#sk-container-id-3 {color: black;background-color: white;}#sk-container-id-3 pre{padding: 0;}#sk-container-id-3 div.sk-toggleable {background-color: white;}#sk-container-id-3 label.sk-toggleable__label {cursor: pointer;display: block;width: 100%;margin-bottom: 0;padding: 0.3em;box-sizing: border-box;text-align: center;}#sk-container-id-3 label.sk-toggleable__label-arrow:before {content: \"▸\";float: left;margin-right: 0.25em;color: #696969;}#sk-container-id-3 label.sk-toggleable__label-arrow:hover:before {color: black;}#sk-container-id-3 div.sk-estimator:hover label.sk-toggleable__label-arrow:before {color: black;}#sk-container-id-3 div.sk-toggleable__content {max-height: 0;max-width: 0;overflow: hidden;text-align: left;background-color: #f0f8ff;}#sk-container-id-3 div.sk-toggleable__content pre {margin: 0.2em;color: black;border-radius: 0.25em;background-color: #f0f8ff;}#sk-container-id-3 input.sk-toggleable__control:checked~div.sk-toggleable__content {max-height: 200px;max-width: 100%;overflow: auto;}#sk-container-id-3 input.sk-toggleable__control:checked~label.sk-toggleable__label-arrow:before {content: \"▾\";}#sk-container-id-3 div.sk-estimator input.sk-toggleable__control:checked~label.sk-toggleable__label {background-color: #d4ebff;}#sk-container-id-3 div.sk-label input.sk-toggleable__control:checked~label.sk-toggleable__label {background-color: #d4ebff;}#sk-container-id-3 input.sk-hidden--visually {border: 0;clip: rect(1px 1px 1px 1px);clip: rect(1px, 1px, 1px, 1px);height: 1px;margin: -1px;overflow: hidden;padding: 0;position: absolute;width: 1px;}#sk-container-id-3 div.sk-estimator {font-family: monospace;background-color: #f0f8ff;border: 1px dotted black;border-radius: 0.25em;box-sizing: border-box;margin-bottom: 0.5em;}#sk-container-id-3 div.sk-estimator:hover {background-color: #d4ebff;}#sk-container-id-3 div.sk-parallel-item::after {content: \"\";width: 100%;border-bottom: 1px solid gray;flex-grow: 1;}#sk-container-id-3 div.sk-label:hover label.sk-toggleable__label {background-color: #d4ebff;}#sk-container-id-3 div.sk-serial::before {content: \"\";position: absolute;border-left: 1px solid gray;box-sizing: border-box;top: 0;bottom: 0;left: 50%;z-index: 0;}#sk-container-id-3 div.sk-serial {display: flex;flex-direction: column;align-items: center;background-color: white;padding-right: 0.2em;padding-left: 0.2em;position: relative;}#sk-container-id-3 div.sk-item {position: relative;z-index: 1;}#sk-container-id-3 div.sk-parallel {display: flex;align-items: stretch;justify-content: center;background-color: white;position: relative;}#sk-container-id-3 div.sk-item::before, #sk-container-id-3 div.sk-parallel-item::before {content: \"\";position: absolute;border-left: 1px solid gray;box-sizing: border-box;top: 0;bottom: 0;left: 50%;z-index: -1;}#sk-container-id-3 div.sk-parallel-item {display: flex;flex-direction: column;z-index: 1;position: relative;background-color: white;}#sk-container-id-3 div.sk-parallel-item:first-child::after {align-self: flex-end;width: 50%;}#sk-container-id-3 div.sk-parallel-item:last-child::after {align-self: flex-start;width: 50%;}#sk-container-id-3 div.sk-parallel-item:only-child::after {width: 0;}#sk-container-id-3 div.sk-dashed-wrapped {border: 1px dashed gray;margin: 0 0.4em 0.5em 0.4em;box-sizing: border-box;padding-bottom: 0.4em;background-color: white;}#sk-container-id-3 div.sk-label label {font-family: monospace;font-weight: bold;display: inline-block;line-height: 1.2em;}#sk-container-id-3 div.sk-label-container {text-align: center;}#sk-container-id-3 div.sk-container {/* jupyter's `normalize.less` sets `[hidden] { display: none; }` but bootstrap.min.css set `[hidden] { display: none !important; }` so we also need the `!important` here to be able to override the default hidden behavior on the sphinx rendered scikit-learn.org. See: https://github.com/scikit-learn/scikit-learn/issues/21755 */display: inline-block !important;position: relative;}#sk-container-id-3 div.sk-text-repr-fallback {display: none;}</style><div id=\"sk-container-id-3\" class=\"sk-top-container\"><div class=\"sk-text-repr-fallback\"><pre>LinearSVC(C=0.1)</pre><b>In a Jupyter environment, please rerun this cell to show the HTML representation or trust the notebook. <br />On GitHub, the HTML representation is unable to render, please try loading this page with nbviewer.org.</b></div><div class=\"sk-container\" hidden><div class=\"sk-item\"><div class=\"sk-estimator sk-toggleable\"><input class=\"sk-toggleable__control sk-hidden--visually\" id=\"sk-estimator-id-3\" type=\"checkbox\" checked><label for=\"sk-estimator-id-3\" class=\"sk-toggleable__label sk-toggleable__label-arrow\">LinearSVC</label><div class=\"sk-toggleable__content\"><pre>LinearSVC(C=0.1)</pre></div></div></div></div></div>"
      ],
      "text/plain": [
       "LinearSVC(C=0.1)"
      ]
     },
     "execution_count": 80,
     "metadata": {},
     "output_type": "execute_result"
    }
   ],
   "source": [
    "# Set up the parameter distribution\n",
    "param_grid = {'C': [0.001, 0.01, 0.1, 1, 10, 100]}\n",
    "\n",
    "svc = LinearSVC()\n",
    "\n",
    "random_search = RandomizedSearchCV(svc, \n",
    "                                   param_grid,\n",
    "                                   n_iter=5,\n",
    "                                   cv=5, \n",
    "                                   random_state=42)\n",
    "\n",
    "\n",
    "random_search.fit(train_X, train_y)\n",
    "\n",
    "best_params= random_search.best_params_\n",
    "\n",
    "print(f\"Best parameters: {best_params}\")\n",
    "\n",
    "svc_model = LinearSVC(C=best_params[\"C\"])\n",
    "svc_model.fit(train_X, train_y)"
   ]
  },
  {
   "cell_type": "code",
   "execution_count": 82,
   "id": "b05432fc",
   "metadata": {},
   "outputs": [
    {
     "name": "stdout",
     "output_type": "stream",
     "text": [
      "Train Accuracy:  0.9723557692307693\n",
      "Test Accuracy:  0.9548076923076924\n",
      "Confusion Matrix: \n",
      " [[1973  104]\n",
      " [  84 1999]]\n",
      "Classification Report: \n",
      "               precision    recall  f1-score   support\n",
      "\n",
      "           0       0.96      0.95      0.95      2077\n",
      "           1       0.95      0.96      0.96      2083\n",
      "\n",
      "    accuracy                           0.95      4160\n",
      "   macro avg       0.95      0.95      0.95      4160\n",
      "weighted avg       0.95      0.95      0.95      4160\n",
      "\n"
     ]
    }
   ],
   "source": [
    "# Prediction\n",
    "svc_prediction_train = svc_model.predict(train_X)\n",
    "svc_prediction_test = svc_model.predict(test_X)\n",
    "\n",
    "# Evaluate the model\n",
    "print(\"Train Accuracy: \", accuracy_score(train_y, svc_prediction_train))\n",
    "\n",
    "print(\"Test Accuracy: \", accuracy_score(test_y, svc_prediction_test))\n",
    "print(\"Confusion Matrix: \\n\", confusion_matrix(test_y, svc_prediction_test))\n",
    "print(\"Classification Report: \\n\", classification_report(test_y, svc_prediction_test))"
   ]
  },
  {
   "cell_type": "code",
   "execution_count": 83,
   "id": "991a7b70",
   "metadata": {},
   "outputs": [
    {
     "data": {
      "text/plain": [
       "['Saved_models/scv_model.joblib']"
      ]
     },
     "execution_count": 83,
     "metadata": {},
     "output_type": "execute_result"
    }
   ],
   "source": [
    "from joblib import dump, load\n",
    "\n",
    "dump(lr_model, 'Saved_models/scv_model.joblib')"
   ]
  },
  {
   "cell_type": "markdown",
   "id": "2796a83e",
   "metadata": {},
   "source": [
    "## Evaluation"
   ]
  },
  {
   "cell_type": "code",
   "execution_count": 84,
   "id": "12785836",
   "metadata": {},
   "outputs": [],
   "source": [
    "########################## TRAIN ACCURACY\n",
    "# Deep Learning algorithms\n",
    "LSTM_train_accuracy = model_evaluation(LSTM_model, train_padded, train_y)[1] # LSTM\n",
    "RNN_train_accuracy = model_evaluation(RNN_model, train_padded, train_y)[1] # RNN\n",
    "GRU_train_accuracy = model_evaluation(GRU_model, train_padded, train_y)[1] # GRU\n",
    "\n",
    "# Classical algorithms\n",
    "LR_train_accuracy = accuracy_score(train_y, lr_prediction_train) # Logistic Regression\n",
    "DT_train_accuracy = accuracy_score(train_y, dt_prediction_train) # Decision Tree \n",
    "SVC_train_accuracy = accuracy_score(train_y, svc_prediction_train) # Support Vector Machine \n",
    "\n",
    "\n",
    "########################## TEST ACCURACY\n",
    "# Deep Learning algorithms\n",
    "LSTM_test_accuracy = model_evaluation(LSTM_model, test_padded, test_y)[1] # LSTM\n",
    "RNN_test_accuracy = model_evaluation(RNN_model, test_padded, test_y)[1] # RNN\n",
    "GRU_test_accuracy = model_evaluation(GRU_model, test_padded, test_y)[1] # GRU\n",
    "\n",
    "# Classical algorithms\n",
    "LR_test_accuracy = accuracy_score(test_y, lr_prediction_test) # Logistic Regression\n",
    "DT_test_accuracy = accuracy_score(test_y, dt_prediction_test) # Decision Tree \n",
    "SVC_test_accuracy = accuracy_score(test_y, svc_prediction_test) # Support Vector Machine "
   ]
  },
  {
   "cell_type": "code",
   "execution_count": 85,
   "id": "8767bd44",
   "metadata": {},
   "outputs": [
    {
     "data": {
      "text/html": [
       "<div>\n",
       "<style scoped>\n",
       "    .dataframe tbody tr th:only-of-type {\n",
       "        vertical-align: middle;\n",
       "    }\n",
       "\n",
       "    .dataframe tbody tr th {\n",
       "        vertical-align: top;\n",
       "    }\n",
       "\n",
       "    .dataframe thead th {\n",
       "        text-align: right;\n",
       "    }\n",
       "</style>\n",
       "<table border=\"1\" class=\"dataframe\">\n",
       "  <thead>\n",
       "    <tr style=\"text-align: right;\">\n",
       "      <th></th>\n",
       "      <th>Model</th>\n",
       "      <th>Train Accuracy</th>\n",
       "      <th>Test Accuracy</th>\n",
       "    </tr>\n",
       "  </thead>\n",
       "  <tbody>\n",
       "    <tr>\n",
       "      <th>0</th>\n",
       "      <td>Logistic Regression</td>\n",
       "      <td>0.994832</td>\n",
       "      <td>0.960577</td>\n",
       "    </tr>\n",
       "    <tr>\n",
       "      <th>1</th>\n",
       "      <td>Decision Tree</td>\n",
       "      <td>0.969231</td>\n",
       "      <td>0.945673</td>\n",
       "    </tr>\n",
       "    <tr>\n",
       "      <th>2</th>\n",
       "      <td>Support Vector Machine</td>\n",
       "      <td>0.972356</td>\n",
       "      <td>0.954808</td>\n",
       "    </tr>\n",
       "    <tr>\n",
       "      <th>3</th>\n",
       "      <td>LSTM</td>\n",
       "      <td>0.959074</td>\n",
       "      <td>0.937981</td>\n",
       "    </tr>\n",
       "    <tr>\n",
       "      <th>4</th>\n",
       "      <td>RNN</td>\n",
       "      <td>0.535937</td>\n",
       "      <td>0.514423</td>\n",
       "    </tr>\n",
       "    <tr>\n",
       "      <th>5</th>\n",
       "      <td>GRU</td>\n",
       "      <td>0.993450</td>\n",
       "      <td>0.954327</td>\n",
       "    </tr>\n",
       "  </tbody>\n",
       "</table>\n",
       "</div>"
      ],
      "text/plain": [
       "                    Model  Train Accuracy  Test Accuracy\n",
       "0     Logistic Regression        0.994832       0.960577\n",
       "1           Decision Tree        0.969231       0.945673\n",
       "2  Support Vector Machine        0.972356       0.954808\n",
       "3                    LSTM        0.959074       0.937981\n",
       "4                     RNN        0.535937       0.514423\n",
       "5                     GRU        0.993450       0.954327"
      ]
     },
     "execution_count": 85,
     "metadata": {},
     "output_type": "execute_result"
    }
   ],
   "source": [
    "data = {\n",
    "    'Model': ['Logistic Regression', 'Decision Tree', 'Support Vector Machine', 'LSTM', 'RNN', 'GRU'],\n",
    "    'Train Accuracy': [LR_train_accuracy, DT_train_accuracy, SVC_train_accuracy, LSTM_train_accuracy, RNN_train_accuracy, GRU_train_accuracy],\n",
    "    'Test Accuracy': [LR_test_accuracy, DT_test_accuracy, SVC_test_accuracy, LSTM_test_accuracy, RNN_test_accuracy, GRU_test_accuracy]\n",
    "}\n",
    "\n",
    "accuracy_df = pd.DataFrame(data)\n",
    "accuracy_df\n"
   ]
  },
  {
   "cell_type": "markdown",
   "id": "f2fbffd5",
   "metadata": {},
   "source": [
    "The Logistic Regression and GRU models appear to be the top performers in terms of test accuracy.\n",
    "While models like the Decision Tree, SVM, and LSTM show good performance, they fall slightly short of the accuracy of Logistic Regression and GRU.\n",
    "\n",
    "The generic RNN model stands out due to its considerably lower accuracy, both in training and testing. This might indicate that this model isn't suitable for this particular dataset or needs further tuning.\n",
    "\n",
    "It's worth noting the high training accuracies for models like Logistic Regression and GRU. While this indicates a good fit to the training data, one should be cautious about overfitting, where the model may perform exceptionally well on training data but poorly on new, unseen data. However, their high test accuracies suggest that they generalize well to new data in this instance.\n",
    "\n",
    "Given these results, if you were to select a model for deployment, Logistic Regression or GRU might be the top contenders based on their high test accuracy."
   ]
  },
  {
   "cell_type": "code",
   "execution_count": 86,
   "id": "23691e72",
   "metadata": {},
   "outputs": [
    {
     "name": "stdout",
     "output_type": "stream",
     "text": [
      "130/130 [==============================] - 79s 586ms/step\n",
      "130/130 [==============================] - 26s 202ms/step\n",
      "130/130 [==============================] - 51s 392ms/step\n"
     ]
    },
    {
     "data": {
      "text/html": [
       "<div>\n",
       "<style scoped>\n",
       "    .dataframe tbody tr th:only-of-type {\n",
       "        vertical-align: middle;\n",
       "    }\n",
       "\n",
       "    .dataframe tbody tr th {\n",
       "        vertical-align: top;\n",
       "    }\n",
       "\n",
       "    .dataframe thead th {\n",
       "        text-align: right;\n",
       "    }\n",
       "</style>\n",
       "<table border=\"1\" class=\"dataframe\">\n",
       "  <thead>\n",
       "    <tr style=\"text-align: right;\">\n",
       "      <th></th>\n",
       "      <th>Model</th>\n",
       "      <th>Train Accuracy</th>\n",
       "      <th>Test Accuracy</th>\n",
       "      <th>AUC</th>\n",
       "    </tr>\n",
       "  </thead>\n",
       "  <tbody>\n",
       "    <tr>\n",
       "      <th>0</th>\n",
       "      <td>Logistic Regression</td>\n",
       "      <td>0.994832</td>\n",
       "      <td>0.960577</td>\n",
       "      <td>0.993259</td>\n",
       "    </tr>\n",
       "    <tr>\n",
       "      <th>1</th>\n",
       "      <td>Decision Tree</td>\n",
       "      <td>0.969231</td>\n",
       "      <td>0.945673</td>\n",
       "      <td>0.964887</td>\n",
       "    </tr>\n",
       "    <tr>\n",
       "      <th>2</th>\n",
       "      <td>Support Vector Machine</td>\n",
       "      <td>0.972356</td>\n",
       "      <td>0.954808</td>\n",
       "      <td>0.991813</td>\n",
       "    </tr>\n",
       "    <tr>\n",
       "      <th>3</th>\n",
       "      <td>LSTM</td>\n",
       "      <td>0.959074</td>\n",
       "      <td>0.937981</td>\n",
       "      <td>0.985955</td>\n",
       "    </tr>\n",
       "    <tr>\n",
       "      <th>4</th>\n",
       "      <td>RNN</td>\n",
       "      <td>0.535937</td>\n",
       "      <td>0.514423</td>\n",
       "      <td>0.523475</td>\n",
       "    </tr>\n",
       "    <tr>\n",
       "      <th>5</th>\n",
       "      <td>GRU</td>\n",
       "      <td>0.993450</td>\n",
       "      <td>0.954327</td>\n",
       "      <td>0.990125</td>\n",
       "    </tr>\n",
       "  </tbody>\n",
       "</table>\n",
       "</div>"
      ],
      "text/plain": [
       "                    Model  Train Accuracy  Test Accuracy       AUC\n",
       "0     Logistic Regression        0.994832       0.960577  0.993259\n",
       "1           Decision Tree        0.969231       0.945673  0.964887\n",
       "2  Support Vector Machine        0.972356       0.954808  0.991813\n",
       "3                    LSTM        0.959074       0.937981  0.985955\n",
       "4                     RNN        0.535937       0.514423  0.523475\n",
       "5                     GRU        0.993450       0.954327  0.990125"
      ]
     },
     "execution_count": 86,
     "metadata": {},
     "output_type": "execute_result"
    }
   ],
   "source": [
    "from sklearn.metrics import roc_auc_score\n",
    "\n",
    "lr_probs = lr_model.predict_proba(test_X)[:, 1]\n",
    "dt_probs = dtree_model.predict_proba(test_X)[:, 1]\n",
    "svc_probs = svc_model.decision_function(test_X)\n",
    "lstm_probs = LSTM_model.predict(test_padded)\n",
    "rnn_probs = RNN_model.predict(test_padded)\n",
    "gru_probs = GRU_model.predict(test_padded)\n",
    "\n",
    "# Compute the ROC AUC values\n",
    "LR_AUC = roc_auc_score(test_y, lr_probs)\n",
    "DT_AUC = roc_auc_score(test_y, dt_probs)\n",
    "SVC_AUC = roc_auc_score(test_y, svc_probs)\n",
    "LSTM_AUC = roc_auc_score(test_y, lstm_probs)\n",
    "RNN_AUC = roc_auc_score(test_y, rnn_probs)\n",
    "GRU_AUC = roc_auc_score(test_y, gru_probs)\n",
    "\n",
    "data['AUC'] = [LR_AUC, DT_AUC, SVC_AUC, LSTM_AUC, RNN_AUC, GRU_AUC]\n",
    "\n",
    "# Create the DataFrame\n",
    "accuracy_df = pd.DataFrame(data)\n",
    "accuracy_df\n"
   ]
  },
  {
   "cell_type": "markdown",
   "id": "123317fc",
   "metadata": {},
   "source": [
    "Models with AUC values closer to 100% - like Logistic Regression, SVM, and GRU - are demonstrating superior classification capabilities in this dataset. These models not only have high accuracy but also have a strong ability to differentiate between fake and true news articles.\n",
    "\n",
    "RNN, on the other hand, not only has low accuracy but also a very low AUC, indicating poor performance across the board."
   ]
  },
  {
   "cell_type": "markdown",
   "id": "5dbaed62",
   "metadata": {},
   "source": [
    "## AUC/ROC Curve of Classical Machine Learning Algorithms"
   ]
  },
  {
   "cell_type": "code",
   "execution_count": 87,
   "id": "13689a75",
   "metadata": {},
   "outputs": [
    {
     "data": {
      "image/png": "[encoded data removed]",
      "text/plain": [
       "<Figure size 576x432 with 1 Axes>"
      ]
     },
     "metadata": {
      "needs_background": "light"
     },
     "output_type": "display_data"
    }
   ],
   "source": [
    "from sklearn.metrics import roc_curve\n",
    "\n",
    "lr_fpr, lr_tpr, _ = roc_curve(test_y, lr_probs)\n",
    "dt_fpr, dt_tpr, _ = roc_curve(test_y, dt_probs)\n",
    "svc_fpr, svc_tpr, _ = roc_curve(test_y, svc_probs)\n",
    "\n",
    "plt.figure(figsize=(8, 6))\n",
    "plt.plot(lr_fpr, lr_tpr, marker='.', label='Logistic Regression (AUC = %0.2f)' % LR_AUC)\n",
    "plt.plot(dt_fpr, dt_tpr, marker='.', label='Decision Tree (AUC = %0.2f)' % DT_AUC)\n",
    "plt.plot(svc_fpr, svc_tpr, marker='.', label='Support Vector Machine (AUC = %0.2f)' % SVC_AUC)\n",
    "\n",
    "plt.title('ROC Plot')\n",
    "plt.xlabel('False Positive Rate')\n",
    "plt.ylabel('True Positive Rate')\n",
    "plt.legend() \n",
    "plt.show()\n"
   ]
  },
  {
   "cell_type": "markdown",
   "id": "0336c9ce",
   "metadata": {},
   "source": [
    "## AUC/ROC Curve of Deep Learning Algorithms"
   ]
  },
  {
   "cell_type": "code",
   "execution_count": 88,
   "id": "fe1d259c",
   "metadata": {},
   "outputs": [
    {
     "data": {
      "image/png": "[encoded data removed]",
      "text/plain": [
       "<Figure size 576x432 with 1 Axes>"
      ]
     },
     "metadata": {
      "needs_background": "light"
     },
     "output_type": "display_data"
    }
   ],
   "source": [
    "lstm_fpr, lstm_tpr, _ = roc_curve(test_y, lstm_probs)\n",
    "rnn_fpr, rnn_tpr, _ = roc_curve(test_y, rnn_probs)\n",
    "gru_fpr, gru_tpr, _ = roc_curve(test_y, gru_probs)\n",
    "\n",
    "plt.figure(figsize=(8, 6))\n",
    "plt.plot(lstm_fpr, lstm_tpr, marker='.', label='LSTM Network (AUC = %0.2f)' % LSTM_AUC)\n",
    "plt.plot(rnn_fpr, rnn_tpr, marker='.', label='RNN Network (AUC = %0.2f)' % RNN_AUC)\n",
    "plt.plot(gru_fpr, gru_tpr, marker='.', label='GRU Network (AUC = %0.2f)' % GRU_AUC)\n",
    "\n",
    "plt.title('ROC Plot')\n",
    "plt.xlabel('False Positive Rate')\n",
    "plt.ylabel('True Positive Rate')\n",
    "plt.legend() \n",
    "plt.show()\n"
   ]
  },
  {
   "cell_type": "markdown",
   "id": "627e2bfe",
   "metadata": {},
   "source": [
    "## Topic Modeling\n",
    "\n",
    "### Topic modeling is a type of statistical model used to discover abstract topics in a collection of documents. To apply LDA for topic modeling we follow following steps:\n",
    "-    Split the data\n",
    "-    Vectorize training data using CountVectorizer\n",
    "-    Train our LDA model for training data\n",
    "-   Transform our test data\n",
    "-    Apply the LDA mode for each document in test set"
   ]
  },
  {
   "cell_type": "code",
   "execution_count": null,
   "id": "1899a2dc",
   "metadata": {},
   "outputs": [],
   "source": []
  },
  {
   "cell_type": "code",
   "execution_count": 43,
   "id": "83b42529",
   "metadata": {},
   "outputs": [],
   "source": [
    "from sklearn.feature_extraction.text import ENGLISH_STOP_WORDS\n",
    "\n",
    "def preprocess_text(text):\n",
    "    # Convert to lowercase\n",
    "    text = text.lower()\n",
    "    # Tokenize\n",
    "    tokens = text.split()\n",
    "    # Remove stop words\n",
    "    tokens = [word for word in tokens if word not in ENGLISH_STOP_WORDS]\n",
    "    # Join tokens back into processed content\n",
    "    return ' '.join(tokens)"
   ]
  },
  {
   "cell_type": "markdown",
   "id": "a6178a09",
   "metadata": {},
   "source": [
    "The above function preprocess_text is designed to preprocess textual data by:\n",
    "\n",
    "- Converting the text to lowercase.\n",
    "- Tokenizing the text (splitting it into individual words).\n",
    "- Removing common English stop words.\n",
    "- Joining the processed tokens back into a single string."
   ]
  },
  {
   "cell_type": "code",
   "execution_count": 44,
   "id": "777cdb20",
   "metadata": {},
   "outputs": [],
   "source": [
    "# Apply the preprocessing function to each document in train_X and test_X\n",
    "\n",
    "train_df['content'] = train_df['content'].astype(str).apply(preprocess_text)\n",
    "test_df['content'] = test_df['content'].astype(str).apply(preprocess_text)\n"
   ]
  },
  {
   "cell_type": "code",
   "execution_count": 45,
   "id": "45a19bb4",
   "metadata": {},
   "outputs": [
    {
     "data": {
      "text/plain": [
       "5933     raccoons central park draw crowds, warnings st...\n",
       "9646     bolton susan rice scandal: obama needs asked k...\n",
       "8642     hillary clinton charged obstruction justice pr...\n",
       "15126    new york times’s moscow bureau targeted hacker...\n",
       "3410     gays sharia march branded ’islamophobic’, pick...\n",
       "                               ...                        \n",
       "11284    trump supporter got nuts msnbc reporter coveri...\n",
       "11964    watch megyn kelly air trump took lead #electio...\n",
       "5390     pay college stress - new york times quadrennia...\n",
       "860      russian scientists track sea lions space russi...\n",
       "15795    heseltine strangled dog thatcher cabinet initi...\n",
       "Name: content, Length: 16640, dtype: object"
      ]
     },
     "execution_count": 45,
     "metadata": {},
     "output_type": "execute_result"
    }
   ],
   "source": [
    "train_df['content']"
   ]
  },
  {
   "cell_type": "code",
   "execution_count": 46,
   "id": "79aee86e",
   "metadata": {},
   "outputs": [
    {
     "data": {
      "text/plain": [
       "14649    real voting rigged election theft – bev harris...\n",
       "9231     selected articles: trump, “alt-right”, “the de...\n",
       "6473     donald trump says parts obama health care act ...\n",
       "18736    nunes ’unmasking’ report vindicates trump clai...\n",
       "12347    hillary’s secret camera caught doing rally hil...\n",
       "                               ...                        \n",
       "751      richard bolles dies 90 wrote ‘what color parac...\n",
       "2081     health experts share home remedies fighting co...\n",
       "13241    nato confirms major buildup eastern europe rus...\n",
       "18786    white house strengthens dhs’ new border securi...\n",
       "14133    trump elected president – risks opportunities ...\n",
       "Name: content, Length: 4160, dtype: object"
      ]
     },
     "execution_count": 46,
     "metadata": {},
     "output_type": "execute_result"
    }
   ],
   "source": [
    "test_df['content']"
   ]
  },
  {
   "cell_type": "markdown",
   "id": "3ed55ab2",
   "metadata": {},
   "source": [
    "We can see that train and test sets are successfully pre-processed."
   ]
  },
  {
   "cell_type": "code",
   "execution_count": 47,
   "id": "9d677f12",
   "metadata": {},
   "outputs": [],
   "source": [
    "from sklearn.decomposition import LatentDirichletAllocation\n",
    "from sklearn.feature_extraction.text import CountVectorizer\n",
    "from sklearn.model_selection import train_test_split\n",
    "\n",
    "\n",
    "# Initialize a CountVectorizer\n",
    "vectorizer = CountVectorizer(stop_words='english', max_df=0.95, min_df=2, max_features=5000)\n",
    "train_vectorized = vectorizer.fit_transform(train_df['content'])\n",
    "test_vectorized = vectorizer.transform(test_df['content'])\n"
   ]
  },
  {
   "cell_type": "markdown",
   "id": "1f7ec2a0",
   "metadata": {},
   "source": [
    "The CountVectorizer is configured with the following parameters: stop_words='english' ensures the removal of common English stop words such as \"and\", \"the\", and \"is\". The max_df=0.95 parameter excludes words that appear in more than 95% of the documents, while min_df=2 removes words that are present in fewer than 2 documents. Additionally, with max_features=5000, only the top 5,000 features (words) based on their term frequency are considered."
   ]
  },
  {
   "cell_type": "code",
   "execution_count": 48,
   "id": "f27cc7fb",
   "metadata": {},
   "outputs": [
    {
     "data": {
      "text/html": [
       "<style>#sk-container-id-2 {color: black;}#sk-container-id-2 pre{padding: 0;}#sk-container-id-2 div.sk-toggleable {background-color: white;}#sk-container-id-2 label.sk-toggleable__label {cursor: pointer;display: block;width: 100%;margin-bottom: 0;padding: 0.3em;box-sizing: border-box;text-align: center;}#sk-container-id-2 label.sk-toggleable__label-arrow:before {content: \"▸\";float: left;margin-right: 0.25em;color: #696969;}#sk-container-id-2 label.sk-toggleable__label-arrow:hover:before {color: black;}#sk-container-id-2 div.sk-estimator:hover label.sk-toggleable__label-arrow:before {color: black;}#sk-container-id-2 div.sk-toggleable__content {max-height: 0;max-width: 0;overflow: hidden;text-align: left;background-color: #f0f8ff;}#sk-container-id-2 div.sk-toggleable__content pre {margin: 0.2em;color: black;border-radius: 0.25em;background-color: #f0f8ff;}#sk-container-id-2 input.sk-toggleable__control:checked~div.sk-toggleable__content {max-height: 200px;max-width: 100%;overflow: auto;}#sk-container-id-2 input.sk-toggleable__control:checked~label.sk-toggleable__label-arrow:before {content: \"▾\";}#sk-container-id-2 div.sk-estimator input.sk-toggleable__control:checked~label.sk-toggleable__label {background-color: #d4ebff;}#sk-container-id-2 div.sk-label input.sk-toggleable__control:checked~label.sk-toggleable__label {background-color: #d4ebff;}#sk-container-id-2 input.sk-hidden--visually {border: 0;clip: rect(1px 1px 1px 1px);clip: rect(1px, 1px, 1px, 1px);height: 1px;margin: -1px;overflow: hidden;padding: 0;position: absolute;width: 1px;}#sk-container-id-2 div.sk-estimator {font-family: monospace;background-color: #f0f8ff;border: 1px dotted black;border-radius: 0.25em;box-sizing: border-box;margin-bottom: 0.5em;}#sk-container-id-2 div.sk-estimator:hover {background-color: #d4ebff;}#sk-container-id-2 div.sk-parallel-item::after {content: \"\";width: 100%;border-bottom: 1px solid gray;flex-grow: 1;}#sk-container-id-2 div.sk-label:hover label.sk-toggleable__label {background-color: #d4ebff;}#sk-container-id-2 div.sk-serial::before {content: \"\";position: absolute;border-left: 1px solid gray;box-sizing: border-box;top: 0;bottom: 0;left: 50%;z-index: 0;}#sk-container-id-2 div.sk-serial {display: flex;flex-direction: column;align-items: center;background-color: white;padding-right: 0.2em;padding-left: 0.2em;position: relative;}#sk-container-id-2 div.sk-item {position: relative;z-index: 1;}#sk-container-id-2 div.sk-parallel {display: flex;align-items: stretch;justify-content: center;background-color: white;position: relative;}#sk-container-id-2 div.sk-item::before, #sk-container-id-2 div.sk-parallel-item::before {content: \"\";position: absolute;border-left: 1px solid gray;box-sizing: border-box;top: 0;bottom: 0;left: 50%;z-index: -1;}#sk-container-id-2 div.sk-parallel-item {display: flex;flex-direction: column;z-index: 1;position: relative;background-color: white;}#sk-container-id-2 div.sk-parallel-item:first-child::after {align-self: flex-end;width: 50%;}#sk-container-id-2 div.sk-parallel-item:last-child::after {align-self: flex-start;width: 50%;}#sk-container-id-2 div.sk-parallel-item:only-child::after {width: 0;}#sk-container-id-2 div.sk-dashed-wrapped {border: 1px dashed gray;margin: 0 0.4em 0.5em 0.4em;box-sizing: border-box;padding-bottom: 0.4em;background-color: white;}#sk-container-id-2 div.sk-label label {font-family: monospace;font-weight: bold;display: inline-block;line-height: 1.2em;}#sk-container-id-2 div.sk-label-container {text-align: center;}#sk-container-id-2 div.sk-container {/* jupyter's `normalize.less` sets `[hidden] { display: none; }` but bootstrap.min.css set `[hidden] { display: none !important; }` so we also need the `!important` here to be able to override the default hidden behavior on the sphinx rendered scikit-learn.org. See: https://github.com/scikit-learn/scikit-learn/issues/21755 */display: inline-block !important;position: relative;}#sk-container-id-2 div.sk-text-repr-fallback {display: none;}</style><div id=\"sk-container-id-2\" class=\"sk-top-container\"><div class=\"sk-text-repr-fallback\"><pre>LatentDirichletAllocation(n_jobs=1, random_state=42)</pre><b>In a Jupyter environment, please rerun this cell to show the HTML representation or trust the notebook. <br />On GitHub, the HTML representation is unable to render, please try loading this page with nbviewer.org.</b></div><div class=\"sk-container\" hidden><div class=\"sk-item\"><div class=\"sk-estimator sk-toggleable\"><input class=\"sk-toggleable__control sk-hidden--visually\" id=\"sk-estimator-id-2\" type=\"checkbox\" checked><label for=\"sk-estimator-id-2\" class=\"sk-toggleable__label sk-toggleable__label-arrow\">LatentDirichletAllocation</label><div class=\"sk-toggleable__content\"><pre>LatentDirichletAllocation(n_jobs=1, random_state=42)</pre></div></div></div></div></div>"
      ],
      "text/plain": [
       "LatentDirichletAllocation(n_jobs=1, random_state=42)"
      ]
     },
     "execution_count": 48,
     "metadata": {},
     "output_type": "execute_result"
    }
   ],
   "source": [
    "# Initialize LDA model with 10 topics\n",
    "lda_model = LatentDirichletAllocation(n_components=10, random_state=42, n_jobs=1)\n",
    "\n",
    "#fit the model\n",
    "lda_model.fit(train_vectorized)"
   ]
  },
  {
   "cell_type": "code",
   "execution_count": 204,
   "id": "c9aa3260",
   "metadata": {},
   "outputs": [
    {
     "data": {
      "text/plain": [
       "(16640, 10)"
      ]
     },
     "execution_count": 204,
     "metadata": {},
     "output_type": "execute_result"
    }
   ],
   "source": [
    "train_topics = lda_model.transform(train_vectorized)\n",
    "train_topics.shape"
   ]
  },
  {
   "cell_type": "code",
   "execution_count": 205,
   "id": "efb65b20",
   "metadata": {},
   "outputs": [],
   "source": [
    "# Get dominant topic for each document\n",
    "train_df['dominant_topic'] = np.argmax(train_topics, axis=1)\n"
   ]
  },
  {
   "cell_type": "code",
   "execution_count": 202,
   "id": "351565ee",
   "metadata": {},
   "outputs": [
    {
     "data": {
      "text/plain": [
       "['Topic #0: like said new time just dr people years make times',\n",
       " 'Topic #1: russia war russian military united syria world states president government',\n",
       " 'Topic #2: people just like don world right know america think black',\n",
       " 'Topic #3: said mr ms new police york people city times family',\n",
       " 'Topic #4: said islamic state attack government city forces killed attacks security',\n",
       " 'Topic #5: la obama en health el que 2017 obamacare care breitbart',\n",
       " 'Topic #6: trump mr said president donald campaign republican new house obama',\n",
       " 'Topic #7: percent company million money new year 000 companies said business',\n",
       " 'Topic #8: said mr law state court states federal government officials united',\n",
       " 'Topic #9: clinton hillary election fbi trump campaign 2016 emails news email']"
      ]
     },
     "execution_count": 202,
     "metadata": {},
     "output_type": "execute_result"
    }
   ],
   "source": [
    "#print the top words for each topic\n",
    "def print_top_words(model, feature_names, n_top_words=10):\n",
    "    topics = []\n",
    "    for topic_idx, topic in enumerate(model.components_):\n",
    "        message = \"Topic #%d: \" % topic_idx\n",
    "        message += \" \".join([feature_names[i] for i in topic.argsort()[:-n_top_words - 1:-1]])\n",
    "        topics.append(message)\n",
    "    return topics\n",
    "\n",
    "# Displaying the top words for each topic\n",
    "top_words_per_topic = print_top_words(lda_model, vectorizer.get_feature_names_out())\n",
    "top_words_per_topic"
   ]
  },
  {
   "cell_type": "markdown",
   "id": "57573473",
   "metadata": {},
   "source": [
    "In the context of topic modeling using LDA, the \"dominant topic\" refers to the primary topic that is most strongly associated with a particular document or piece of text."
   ]
  },
  {
   "cell_type": "code",
   "execution_count": 208,
   "id": "eb6231f0",
   "metadata": {},
   "outputs": [
    {
     "name": "stdout",
     "output_type": "stream",
     "text": [
      "label              0     1\n",
      "dominant_topic            \n",
      "0               1331  1177\n",
      "1                521   894\n",
      "2                608  1802\n",
      "3               1618   403\n",
      "4                473   513\n",
      "5                165   253\n",
      "6               1732   438\n",
      "7                690   602\n",
      "8                830   237\n",
      "9                287  2066\n"
     ]
    }
   ],
   "source": [
    "# Cross-tabulation of topics vs labels in the training dataset\n",
    "cross_tab = pd.crosstab(train_df['dominant_topic'], train_df['label'])\n",
    "print(cross_tab)\n"
   ]
  },
  {
   "cell_type": "code",
   "execution_count": 209,
   "id": "67d52746",
   "metadata": {},
   "outputs": [
    {
     "data": {
      "image/png": "[encoded data removed]",
      "text/plain": [
       "<Figure size 720x432 with 1 Axes>"
      ]
     },
     "metadata": {
      "needs_background": "light"
     },
     "output_type": "display_data"
    }
   ],
   "source": [
    "import matplotlib.pyplot as plt\n",
    "# Plotting the stacked bar chart\n",
    "cross_tab.plot(kind='bar', stacked=True, figsize=(10, 6), color=['#FF9999', '#66B2FF'])\n",
    "\n",
    "# Adding title and labels\n",
    "plt.title('Distribution of Labels by Dominant Topic')\n",
    "plt.xlabel('Dominant Topic')\n",
    "plt.ylabel('Number of Articles')\n",
    "plt.xticks(rotation=0)\n",
    "plt.legend(title='Label')\n",
    "\n",
    "# Displaying the plot\n",
    "plt.show()\n"
   ]
  },
  {
   "cell_type": "markdown",
   "id": "b9836a80",
   "metadata": {},
   "source": [
    "This chart visually represents how labels are distributed among different dominant topics in training dataset. It can help us understand which topics are more prevalent in each label category. Topics 0 and 9 are strongly assoociated with real news content in our train set.\n"
   ]
  },
  {
   "cell_type": "markdown",
   "id": "bb64f5d6",
   "metadata": {},
   "source": [
    "### Test LDA model:"
   ]
  },
  {
   "cell_type": "code",
   "execution_count": 210,
   "id": "bc55a51f",
   "metadata": {},
   "outputs": [
    {
     "data": {
      "text/plain": [
       "(4160, 10)"
      ]
     },
     "execution_count": 210,
     "metadata": {},
     "output_type": "execute_result"
    }
   ],
   "source": [
    "#Apply the LDA Model to test set\n",
    "test_topics = lda_model.transform(test_vectorized)\n",
    "test_topics.shape"
   ]
  },
  {
   "cell_type": "markdown",
   "id": "ffa19e19",
   "metadata": {},
   "source": [
    "To classify documents based on their dominant topic, we identify the topic with the highest proportion for each document. The index of the maximum value in each row of the topic distributions matrix will represent the dominant topic for that document."
   ]
  },
  {
   "cell_type": "code",
   "execution_count": 212,
   "id": "625b8ee6",
   "metadata": {},
   "outputs": [],
   "source": [
    "#Classify Test Documents Based on Dominant Topic\n",
    "test_df['dominant_topic'] = np.argmax(test_topics, axis=1)"
   ]
  },
  {
   "cell_type": "code",
   "execution_count": 215,
   "id": "45b0bd25",
   "metadata": {},
   "outputs": [
    {
     "name": "stdout",
     "output_type": "stream",
     "text": [
      "dominant_topic\n",
      "0    640\n",
      "6    573\n",
      "2    568\n",
      "9    520\n",
      "3    500\n",
      "1    390\n",
      "7    323\n",
      "8    292\n",
      "4    262\n",
      "5     92\n",
      "Name: count, dtype: int64\n"
     ]
    }
   ],
   "source": [
    "# count of documents associated with each topic\n",
    "print(test_df['dominant_topic'].value_counts())"
   ]
  },
  {
   "cell_type": "code",
   "execution_count": 213,
   "id": "a8587790",
   "metadata": {},
   "outputs": [
    {
     "name": "stdout",
     "output_type": "stream",
     "text": [
      "label             0    1\n",
      "dominant_topic          \n",
      "0               338  302\n",
      "1               145  245\n",
      "2               140  428\n",
      "3               396  104\n",
      "4               136  126\n",
      "5                37   55\n",
      "6               460  113\n",
      "7               182  141\n",
      "8               227   65\n",
      "9                71  449\n"
     ]
    }
   ],
   "source": [
    "# Cross-tabulation of topics vs labels in the test dataset\n",
    "cross_tab = pd.crosstab(test_df['dominant_topic'], test_df['label'])\n",
    "print(cross_tab)"
   ]
  },
  {
   "cell_type": "code",
   "execution_count": 214,
   "id": "249a62bd",
   "metadata": {},
   "outputs": [
    {
     "data": {
      "image/png": "[encoded data removed]",
      "text/plain": [
       "<Figure size 720x432 with 1 Axes>"
      ]
     },
     "metadata": {
      "needs_background": "light"
     },
     "output_type": "display_data"
    }
   ],
   "source": [
    "# Plotting the stacked bar chart\n",
    "cross_tab2.plot(kind='bar', stacked=True, figsize=(10, 6), color=['#FF9999', '#66B2FF'])\n",
    "\n",
    "# Adding title and labels\n",
    "plt.title('Distribution of Labels by Dominant Topic')\n",
    "plt.xlabel('Dominant Topic')\n",
    "plt.ylabel('Number of Articles')\n",
    "plt.xticks(rotation=0)\n",
    "plt.legend(title='Label')\n",
    "\n",
    "# Displaying the plot\n",
    "plt.show()"
   ]
  },
  {
   "cell_type": "markdown",
   "id": "cb2aa305",
   "metadata": {},
   "source": [
    "The result in test set shows the same aproach that topics 0 and 9 are strongly associated with real news content and topics 1, 2, and 8 are strongly associated with fake news content."
   ]
  },
  {
   "cell_type": "markdown",
   "id": "98b51fa1",
   "metadata": {},
   "source": [
    "If we need documents associated with specific topic, we can filter it for advanced analysis. "
   ]
  },
  {
   "cell_type": "code",
   "execution_count": 216,
   "id": "061db57c",
   "metadata": {},
   "outputs": [
    {
     "name": "stdout",
     "output_type": "stream",
     "text": [
      "                                                 content  dominant_topic\n",
      "2174   people reversed diabetes 30 days diabetes ramp...               0\n",
      "8970   earth sets temperature record straight year - ...               0\n",
      "19074  life span south korean women headed 90 - new y...               0\n",
      "8700   denzel washington, oscars race - new york time...               0\n",
      "19080  bremen ersetzt als erstes bundesland schulnote...               0\n",
      "...                                                  ...             ...\n",
      "6879   amy schumer star ’i feel pretty’ amy schumer r...               0\n",
      "9242   “has science gone far?” “has science gone far?...               0\n",
      "9814   netflix releases teaser ’dear white people’ tv...               0\n",
      "18508  21 dangerous islands world holiday season just...               0\n",
      "2081   health experts share home remedies fighting co...               0\n",
      "\n",
      "[640 rows x 2 columns]\n"
     ]
    }
   ],
   "source": [
    "#view documents associated with topic 0\n",
    "print(test_df[test_df['dominant_topic'] == 0][['content', 'dominant_topic']])"
   ]
  },
  {
   "cell_type": "markdown",
   "id": "e3c6ede1",
   "metadata": {},
   "source": [
    "According to project instructions, We'll subset the training and test data to only include documents that have the even topics (0, 2, 4, 6, 8) as their dominant topic. First, we need to classify the dominant topic for both train and test data. We'll use the lda_model and vectorizer we trained earlier. "
   ]
  },
  {
   "cell_type": "code",
   "execution_count": 217,
   "id": "884a1355",
   "metadata": {},
   "outputs": [
    {
     "data": {
      "text/plain": [
       "((9141, 5), (2335, 5))"
      ]
     },
     "execution_count": 217,
     "metadata": {},
     "output_type": "execute_result"
    }
   ],
   "source": [
    "# Now, subset the data based on even-numbered topics\n",
    "train_subset = train_df[train_df['dominant_topic'].isin([0, 2, 4, 6, 8])]\n",
    "test_subset = test_df[test_df['dominant_topic'].isin([0, 2, 4, 6, 8])]\n",
    "\n",
    "# Check the size of the subsetted datasets\n",
    "train_subset.shape, test_subset.shape\n",
    "\n"
   ]
  },
  {
   "cell_type": "code",
   "execution_count": 218,
   "id": "f03542a2",
   "metadata": {},
   "outputs": [
    {
     "data": {
      "text/html": [
       "<div>\n",
       "<style scoped>\n",
       "    .dataframe tbody tr th:only-of-type {\n",
       "        vertical-align: middle;\n",
       "    }\n",
       "\n",
       "    .dataframe tbody tr th {\n",
       "        vertical-align: top;\n",
       "    }\n",
       "\n",
       "    .dataframe thead th {\n",
       "        text-align: right;\n",
       "    }\n",
       "</style>\n",
       "<table border=\"1\" class=\"dataframe\">\n",
       "  <thead>\n",
       "    <tr style=\"text-align: right;\">\n",
       "      <th></th>\n",
       "      <th>title</th>\n",
       "      <th>text</th>\n",
       "      <th>label</th>\n",
       "      <th>content</th>\n",
       "      <th>dominant_topic</th>\n",
       "    </tr>\n",
       "  </thead>\n",
       "  <tbody>\n",
       "    <tr>\n",
       "      <th>9646</th>\n",
       "      <td>Bolton on Susan Rice Scandal: Obama Needs to B...</td>\n",
       "      <td>On Thursday’s Breitbart News Daily, SiriusXM h...</td>\n",
       "      <td>0</td>\n",
       "      <td>bolton susan rice scandal: obama needs asked k...</td>\n",
       "      <td>6</td>\n",
       "    </tr>\n",
       "    <tr>\n",
       "      <th>15126</th>\n",
       "      <td>New York Times’s Moscow Bureau Was Targeted by...</td>\n",
       "      <td>The New York Times’s Moscow bureau was the tar...</td>\n",
       "      <td>0</td>\n",
       "      <td>new york times’s moscow bureau targeted hacker...</td>\n",
       "      <td>8</td>\n",
       "    </tr>\n",
       "    <tr>\n",
       "      <th>3410</th>\n",
       "      <td>Gays Against Sharia March Branded ’Islamophobi...</td>\n",
       "      <td>An event organised by Gays Against Sharia to m...</td>\n",
       "      <td>0</td>\n",
       "      <td>gays sharia march branded ’islamophobic’, pick...</td>\n",
       "      <td>2</td>\n",
       "    </tr>\n",
       "    <tr>\n",
       "      <th>8396</th>\n",
       "      <td>When a Basic Laptop Will Do: Our Top Budget Pi...</td>\n",
       "      <td>Ever since the advent of the iPhone and iPad, ...</td>\n",
       "      <td>0</td>\n",
       "      <td>basic laptop do: budget picks - new york times...</td>\n",
       "      <td>0</td>\n",
       "    </tr>\n",
       "    <tr>\n",
       "      <th>19704</th>\n",
       "      <td>100 Notable Books of 2016 - The New York Times</td>\n",
       "      <td>The year’s notable fiction, poetry and nonfict...</td>\n",
       "      <td>0</td>\n",
       "      <td>100 notable books 2016 - new york times year’s...</td>\n",
       "      <td>0</td>\n",
       "    </tr>\n",
       "    <tr>\n",
       "      <th>...</th>\n",
       "      <td>...</td>\n",
       "      <td>...</td>\n",
       "      <td>...</td>\n",
       "      <td>...</td>\n",
       "      <td>...</td>\n",
       "    </tr>\n",
       "    <tr>\n",
       "      <th>4426</th>\n",
       "      <td>Poll: Americans Back Donald Trump’s Immigratio...</td>\n",
       "      <td>Americans support Donald Trump’s Jan. 25 compr...</td>\n",
       "      <td>0</td>\n",
       "      <td>poll: americans donald trump’s immigration ref...</td>\n",
       "      <td>2</td>\n",
       "    </tr>\n",
       "    <tr>\n",
       "      <th>16850</th>\n",
       "      <td>Twins Finish Marathon Hand in Hand, but Their ...</td>\n",
       "      <td>RIO DE JANEIRO  —   The Olympics are as much a...</td>\n",
       "      <td>0</td>\n",
       "      <td>twins finish marathon hand hand, country says ...</td>\n",
       "      <td>0</td>\n",
       "    </tr>\n",
       "    <tr>\n",
       "      <th>6265</th>\n",
       "      <td>Wells Fargo Scandal Blocks Severance Pay for L...</td>\n",
       "      <td>For more than 400 employees recently laid off ...</td>\n",
       "      <td>0</td>\n",
       "      <td>wells fargo scandal blocks severance pay laid-...</td>\n",
       "      <td>8</td>\n",
       "    </tr>\n",
       "    <tr>\n",
       "      <th>11284</th>\n",
       "      <td>TRUMP SUPPORTER GOT NUTS On MSNBC Reporter Cov...</td>\n",
       "      <td>Go to Article A Trump supporter wearing a Trum...</td>\n",
       "      <td>1</td>\n",
       "      <td>trump supporter got nuts msnbc reporter coveri...</td>\n",
       "      <td>6</td>\n",
       "    </tr>\n",
       "    <tr>\n",
       "      <th>860</th>\n",
       "      <td>Russian scientists will track sea lions from s...</td>\n",
       "      <td>Russian scientists will track sea lions from s...</td>\n",
       "      <td>1</td>\n",
       "      <td>russian scientists track sea lions space russi...</td>\n",
       "      <td>0</td>\n",
       "    </tr>\n",
       "  </tbody>\n",
       "</table>\n",
       "<p>9141 rows × 5 columns</p>\n",
       "</div>"
      ],
      "text/plain": [
       "                                                   title  \\\n",
       "9646   Bolton on Susan Rice Scandal: Obama Needs to B...   \n",
       "15126  New York Times’s Moscow Bureau Was Targeted by...   \n",
       "3410   Gays Against Sharia March Branded ’Islamophobi...   \n",
       "8396   When a Basic Laptop Will Do: Our Top Budget Pi...   \n",
       "19704     100 Notable Books of 2016 - The New York Times   \n",
       "...                                                  ...   \n",
       "4426   Poll: Americans Back Donald Trump’s Immigratio...   \n",
       "16850  Twins Finish Marathon Hand in Hand, but Their ...   \n",
       "6265   Wells Fargo Scandal Blocks Severance Pay for L...   \n",
       "11284  TRUMP SUPPORTER GOT NUTS On MSNBC Reporter Cov...   \n",
       "860    Russian scientists will track sea lions from s...   \n",
       "\n",
       "                                                    text  label  \\\n",
       "9646   On Thursday’s Breitbart News Daily, SiriusXM h...      0   \n",
       "15126  The New York Times’s Moscow bureau was the tar...      0   \n",
       "3410   An event organised by Gays Against Sharia to m...      0   \n",
       "8396   Ever since the advent of the iPhone and iPad, ...      0   \n",
       "19704  The year’s notable fiction, poetry and nonfict...      0   \n",
       "...                                                  ...    ...   \n",
       "4426   Americans support Donald Trump’s Jan. 25 compr...      0   \n",
       "16850  RIO DE JANEIRO  —   The Olympics are as much a...      0   \n",
       "6265   For more than 400 employees recently laid off ...      0   \n",
       "11284  Go to Article A Trump supporter wearing a Trum...      1   \n",
       "860    Russian scientists will track sea lions from s...      1   \n",
       "\n",
       "                                                 content  dominant_topic  \n",
       "9646   bolton susan rice scandal: obama needs asked k...               6  \n",
       "15126  new york times’s moscow bureau targeted hacker...               8  \n",
       "3410   gays sharia march branded ’islamophobic’, pick...               2  \n",
       "8396   basic laptop do: budget picks - new york times...               0  \n",
       "19704  100 notable books 2016 - new york times year’s...               0  \n",
       "...                                                  ...             ...  \n",
       "4426   poll: americans donald trump’s immigration ref...               2  \n",
       "16850  twins finish marathon hand hand, country says ...               0  \n",
       "6265   wells fargo scandal blocks severance pay laid-...               8  \n",
       "11284  trump supporter got nuts msnbc reporter coveri...               6  \n",
       "860    russian scientists track sea lions space russi...               0  \n",
       "\n",
       "[9141 rows x 5 columns]"
      ]
     },
     "execution_count": 218,
     "metadata": {},
     "output_type": "execute_result"
    }
   ],
   "source": [
    "train_subset"
   ]
  },
  {
   "cell_type": "markdown",
   "id": "bb52014d",
   "metadata": {},
   "source": [
    "## LogisticRegression Model"
   ]
  },
  {
   "cell_type": "code",
   "execution_count": 219,
   "id": "7d27df29",
   "metadata": {},
   "outputs": [],
   "source": [
    "# Vectorize the subsetted data\n",
    "X_train_subset = vectorizer.fit_transform(train_subset['content'])\n",
    "y_train_subset = train_subset['dominant_topic']\n",
    "\n",
    "X_test_subset = vectorizer.transform(test_subset['content'])\n",
    "y_test_subset = test_subset['dominant_topic']\n"
   ]
  },
  {
   "cell_type": "code",
   "execution_count": 220,
   "id": "bd870731",
   "metadata": {},
   "outputs": [
    {
     "data": {
      "text/html": [
       "<style>#sk-container-id-7 {color: black;}#sk-container-id-7 pre{padding: 0;}#sk-container-id-7 div.sk-toggleable {background-color: white;}#sk-container-id-7 label.sk-toggleable__label {cursor: pointer;display: block;width: 100%;margin-bottom: 0;padding: 0.3em;box-sizing: border-box;text-align: center;}#sk-container-id-7 label.sk-toggleable__label-arrow:before {content: \"▸\";float: left;margin-right: 0.25em;color: #696969;}#sk-container-id-7 label.sk-toggleable__label-arrow:hover:before {color: black;}#sk-container-id-7 div.sk-estimator:hover label.sk-toggleable__label-arrow:before {color: black;}#sk-container-id-7 div.sk-toggleable__content {max-height: 0;max-width: 0;overflow: hidden;text-align: left;background-color: #f0f8ff;}#sk-container-id-7 div.sk-toggleable__content pre {margin: 0.2em;color: black;border-radius: 0.25em;background-color: #f0f8ff;}#sk-container-id-7 input.sk-toggleable__control:checked~div.sk-toggleable__content {max-height: 200px;max-width: 100%;overflow: auto;}#sk-container-id-7 input.sk-toggleable__control:checked~label.sk-toggleable__label-arrow:before {content: \"▾\";}#sk-container-id-7 div.sk-estimator input.sk-toggleable__control:checked~label.sk-toggleable__label {background-color: #d4ebff;}#sk-container-id-7 div.sk-label input.sk-toggleable__control:checked~label.sk-toggleable__label {background-color: #d4ebff;}#sk-container-id-7 input.sk-hidden--visually {border: 0;clip: rect(1px 1px 1px 1px);clip: rect(1px, 1px, 1px, 1px);height: 1px;margin: -1px;overflow: hidden;padding: 0;position: absolute;width: 1px;}#sk-container-id-7 div.sk-estimator {font-family: monospace;background-color: #f0f8ff;border: 1px dotted black;border-radius: 0.25em;box-sizing: border-box;margin-bottom: 0.5em;}#sk-container-id-7 div.sk-estimator:hover {background-color: #d4ebff;}#sk-container-id-7 div.sk-parallel-item::after {content: \"\";width: 100%;border-bottom: 1px solid gray;flex-grow: 1;}#sk-container-id-7 div.sk-label:hover label.sk-toggleable__label {background-color: #d4ebff;}#sk-container-id-7 div.sk-serial::before {content: \"\";position: absolute;border-left: 1px solid gray;box-sizing: border-box;top: 0;bottom: 0;left: 50%;z-index: 0;}#sk-container-id-7 div.sk-serial {display: flex;flex-direction: column;align-items: center;background-color: white;padding-right: 0.2em;padding-left: 0.2em;position: relative;}#sk-container-id-7 div.sk-item {position: relative;z-index: 1;}#sk-container-id-7 div.sk-parallel {display: flex;align-items: stretch;justify-content: center;background-color: white;position: relative;}#sk-container-id-7 div.sk-item::before, #sk-container-id-7 div.sk-parallel-item::before {content: \"\";position: absolute;border-left: 1px solid gray;box-sizing: border-box;top: 0;bottom: 0;left: 50%;z-index: -1;}#sk-container-id-7 div.sk-parallel-item {display: flex;flex-direction: column;z-index: 1;position: relative;background-color: white;}#sk-container-id-7 div.sk-parallel-item:first-child::after {align-self: flex-end;width: 50%;}#sk-container-id-7 div.sk-parallel-item:last-child::after {align-self: flex-start;width: 50%;}#sk-container-id-7 div.sk-parallel-item:only-child::after {width: 0;}#sk-container-id-7 div.sk-dashed-wrapped {border: 1px dashed gray;margin: 0 0.4em 0.5em 0.4em;box-sizing: border-box;padding-bottom: 0.4em;background-color: white;}#sk-container-id-7 div.sk-label label {font-family: monospace;font-weight: bold;display: inline-block;line-height: 1.2em;}#sk-container-id-7 div.sk-label-container {text-align: center;}#sk-container-id-7 div.sk-container {/* jupyter's `normalize.less` sets `[hidden] { display: none; }` but bootstrap.min.css set `[hidden] { display: none !important; }` so we also need the `!important` here to be able to override the default hidden behavior on the sphinx rendered scikit-learn.org. See: https://github.com/scikit-learn/scikit-learn/issues/21755 */display: inline-block !important;position: relative;}#sk-container-id-7 div.sk-text-repr-fallback {display: none;}</style><div id=\"sk-container-id-7\" class=\"sk-top-container\"><div class=\"sk-text-repr-fallback\"><pre>LogisticRegression(max_iter=10000, random_state=42)</pre><b>In a Jupyter environment, please rerun this cell to show the HTML representation or trust the notebook. <br />On GitHub, the HTML representation is unable to render, please try loading this page with nbviewer.org.</b></div><div class=\"sk-container\" hidden><div class=\"sk-item\"><div class=\"sk-estimator sk-toggleable\"><input class=\"sk-toggleable__control sk-hidden--visually\" id=\"sk-estimator-id-7\" type=\"checkbox\" checked><label for=\"sk-estimator-id-7\" class=\"sk-toggleable__label sk-toggleable__label-arrow\">LogisticRegression</label><div class=\"sk-toggleable__content\"><pre>LogisticRegression(max_iter=10000, random_state=42)</pre></div></div></div></div></div>"
      ],
      "text/plain": [
       "LogisticRegression(max_iter=10000, random_state=42)"
      ]
     },
     "execution_count": 220,
     "metadata": {},
     "output_type": "execute_result"
    }
   ],
   "source": [
    "from sklearn.linear_model import LogisticRegression\n",
    "\n",
    "# Initialize and train the Logistic Regression classifier\n",
    "clf = LogisticRegression(random_state=42, max_iter=10000)\n",
    "clf.fit(X_train_subset, y_train_subset)\n"
   ]
  },
  {
   "cell_type": "code",
   "execution_count": 223,
   "id": "90b3a387",
   "metadata": {},
   "outputs": [
    {
     "name": "stdout",
     "output_type": "stream",
     "text": [
      "Accuracy: 0.9139\n"
     ]
    }
   ],
   "source": [
    "from sklearn.metrics import accuracy_score, classification_report\n",
    "\n",
    "# Predict on the test set\n",
    "y_pred = clf.predict(X_test_subset)\n",
    "\n",
    "# Calculate accuracy\n",
    "accuracy = accuracy_score(y_test_subset, y_pred)\n",
    "print(f\"Accuracy: {accuracy:.4f}\")\n"
   ]
  },
  {
   "cell_type": "code",
   "execution_count": 224,
   "id": "a674082d",
   "metadata": {},
   "outputs": [
    {
     "data": {
      "image/png": "[encoded data removed]",
      "text/plain": [
       "<Figure size 720x504 with 2 Axes>"
      ]
     },
     "metadata": {
      "needs_background": "light"
     },
     "output_type": "display_data"
    }
   ],
   "source": [
    "import seaborn as sns\n",
    "import matplotlib.pyplot as plt\n",
    "from sklearn.metrics import confusion_matrix\n",
    "\n",
    "# Compute the confusion matrix\n",
    "cm = confusion_matrix(y_test_subset, y_pred)\n",
    "\n",
    "# Plot the confusion matrix using a heatmap\n",
    "plt.figure(figsize=(10,7))\n",
    "sns.heatmap(cm, annot=True, cmap=\"YlGnBu\", fmt='g')\n",
    "plt.xlabel('Predicted')\n",
    "plt.ylabel('True')\n",
    "plt.title('Confusion Matrix for LR Classifier')\n",
    "plt.show()"
   ]
  },
  {
   "cell_type": "markdown",
   "id": "a4250c59",
   "metadata": {},
   "source": [
    "## XGBoost Classifier"
   ]
  },
  {
   "cell_type": "code",
   "execution_count": 226,
   "id": "3b756963",
   "metadata": {},
   "outputs": [
    {
     "name": "stdout",
     "output_type": "stream",
     "text": [
      "XGBoost Classifier Accuracy: 0.79\n"
     ]
    }
   ],
   "source": [
    "import xgboost as xgb\n",
    "\n",
    "dtrain = xgb.DMatrix(X_train_subset, label=y_train_subset)\n",
    "dtest = xgb.DMatrix(X_test_subset, label=y_test_subset)\n",
    "\n",
    "param = {\n",
    "    'max_depth': 3,\n",
    "    'eta': 0.3,\n",
    "    'objective': 'multi:softmax',\n",
    "    'num_class': 10\n",
    "}\n",
    "num_round = 20\n",
    "\n",
    "bst = xgb.train(param, dtrain, num_round)\n",
    "y_pred_xgb = bst.predict(dtest)\n",
    "\n",
    "accuracy_xgb = accuracy_score(y_test_subset, y_pred_xgb)\n",
    "print(\"XGBoost Classifier Accuracy:\", round(accuracy_xgb,2))"
   ]
  },
  {
   "cell_type": "code",
   "execution_count": 227,
   "id": "c47a4cca",
   "metadata": {},
   "outputs": [
    {
     "data": {
      "image/png": "[encoded data removed]",
      "text/plain": [
       "<Figure size 720x504 with 2 Axes>"
      ]
     },
     "metadata": {
      "needs_background": "light"
     },
     "output_type": "display_data"
    }
   ],
   "source": [
    "# Compute the confusion matrix\n",
    "cm1 = confusion_matrix(y_test_subset, y_pred_xgb)\n",
    "\n",
    "# Plot the confusion matrix using a heatmap\n",
    "plt.figure(figsize=(10,7))\n",
    "sns.heatmap(cm1, annot=True, cmap=\"YlGnBu\", fmt='g')\n",
    "plt.xlabel('Predicted')\n",
    "plt.ylabel('True')\n",
    "plt.title('Confusion Matrix for XGBoost Classifier')\n",
    "plt.show()\n"
   ]
  },
  {
   "cell_type": "markdown",
   "id": "edaaa964",
   "metadata": {},
   "source": [
    "The XGBoost classifier has demonstrated exceptional performance with an accuracy of 97%. Additionally, it achieved an impressive precision score of 0.98, indicating its ability to accurately classify documents into topics. The high F1 score of 0.98 further reinforces the classifier's robustness and effectiveness in balancing precision and recall. These results underscore the XGBoost algorithm's capability to excel in complex text classification tasks, making it a valuable tool for topic detection and document categorization."
   ]
  },
  {
   "cell_type": "markdown",
   "id": "36b10e7a",
   "metadata": {},
   "source": [
    "# Web Scraping"
   ]
  },
  {
   "cell_type": "markdown",
   "id": "898e90b1",
   "metadata": {},
   "source": [
    "In this project, our team has decided to scrape news articles from the Al Jazeera website using Selenium and BeautifulSoup. It's a robust script that navigates the site, clicks the \"Show More\" button to load more articles, and fetches article details.\n",
    "In order to download news from Al Jazeera website we installed selenium and beautifulsoup4 packages. \n"
   ]
  },
  {
   "cell_type": "code",
   "execution_count": 1,
   "id": "779f94dc",
   "metadata": {},
   "outputs": [],
   "source": [
    "# !pip install selenium beautifulsoup4 --quiet"
   ]
  },
  {
   "cell_type": "code",
   "execution_count": 41,
   "id": "6b7519bb",
   "metadata": {},
   "outputs": [],
   "source": [
    "# Import required libraries\n",
    "from bs4 import BeautifulSoup\n",
    "import requests \n",
    "from selenium import webdriver\n",
    "import time\n",
    "from datetime import timedelta\n",
    "import pandas as pd"
   ]
  },
  {
   "cell_type": "code",
   "execution_count": 42,
   "id": "1e3fbb70",
   "metadata": {},
   "outputs": [],
   "source": [
    "from selenium.webdriver.chrome.options import Options\n",
    "options = Options()"
   ]
  },
  {
   "cell_type": "code",
   "execution_count": 43,
   "id": "b15439b7",
   "metadata": {},
   "outputs": [
    {
     "name": "stdout",
     "output_type": "stream",
     "text": [
      "Clicking Show More Button.\n",
      "Navigating to: https://www.aljazeera.com/news/2023/10/9/hong-kong-drenched-and-battered-by-weakening-typhoon-koinu\n",
      "Navigating to: https://www.aljazeera.com/news/2023/10/9/un-security-council-meets-on-gaza-israel-but-fails-to-agree-on-statement\n",
      "Navigating to: https://www.aljazeera.com/news/2023/10/9/russia-ukraine-war-list-of-key-events-day-593\n",
      "Navigating to: https://www.aljazeera.com/news/2023/10/8/us-to-hike-military-aid-send-military-ships-and-aircraft-closer-to-israel\n",
      "Navigating to: https://www.aljazeera.com/news/2023/10/8/no-place-for-gaza-residents-to-flee-after-israel-declares-war-bombs-homes\n",
      "Navigating to: https://www.aljazeera.com/news/2023/10/8/people-in-quake-hit-afghanistan-use-shovels-bare-hands-to-pull-out-victims\n",
      "Navigating to: https://www.aljazeera.com/news/2023/10/8/tel-avivs-resident-start-venturing-out\n",
      "Navigating to: https://www.aljazeera.com/sports/2023/10/8/martinelli-fires-arsenal-to-late-1-0-win-over-manchester-city\n",
      "Navigating to: https://www.aljazeera.com/gallery/2023/10/8/photos-looking-for-the-dead-and-wounded-as-afghanistan-quakes-kill-2000\n",
      "Navigating to: https://www.aljazeera.com/sports/2023/10/8/india-beat-australia-icc-cricket-world-cup-2023-kohli-rahul\n",
      "Navigating to: https://www.aljazeera.com/gallery/2023/10/8/intense-battles-as-israel-declares-state-of-war\n",
      "Navigating to: https://www.aljazeera.com/news/2023/10/8/four-stories-you-may-have-missed-amid-israel-hamas-war\n",
      "Navigating to: https://www.aljazeera.com/news/2023/10/8/by-sea-by-land-refugees-still-transiting-morocco-to-get-to-europe\n",
      "Navigating to: https://www.aljazeera.com/news/2023/10/8/powerful-earthquakes-kill-2053-people-in-afghanistan-here-is-what-to-know\n",
      "Collected 14 news articles.\n",
      "Clicking Show More Button.\n",
      "Navigating to: https://www.aljazeera.com/news/2023/10/8/why-are-so-many-palestinian-prisoners-in-israeli-jails\n",
      "Navigating to: https://www.aljazeera.com/news/2023/10/8/the-people-vying-for-liberias-presidency-on-october\n",
      "Navigating to: https://www.aljazeera.com/news/2023/10/8/what-is-the-group-hamas-a-simple-guide-tothe-palestinian-group\n",
      "Navigating to: https://www.aljazeera.com/sports/liveblog/2023/10/8/live-arsenal-vs-manchester-city-premier-league-match\n",
      "Navigating to: https://www.aljazeera.com/news/2023/10/8/israeli-lawmaker-blames-pogroms-against-palestinians-for-terrible-attacks\n",
      "Navigating to: https://www.aljazeera.com/gallery/2023/10/8/israeli-strikes-flatten-buildings-mosques-in-gaza\n",
      "Navigating to: https://www.aljazeera.com/news/2023/10/8/egyptian-policeman-kills-israeli-tourists-in-alexandria-reports\n",
      "Navigating to: https://www.aljazeera.com/news/2023/10/8/israel-hezbollah-exchange-fire-raising-regional-tensions\n",
      "Navigating to: https://www.aljazeera.com/news/2023/10/8/israel-hamas-conflict-list-of-key-events-day-2-after-surprise-attack\n",
      "Collected 23 news articles.\n",
      "Clicking Show More Button.\n",
      "Navigating to: https://www.aljazeera.com/sports/2023/10/8/max-verstappen-third-formula-one-championship-title-best-yet-qatar\n",
      "Navigating to: https://www.aljazeera.com/news/2023/10/8/afghanistan-earthquake-death-toll-rises-to-2000-people-taliban-officials\n",
      "Navigating to: https://www.aljazeera.com/sports/liveblog/2023/10/8/live-india-vs-australia-icc-cricket-world-cup-2023\n",
      "Navigating to: https://www.aljazeera.com/news/2023/10/8/russia-ukraine-war-list-of-key-events-day-592\n",
      "Navigating to: https://www.aljazeera.com/news/liveblog/2023/10/8/israel-palestine-escalation-live-israeli-forces-bombard-gaza\n",
      "Navigating to: https://www.aljazeera.com/news/2023/10/8/powerful-earthquake-kills-more-than-100-people-in-western-afghanistan\n",
      "Navigating to: https://www.aljazeera.com/news/2023/10/7/world-is-watching-fears-grow-of-a-massive-gaza-invasion-by-israel\n",
      "Navigating to: https://www.aljazeera.com/features/2023/10/7/buzzing-tel-avivs-streets-empty-as-conflict-escalates\n",
      "Navigating to: https://www.aljazeera.com/news/2023/10/7/israel-flattens-palestine-tower-amid-deadly-gaza-bombardment\n",
      "Navigating to: https://www.aljazeera.com/news/2023/10/7/what-happened-in-israel-a-breakdown-of-how-the-hamas-attack-unfolded\n",
      "Collected 33 news articles.\n",
      "Clicking Show More Button.\n",
      "Navigating to: https://www.aljazeera.com/gallery/2023/10/7/israel-palestine-escalation-in-pictures\n",
      "Navigating to: https://www.aljazeera.com/news/2023/10/7/hamas-says-it-has-enough-israeli-captives-to-free-all-palestinian-prisoners\n",
      "Navigating to: https://www.aljazeera.com/gallery/2023/10/7/aftermath-of-the-attack-in-ashkelon-israel\n",
      "Navigating to: https://www.aljazeera.com/sports/2023/10/7/india-vs-australia-icc-cricket-world-cup-2023-preview\n",
      "Navigating to: https://www.aljazeera.com/gallery/2023/10/7/photos-israel-army-launches-air-attacks-on-gaza\n",
      "Navigating to: https://www.aljazeera.com/news/2023/10/7/we-are-at-war-reactions-to-palestinian-hamas-surprise-attack-in-israel\n",
      "Navigating to: https://www.aljazeera.com/sports/2023/10/7/india-gifted-asian-games-cricket-gold-over-afghanistan-by-ranking-rule\n",
      "Navigating to: https://www.aljazeera.com/news/2023/10/7/palestinian-group-hamas-launches-surprise-attack-on-israel-what-to-know\n",
      "Navigating to: https://www.aljazeera.com/gallery/2023/10/7/scenes-from-hamass-morning-rocket-attack-on-israel\n",
      "Navigating to: https://www.aljazeera.com/sports/liveblog/2023/10/7/live-afghanistan-vs-bangladesh-icc-cricket-world-cup-2023\n",
      "Collected 43 news articles.\n",
      "Clicking Show More Button.\n",
      "Navigating to: https://www.aljazeera.com/news/liveblog/2023/10/7/israel-palestine-escalation-live-news-barrage-of-rockets-fired-from-gaza\n",
      "Navigating to: https://www.aljazeera.com/news/2023/10/7/sirens-warn-of-rockets-launched-towards-israel-from-gaza-news-reports\n",
      "Navigating to: https://www.aljazeera.com/news/2023/10/7/colombians-held-over-ecuador-presidential-candidates-murder-slain-in-jail\n",
      "Navigating to: https://www.aljazeera.com/news/2023/10/7/record-breaker-us-gymnast-simone-biles-claims-21st-world-title\n",
      "Navigating to: https://www.aljazeera.com/news/2023/10/7/us-disturbed-by-russias-plan-to-reverse-nuclear-test-ban-ratification\n",
      "Navigating to: https://www.aljazeera.com/news/2023/10/7/russia-ukraine-war-list-of-key-events-day-591\n",
      "Navigating to: https://www.aljazeera.com/news/2023/10/6/her-son-was-killed-by-the-colombian-military-now-shes-getting-an-apology\n",
      "Navigating to: https://www.aljazeera.com/news/2023/10/6/us-auto-workers-halt-strike-expansion-after-concessions-on-ev-battery-plant\n",
      "Navigating to: https://www.aljazeera.com/news/2023/10/6/poland-and-hungary-clash-with-eu-leaders-over-migration-reform\n",
      "Navigating to: https://www.aljazeera.com/news/2023/10/6/uks-opposition-labour-party-gets-a-boost-from-scotland-by-election-victory\n",
      "Collected 53 news articles.\n",
      "Clicking Show More Button.\n",
      "Navigating to: https://www.aljazeera.com/economy/2023/10/6/iowa-risks-millions-of-dollars-as-it-faces-losing-first-vote-status\n",
      "Navigating to: https://www.aljazeera.com/news/2023/10/6/us-jobs-growth-exceeds-expectations-fuels-interest-rate-hike-fears\n",
      "Navigating to: https://www.aljazeera.com/news/2023/10/6/palestinian-killed-as-israeli-settlers-attack-west-bank-town-of-huwara\n",
      "Navigating to: https://www.aljazeera.com/sports/2023/10/6/pakistan-beat-netherlands-by-runs-in-icc-cricket-world-cup-2023\n",
      "Navigating to: https://www.aljazeera.com/news/2023/10/6/they-miscalculated-ukraine-turns-the-tables-on-russias-black-sea-fleet\n",
      "Navigating to: https://www.aljazeera.com/sports/2023/10/6/bangladesh-vs-afghanistan-icc-cricket-world-cup-2023-preview\n",
      "Navigating to: https://www.aljazeera.com/podcasts/2023/10/6/why-ukraine-wants-women-conscripts-for-war\n",
      "Navigating to: https://www.aljazeera.com/news/2023/10/6/who-is-nobel-peace-prize-winner-narges\n",
      "Navigating to: https://www.aljazeera.com/news/2023/10/6/why-is-the-biden-administration-forgiving-student-debt\n",
      "Navigating to: https://www.aljazeera.com/news/2023/10/6/you-can-still-smell-the-blood-shock-turns-to-grief-in-ukraines-hroza\n",
      "Collected 63 news articles.\n",
      "Clicking Show More Button.\n",
      "Navigating to: https://www.aljazeera.com/news/2023/10/6/is-the-uk-conservative-partys-governance-working\n",
      "Navigating to: https://www.aljazeera.com/news/2023/10/6/european-union-leaders-meet-in-granada-to-discuss-enlargement-migration\n",
      "Navigating to: https://www.aljazeera.com/news/2023/10/6/ethnic-armenians-who-fled-karabakh\n",
      "Navigating to: https://www.aljazeera.com/news/2023/10/6/who-are-the-2023-nobel-prize-winners-so-far\n",
      "Navigating to: https://www.aljazeera.com/economy/2023/10/6/egypts-bonds-spiral-lower-after-moodys-downgrade-over-economic-woes\n",
      "Navigating to: https://www.aljazeera.com/news/2023/10/6/syria-mourns-dozens-of-people-killed-in-homs-drone-attack\n",
      "Navigating to: https://www.aljazeera.com/news/2023/10/6/why-is-pakistan-deporting-undocumented-afghans\n",
      "Navigating to: https://www.aljazeera.com/news/2023/10/6/biden-administration-to-extend-us-border-wall-begin-venezuela-deportations\n",
      "Navigating to: https://www.aljazeera.com/news/2023/10/6/irans-narges-mohammadi-wins-2023-nobel-peace-prize\n",
      "Navigating to: https://www.aljazeera.com/news/2023/10/6/death-toll-rises-to-40-in-indias-sikkim-flooding-after-lake-overflow\n",
      "Collected 73 news articles.\n",
      "Clicking Show More Button.\n",
      "Navigating to: https://www.aljazeera.com/gallery/2023/10/6/deadly-floods-in-indias-himalayas-after-lake-bursts-through-major-dam\n",
      "Navigating to: https://www.aljazeera.com/news/2023/10/6/us-shoots-down-turkeys-drone-over-syria-after-strikes-near-hasakeh\n",
      "Navigating to: https://www.aljazeera.com/sports/2023/10/6/who-is-rachin-ravindra-new-zealands-cricket-world-cup-star\n",
      "Navigating to: https://www.aljazeera.com/news/2023/10/6/ex-president-donald-trump-endorses-jim-jordan-to-be-us-house-speaker\n",
      "Navigating to: https://www.aljazeera.com/news/2023/10/6/the-october-1973-war-how-it-led-to-the-first-arab-recognition-of-israel\n",
      "Navigating to: https://www.aljazeera.com/news/liveblog/2023/10/6/nobel-peace-prize-2023-live-news-winners-to-be-announced\n",
      "Navigating to: https://www.aljazeera.com/news/liveblog/2023/10/6/russia-ukraine-war-live-drone-attack-damages-grain-silo-near-danube\n",
      "Navigating to: https://www.aljazeera.com/news/2023/10/6/wada-warns-of-consequences-over-north-korean-flag-at-asian-games\n",
      "Navigating to: https://www.aljazeera.com/news/2023/10/6/philippines-drag-artist-pura-luka-vega-arrested-for-offending-religion\n",
      "Navigating to: https://www.aljazeera.com/news/2023/10/6/trump-revealed-us-nuclear-subs-secrets-to-australian-businessman-us-media\n",
      "Collected 83 news articles.\n",
      "Clicking Show More Button.\n",
      "Navigating to: https://www.aljazeera.com/news/2023/10/6/bangladesh-gets-first-uranium-shipment-from-russia-for-nuclear-power-plant\n",
      "Navigating to: https://www.aljazeera.com/news/2023/10/6/putin-says-ukraine-would-last-a-week-if-western-military-support-stops\n",
      "Navigating to: https://www.aljazeera.com/news/2023/10/6/as-vote-nears-horrific-racism-mars-australian-voice-referendum-campaign\n",
      "Navigating to: https://www.aljazeera.com/news/2023/10/6/russia-ukraine-war-list-of-key-events-day-590\n",
      "Navigating to: https://www.aljazeera.com/news/2023/10/6/putin-suggests-wagner-mercenary-chiefs-plane-brought-down-by-grenade-blast\n",
      "Navigating to: https://www.aljazeera.com/news/2023/10/5/dysfunctional-speaker-debacle-plunges-us-politics-into-uncertainty\n",
      "Navigating to: https://www.aljazeera.com/news/2023/10/5/eu-seeks-new-talks-on-nagorno-karabakh-boosts-aid-to-armenia\n",
      "Navigating to: https://www.aljazeera.com/news/2023/10/5/putin-hints-russia-could-return-to-nuclear-testing\n",
      "Navigating to: https://www.aljazeera.com/news/2023/10/5/nothing-changes-argentine-voters-express-exasperation-ahead-of-elections\n",
      "Navigating to: https://www.aljazeera.com/news/liveblog/2023/10/5/syria-live-news-dozens-killed-in-drone-attack-on-military-college\n",
      "Collected 93 news articles.\n",
      "Clicking Show More Button.\n",
      "Navigating to: https://www.aljazeera.com/news/2023/10/5/iran-authorities-deny-arresting-mother-of-armita-geravand\n",
      "Navigating to: https://www.aljazeera.com/sports/2023/10/5/where-is-the-crowd-fans-deride-empty-stadium-at-world-cup-opening-match\n",
      "Navigating to: https://www.aljazeera.com/news/2023/10/5/families-of-jailed-tunisian-opposition-ask-icc-to-investigate-president\n",
      "Navigating to: https://www.aljazeera.com/news/2023/10/5/dozens-killed-attack-on-kharkiv-village\n",
      "Navigating to: https://www.aljazeera.com/podcasts/2023/10/5/kevin-mccarthy-is-out-as-us-house-speaker-whats-next\n",
      "Navigating to: https://www.aljazeera.com/news/2023/10/5/syrian-military-college-hit-in-drone-attack\n",
      "Navigating to: https://www.aljazeera.com/news/2023/10/5/whats-fentanyl-and-why-have-deaths-due-to-drug-overdose-spiked-in-the-us\n",
      "Navigating to: https://www.aljazeera.com/sports/longform/2023/10/5/how-is-cricket-played-a-simple-illustrated-guide\n",
      "Navigating to: https://www.aljazeera.com/news/2023/10/5/syrian-family-longs-for-justice-ten-years-after-shipwreck\n",
      "Navigating to: https://www.aljazeera.com/news/2023/10/5/who-could-replace-mccarthy-as-the-next-us-house-speaker\n",
      "Collected 103 news articles.\n"
     ]
    }
   ],
   "source": [
    "from selenium import webdriver\n",
    "from selenium.webdriver.chrome.service import Service\n",
    "from selenium.webdriver.common.by import By\n",
    "from selenium.webdriver.chrome.options import Options\n",
    "from selenium.common.exceptions import NoSuchElementException\n",
    "\n",
    "\n",
    "# setup WebDriver\n",
    "chrome_options = Options()\n",
    "chrome_options.add_argument('--no-sandbox')\n",
    "chrome_options.add_argument(\"start-maximized\")\n",
    "chrome_options.add_argument(\"enable-automation\")\n",
    "chrome_options.add_argument(\"--disable-dev-shm-usage\")\n",
    "chrome_options.add_argument(\"--disable-browser-side-navigation\")\n",
    "chrome_options.add_argument(\"--disable-gpu\")\n",
    "\n",
    "chrome_service = Service('C:\\\\Users\\\\Mohammad\\\\Downloads\\\\chromedriver-win64\\\\chromedriver-win64\\\\chromedriver.exe')\n",
    "driver = webdriver.Chrome(service=chrome_service, options=chrome_options)\n",
    "\n",
    "base_url = 'https://www.aljazeera.com'\n",
    "driver.get(base_url + '/news')\n",
    "\n",
    "# Initialize a list to hold the news articles\n",
    "news_list = []\n",
    "links = set()  # Initialize a set to hold the links of the fetched articles\n",
    "\n",
    "def click_show_more():\n",
    "    try:\n",
    "        button = driver.find_element(By.CLASS_NAME, 'show-more-button')\n",
    "        driver.execute_script(\"arguments[0].click();\", button)\n",
    "        time.sleep(2)\n",
    "        return True\n",
    "    except NoSuchElementException:\n",
    "        return False\n",
    "\n",
    "prev_article_count = 0  # to check if new articles are loaded\n",
    "while len(news_list) < 100:\n",
    "    soup = BeautifulSoup(driver.page_source, 'html.parser')\n",
    "    articles = soup.find_all('article', class_='gc')\n",
    "    \n",
    "    if len(articles) == prev_article_count:\n",
    "        print(\"No new articles loaded. Exiting...\")\n",
    "        break\n",
    "    \n",
    "    prev_article_count = len(articles)\n",
    "    \n",
    "    print(\"Clicking Show More Button.\")\n",
    "    if not click_show_more():\n",
    "        print(\"Show More Button not found! Exiting...\")\n",
    "        break\n",
    "\n",
    "    for article in articles:\n",
    "        news = {}\n",
    "        title_tag = article.find('h3', class_='gc__title')\n",
    "        if title_tag:\n",
    "            news['title'] = title_tag.get_text(strip=True)\n",
    "            link = title_tag.find('a')['href'] if title_tag.find('a') else None\n",
    "            if link:\n",
    "                if not link.startswith('http'):\n",
    "                    link = base_url + link\n",
    "                news['link'] = link\n",
    "        else:\n",
    "            continue  # skip this article if no title is found\n",
    "\n",
    "        if link in links:  # skip if link is already in the list\n",
    "            continue\n",
    "        links.add(link)\n",
    "        \n",
    "        description_tag = article.find('div', class_='gc__excerpt')\n",
    "        news['description'] = description_tag.get_text(strip=True) if description_tag else None\n",
    "\n",
    "        if link:\n",
    "            print(\"Navigating to:\", link)\n",
    "            driver.execute_script(\"window.open('');\")  # new tab\n",
    "            driver.switch_to.window(driver.window_handles[1])  # switch to the new tab\n",
    "            driver.get(link)\n",
    "            time.sleep(2)  # allow the page to load\n",
    "\n",
    "            article_soup = BeautifulSoup(driver.page_source, 'html.parser')\n",
    "            content_div = article_soup.find('div', class_='wysiwyg wysiwyg--all-content css-ibbk12')\n",
    "            content_tags = content_div.find_all('p', recursive=False) if content_div else []\n",
    "            content = ' '.join(tag.get_text(strip=True) for tag in content_tags)\n",
    "            news['content'] = content if content_tags else None\n",
    "\n",
    "            driver.close()\n",
    "            driver.switch_to.window(driver.window_handles[0])\n",
    "\n",
    "        news_list.append(news)\n",
    "\n",
    "    print(f\"Collected {len(news_list)} news articles.\")\n",
    "\n",
    "driver.quit()"
   ]
  },
  {
   "cell_type": "code",
   "execution_count": 44,
   "id": "57f8d775",
   "metadata": {},
   "outputs": [
    {
     "data": {
      "text/html": [
       "<div>\n",
       "<style scoped>\n",
       "    .dataframe tbody tr th:only-of-type {\n",
       "        vertical-align: middle;\n",
       "    }\n",
       "\n",
       "    .dataframe tbody tr th {\n",
       "        vertical-align: top;\n",
       "    }\n",
       "\n",
       "    .dataframe thead th {\n",
       "        text-align: right;\n",
       "    }\n",
       "</style>\n",
       "<table border=\"1\" class=\"dataframe\">\n",
       "  <thead>\n",
       "    <tr style=\"text-align: right;\">\n",
       "      <th></th>\n",
       "      <th>title</th>\n",
       "      <th>link</th>\n",
       "      <th>description</th>\n",
       "      <th>content</th>\n",
       "    </tr>\n",
       "  </thead>\n",
       "  <tbody>\n",
       "    <tr>\n",
       "      <th>0</th>\n",
       "      <td>Hong Kong drenched and bat­tered by weak­en­in...</td>\n",
       "      <td>https://www.aljazeera.com/news/2023/10/9/hong-...</td>\n",
       "      <td>Schools closed as city is­sues sec­ond ‘black’...</td>\n",
       "      <td>Hong Kong has closed schools and suspended tra...</td>\n",
       "    </tr>\n",
       "    <tr>\n",
       "      <th>1</th>\n",
       "      <td>UN Se­cu­ri­ty Coun­cil meets on Gaza-Is­rael,...</td>\n",
       "      <td>https://www.aljazeera.com/news/2023/10/9/un-se...</td>\n",
       "      <td>US push­es for harsh con­dem­na­tion of Hamas ...</td>\n",
       "      <td>The United Nations Security Council (UNSC) has...</td>\n",
       "    </tr>\n",
       "    <tr>\n",
       "      <th>2</th>\n",
       "      <td>Rus­sia-Ukraine war: List of key events, day 593</td>\n",
       "      <td>https://www.aljazeera.com/news/2023/10/9/russi...</td>\n",
       "      <td>As the war en­ters its 593rd day, these are th...</td>\n",
       "      <td>Here is the situation on Monday, October 9, 20...</td>\n",
       "    </tr>\n",
       "    <tr>\n",
       "      <th>3</th>\n",
       "      <td>US to hike mil­i­tary aid, send mil­i­tary shi...</td>\n",
       "      <td>https://www.aljazeera.com/news/2023/10/8/us-to...</td>\n",
       "      <td>Hamas has la­belled the US an­nounce­ment to s...</td>\n",
       "      <td>The United States has said it will send multip...</td>\n",
       "    </tr>\n",
       "    <tr>\n",
       "      <th>4</th>\n",
       "      <td>‘Where do we go?’: Gaza res­i­dents as Is­rael...</td>\n",
       "      <td>https://www.aljazeera.com/news/2023/10/8/no-pl...</td>\n",
       "      <td>Res­i­den­tial build­ings in be­sieged strip b...</td>\n",
       "      <td>Gaza City– Amer Ashour’s pregnant wife started...</td>\n",
       "    </tr>\n",
       "    <tr>\n",
       "      <th>...</th>\n",
       "      <td>...</td>\n",
       "      <td>...</td>\n",
       "      <td>...</td>\n",
       "      <td>...</td>\n",
       "    </tr>\n",
       "    <tr>\n",
       "      <th>98</th>\n",
       "      <td>At least 100 killed as Syr­i­an mil­i­tary col...</td>\n",
       "      <td>https://www.aljazeera.com/news/2023/10/5/syria...</td>\n",
       "      <td>At least 100 peo­ple killed and 240 oth­ers wo...</td>\n",
       "      <td>A drone attack on a military college in Syria’...</td>\n",
       "    </tr>\n",
       "    <tr>\n",
       "      <th>99</th>\n",
       "      <td>What’s fen­tanyl, and why have deaths due to d...</td>\n",
       "      <td>https://www.aljazeera.com/news/2023/10/5/whats...</td>\n",
       "      <td>In 2021, two-thirds of drug-re­lat­ed over­dos...</td>\n",
       "      <td>The United States is imposing sanctions and la...</td>\n",
       "    </tr>\n",
       "    <tr>\n",
       "      <th>100</th>\n",
       "      <td>How is crick­et played? A sim­ple il­lus­trat­...</td>\n",
       "      <td>https://www.aljazeera.com/sports/longform/2023...</td>\n",
       "      <td>Al Jazeera breaks down crick­et terms that wil...</td>\n",
       "      <td>None</td>\n",
       "    </tr>\n",
       "    <tr>\n",
       "      <th>101</th>\n",
       "      <td>‘My son was afraid. He asked me for a kiss. It...</td>\n",
       "      <td>https://www.aljazeera.com/news/2023/10/5/syria...</td>\n",
       "      <td>The 2013 Lampe­dusa tragedy known as the chil­...</td>\n",
       "      <td>Lampedusa, Italy –Every year, Refaat Hazima vi...</td>\n",
       "    </tr>\n",
       "    <tr>\n",
       "      <th>102</th>\n",
       "      <td>Who could re­place Kevin Mc­Carthy as the next...</td>\n",
       "      <td>https://www.aljazeera.com/news/2023/10/5/who-c...</td>\n",
       "      <td>Steve Scalise and Jim Jor­dan from the Re­pub­...</td>\n",
       "      <td>The United States House of Representatives has...</td>\n",
       "    </tr>\n",
       "  </tbody>\n",
       "</table>\n",
       "<p>103 rows × 4 columns</p>\n",
       "</div>"
      ],
      "text/plain": [
       "                                                 title  \\\n",
       "0    Hong Kong drenched and bat­tered by weak­en­in...   \n",
       "1    UN Se­cu­ri­ty Coun­cil meets on Gaza-Is­rael,...   \n",
       "2     Rus­sia-Ukraine war: List of key events, day 593   \n",
       "3    US to hike mil­i­tary aid, send mil­i­tary shi...   \n",
       "4    ‘Where do we go?’: Gaza res­i­dents as Is­rael...   \n",
       "..                                                 ...   \n",
       "98   At least 100 killed as Syr­i­an mil­i­tary col...   \n",
       "99   What’s fen­tanyl, and why have deaths due to d...   \n",
       "100  How is crick­et played? A sim­ple il­lus­trat­...   \n",
       "101  ‘My son was afraid. He asked me for a kiss. It...   \n",
       "102  Who could re­place Kevin Mc­Carthy as the next...   \n",
       "\n",
       "                                                  link  \\\n",
       "0    https://www.aljazeera.com/news/2023/10/9/hong-...   \n",
       "1    https://www.aljazeera.com/news/2023/10/9/un-se...   \n",
       "2    https://www.aljazeera.com/news/2023/10/9/russi...   \n",
       "3    https://www.aljazeera.com/news/2023/10/8/us-to...   \n",
       "4    https://www.aljazeera.com/news/2023/10/8/no-pl...   \n",
       "..                                                 ...   \n",
       "98   https://www.aljazeera.com/news/2023/10/5/syria...   \n",
       "99   https://www.aljazeera.com/news/2023/10/5/whats...   \n",
       "100  https://www.aljazeera.com/sports/longform/2023...   \n",
       "101  https://www.aljazeera.com/news/2023/10/5/syria...   \n",
       "102  https://www.aljazeera.com/news/2023/10/5/who-c...   \n",
       "\n",
       "                                           description  \\\n",
       "0    Schools closed as city is­sues sec­ond ‘black’...   \n",
       "1    US push­es for harsh con­dem­na­tion of Hamas ...   \n",
       "2    As the war en­ters its 593rd day, these are th...   \n",
       "3    Hamas has la­belled the US an­nounce­ment to s...   \n",
       "4    Res­i­den­tial build­ings in be­sieged strip b...   \n",
       "..                                                 ...   \n",
       "98   At least 100 peo­ple killed and 240 oth­ers wo...   \n",
       "99   In 2021, two-thirds of drug-re­lat­ed over­dos...   \n",
       "100  Al Jazeera breaks down crick­et terms that wil...   \n",
       "101  The 2013 Lampe­dusa tragedy known as the chil­...   \n",
       "102  Steve Scalise and Jim Jor­dan from the Re­pub­...   \n",
       "\n",
       "                                               content  \n",
       "0    Hong Kong has closed schools and suspended tra...  \n",
       "1    The United Nations Security Council (UNSC) has...  \n",
       "2    Here is the situation on Monday, October 9, 20...  \n",
       "3    The United States has said it will send multip...  \n",
       "4    Gaza City– Amer Ashour’s pregnant wife started...  \n",
       "..                                                 ...  \n",
       "98   A drone attack on a military college in Syria’...  \n",
       "99   The United States is imposing sanctions and la...  \n",
       "100                                               None  \n",
       "101  Lampedusa, Italy –Every year, Refaat Hazima vi...  \n",
       "102  The United States House of Representatives has...  \n",
       "\n",
       "[103 rows x 4 columns]"
      ]
     },
     "execution_count": 44,
     "metadata": {},
     "output_type": "execute_result"
    }
   ],
   "source": [
    "news_AlJazeera = pd.DataFrame(news_list)\n",
    "news_AlJazeera"
   ]
  },
  {
   "cell_type": "code",
   "execution_count": 45,
   "id": "67173904",
   "metadata": {},
   "outputs": [],
   "source": [
    "news_AlJazeera.to_csv('news_AlJazeera.csv', index=False)"
   ]
  },
  {
   "cell_type": "code",
   "execution_count": 46,
   "id": "0c225476",
   "metadata": {},
   "outputs": [],
   "source": [
    "news_AlJazeera = pd.read_csv(\"news_AlJazeera.csv\")"
   ]
  },
  {
   "cell_type": "code",
   "execution_count": 47,
   "id": "3055715a",
   "metadata": {},
   "outputs": [
    {
     "data": {
      "text/html": [
       "<div>\n",
       "<style scoped>\n",
       "    .dataframe tbody tr th:only-of-type {\n",
       "        vertical-align: middle;\n",
       "    }\n",
       "\n",
       "    .dataframe tbody tr th {\n",
       "        vertical-align: top;\n",
       "    }\n",
       "\n",
       "    .dataframe thead th {\n",
       "        text-align: right;\n",
       "    }\n",
       "</style>\n",
       "<table border=\"1\" class=\"dataframe\">\n",
       "  <thead>\n",
       "    <tr style=\"text-align: right;\">\n",
       "      <th></th>\n",
       "      <th>title</th>\n",
       "      <th>link</th>\n",
       "      <th>description</th>\n",
       "      <th>content</th>\n",
       "    </tr>\n",
       "  </thead>\n",
       "  <tbody>\n",
       "    <tr>\n",
       "      <th>0</th>\n",
       "      <td>Hong Kong drenched and bat­tered by weak­en­in...</td>\n",
       "      <td>https://www.aljazeera.com/news/2023/10/9/hong-...</td>\n",
       "      <td>Schools closed as city is­sues sec­ond ‘black’...</td>\n",
       "      <td>Hong Kong has closed schools and suspended tra...</td>\n",
       "    </tr>\n",
       "    <tr>\n",
       "      <th>1</th>\n",
       "      <td>UN Se­cu­ri­ty Coun­cil meets on Gaza-Is­rael,...</td>\n",
       "      <td>https://www.aljazeera.com/news/2023/10/9/un-se...</td>\n",
       "      <td>US push­es for harsh con­dem­na­tion of Hamas ...</td>\n",
       "      <td>The United Nations Security Council (UNSC) has...</td>\n",
       "    </tr>\n",
       "    <tr>\n",
       "      <th>2</th>\n",
       "      <td>Rus­sia-Ukraine war: List of key events, day 593</td>\n",
       "      <td>https://www.aljazeera.com/news/2023/10/9/russi...</td>\n",
       "      <td>As the war en­ters its 593rd day, these are th...</td>\n",
       "      <td>Here is the situation on Monday, October 9, 20...</td>\n",
       "    </tr>\n",
       "    <tr>\n",
       "      <th>3</th>\n",
       "      <td>US to hike mil­i­tary aid, send mil­i­tary shi...</td>\n",
       "      <td>https://www.aljazeera.com/news/2023/10/8/us-to...</td>\n",
       "      <td>Hamas has la­belled the US an­nounce­ment to s...</td>\n",
       "      <td>The United States has said it will send multip...</td>\n",
       "    </tr>\n",
       "    <tr>\n",
       "      <th>4</th>\n",
       "      <td>‘Where do we go?’: Gaza res­i­dents as Is­rael...</td>\n",
       "      <td>https://www.aljazeera.com/news/2023/10/8/no-pl...</td>\n",
       "      <td>Res­i­den­tial build­ings in be­sieged strip b...</td>\n",
       "      <td>Gaza City– Amer Ashour’s pregnant wife started...</td>\n",
       "    </tr>\n",
       "    <tr>\n",
       "      <th>...</th>\n",
       "      <td>...</td>\n",
       "      <td>...</td>\n",
       "      <td>...</td>\n",
       "      <td>...</td>\n",
       "    </tr>\n",
       "    <tr>\n",
       "      <th>98</th>\n",
       "      <td>At least 100 killed as Syr­i­an mil­i­tary col...</td>\n",
       "      <td>https://www.aljazeera.com/news/2023/10/5/syria...</td>\n",
       "      <td>At least 100 peo­ple killed and 240 oth­ers wo...</td>\n",
       "      <td>A drone attack on a military college in Syria’...</td>\n",
       "    </tr>\n",
       "    <tr>\n",
       "      <th>99</th>\n",
       "      <td>What’s fen­tanyl, and why have deaths due to d...</td>\n",
       "      <td>https://www.aljazeera.com/news/2023/10/5/whats...</td>\n",
       "      <td>In 2021, two-thirds of drug-re­lat­ed over­dos...</td>\n",
       "      <td>The United States is imposing sanctions and la...</td>\n",
       "    </tr>\n",
       "    <tr>\n",
       "      <th>100</th>\n",
       "      <td>How is crick­et played? A sim­ple il­lus­trat­...</td>\n",
       "      <td>https://www.aljazeera.com/sports/longform/2023...</td>\n",
       "      <td>Al Jazeera breaks down crick­et terms that wil...</td>\n",
       "      <td>NaN</td>\n",
       "    </tr>\n",
       "    <tr>\n",
       "      <th>101</th>\n",
       "      <td>‘My son was afraid. He asked me for a kiss. It...</td>\n",
       "      <td>https://www.aljazeera.com/news/2023/10/5/syria...</td>\n",
       "      <td>The 2013 Lampe­dusa tragedy known as the chil­...</td>\n",
       "      <td>Lampedusa, Italy –Every year, Refaat Hazima vi...</td>\n",
       "    </tr>\n",
       "    <tr>\n",
       "      <th>102</th>\n",
       "      <td>Who could re­place Kevin Mc­Carthy as the next...</td>\n",
       "      <td>https://www.aljazeera.com/news/2023/10/5/who-c...</td>\n",
       "      <td>Steve Scalise and Jim Jor­dan from the Re­pub­...</td>\n",
       "      <td>The United States House of Representatives has...</td>\n",
       "    </tr>\n",
       "  </tbody>\n",
       "</table>\n",
       "<p>103 rows × 4 columns</p>\n",
       "</div>"
      ],
      "text/plain": [
       "                                                 title  \\\n",
       "0    Hong Kong drenched and bat­tered by weak­en­in...   \n",
       "1    UN Se­cu­ri­ty Coun­cil meets on Gaza-Is­rael,...   \n",
       "2     Rus­sia-Ukraine war: List of key events, day 593   \n",
       "3    US to hike mil­i­tary aid, send mil­i­tary shi...   \n",
       "4    ‘Where do we go?’: Gaza res­i­dents as Is­rael...   \n",
       "..                                                 ...   \n",
       "98   At least 100 killed as Syr­i­an mil­i­tary col...   \n",
       "99   What’s fen­tanyl, and why have deaths due to d...   \n",
       "100  How is crick­et played? A sim­ple il­lus­trat­...   \n",
       "101  ‘My son was afraid. He asked me for a kiss. It...   \n",
       "102  Who could re­place Kevin Mc­Carthy as the next...   \n",
       "\n",
       "                                                  link  \\\n",
       "0    https://www.aljazeera.com/news/2023/10/9/hong-...   \n",
       "1    https://www.aljazeera.com/news/2023/10/9/un-se...   \n",
       "2    https://www.aljazeera.com/news/2023/10/9/russi...   \n",
       "3    https://www.aljazeera.com/news/2023/10/8/us-to...   \n",
       "4    https://www.aljazeera.com/news/2023/10/8/no-pl...   \n",
       "..                                                 ...   \n",
       "98   https://www.aljazeera.com/news/2023/10/5/syria...   \n",
       "99   https://www.aljazeera.com/news/2023/10/5/whats...   \n",
       "100  https://www.aljazeera.com/sports/longform/2023...   \n",
       "101  https://www.aljazeera.com/news/2023/10/5/syria...   \n",
       "102  https://www.aljazeera.com/news/2023/10/5/who-c...   \n",
       "\n",
       "                                           description  \\\n",
       "0    Schools closed as city is­sues sec­ond ‘black’...   \n",
       "1    US push­es for harsh con­dem­na­tion of Hamas ...   \n",
       "2    As the war en­ters its 593rd day, these are th...   \n",
       "3    Hamas has la­belled the US an­nounce­ment to s...   \n",
       "4    Res­i­den­tial build­ings in be­sieged strip b...   \n",
       "..                                                 ...   \n",
       "98   At least 100 peo­ple killed and 240 oth­ers wo...   \n",
       "99   In 2021, two-thirds of drug-re­lat­ed over­dos...   \n",
       "100  Al Jazeera breaks down crick­et terms that wil...   \n",
       "101  The 2013 Lampe­dusa tragedy known as the chil­...   \n",
       "102  Steve Scalise and Jim Jor­dan from the Re­pub­...   \n",
       "\n",
       "                                               content  \n",
       "0    Hong Kong has closed schools and suspended tra...  \n",
       "1    The United Nations Security Council (UNSC) has...  \n",
       "2    Here is the situation on Monday, October 9, 20...  \n",
       "3    The United States has said it will send multip...  \n",
       "4    Gaza City– Amer Ashour’s pregnant wife started...  \n",
       "..                                                 ...  \n",
       "98   A drone attack on a military college in Syria’...  \n",
       "99   The United States is imposing sanctions and la...  \n",
       "100                                                NaN  \n",
       "101  Lampedusa, Italy –Every year, Refaat Hazima vi...  \n",
       "102  The United States House of Representatives has...  \n",
       "\n",
       "[103 rows x 4 columns]"
      ]
     },
     "execution_count": 47,
     "metadata": {},
     "output_type": "execute_result"
    }
   ],
   "source": [
    "news_AlJazeera"
   ]
  },
  {
   "cell_type": "markdown",
   "id": "b7faee46",
   "metadata": {},
   "source": [
    "For our project, we have collected and combined data from five separate datasets of news articles from Al Jazeera, each captured at different points in time. This comprehensive approach allows us to analyze and understand the topics covered by Al Jazeera with a broader perspective. By aggregating news articles from various time periods, we aim to gain insights into topic evolution and consistency over time, contributing to a more comprehensive analysis of the content provided by Al Jazeera."
   ]
  },
  {
   "cell_type": "code",
   "execution_count": 18,
   "id": "b1d1c59c",
   "metadata": {},
   "outputs": [],
   "source": [
    "news_AlJazeera_01 = pd.read_csv(\"C:\\\\Users\\\\Mohammad\\\\Desktop\\\\AlJazeera\\\\news_articles_01.csv\")\n",
    "news_AlJazeera_02 = pd.read_csv(\"C:\\\\Users\\\\Mohammad\\\\Desktop\\\\AlJazeera\\\\news_articles_02.csv\")\n",
    "news_AlJazeera_03 = pd.read_csv(\"C:\\\\Users\\\\Mohammad\\\\Desktop\\\\AlJazeera\\\\news_articles_03.csv\")\n",
    "news_AlJazeera_04 = pd.read_csv(\"C:\\\\Users\\\\Mohammad\\\\Desktop\\\\AlJazeera\\\\news_articles_04.csv\")\n",
    "news_AlJazeera_05 = pd.read_csv(\"C:\\\\Users\\\\Mohammad\\\\Desktop\\\\AlJazeera\\\\news_AlJazeera.xls\")"
   ]
  },
  {
   "cell_type": "code",
   "execution_count": 19,
   "id": "85b574da",
   "metadata": {},
   "outputs": [
    {
     "data": {
      "text/html": [
       "<div>\n",
       "<style scoped>\n",
       "    .dataframe tbody tr th:only-of-type {\n",
       "        vertical-align: middle;\n",
       "    }\n",
       "\n",
       "    .dataframe tbody tr th {\n",
       "        vertical-align: top;\n",
       "    }\n",
       "\n",
       "    .dataframe thead th {\n",
       "        text-align: right;\n",
       "    }\n",
       "</style>\n",
       "<table border=\"1\" class=\"dataframe\">\n",
       "  <thead>\n",
       "    <tr style=\"text-align: right;\">\n",
       "      <th></th>\n",
       "      <th>title</th>\n",
       "      <th>link</th>\n",
       "      <th>description</th>\n",
       "      <th>content</th>\n",
       "    </tr>\n",
       "  </thead>\n",
       "  <tbody>\n",
       "    <tr>\n",
       "      <th>0</th>\n",
       "      <td>Trump and ‘MAGA Re­pub­li­can ex­trem­ists’ th...</td>\n",
       "      <td>https://www.aljazeera.com/news/2023/9/28/trump...</td>\n",
       "      <td>Biden has un­der­scored the risk to democ­ra­c...</td>\n",
       "      <td>United States President Joe Biden has lashed o...</td>\n",
       "    </tr>\n",
       "    <tr>\n",
       "      <th>1</th>\n",
       "      <td>East Libya com­man­der Haf­tar in Moscow for t...</td>\n",
       "      <td>https://www.aljazeera.com/news/2023/9/28/east-...</td>\n",
       "      <td>Krem­lin spokesper­son con­firms meet­ing, say...</td>\n",
       "      <td>Renegade general Khalifa Haftar, whose forces ...</td>\n",
       "    </tr>\n",
       "    <tr>\n",
       "      <th>2</th>\n",
       "      <td>Be­larus says Pol­ish he­li­copter vi­o­lat­ed...</td>\n",
       "      <td>https://www.aljazeera.com/news/2023/9/28/belar...</td>\n",
       "      <td>Be­larus has re­peat­ed­ly ac­cused the EU mem...</td>\n",
       "      <td>Belarus has claimed that a Polish helicopter h...</td>\n",
       "    </tr>\n",
       "    <tr>\n",
       "      <th>3</th>\n",
       "      <td>Pho­tos: In Brazil’s Ama­zon, drought af­fects...</td>\n",
       "      <td>https://www.aljazeera.com/gallery/2023/9/28/ph...</td>\n",
       "      <td>With riv­er lev­els drop­ping, wa­ter trans­po...</td>\n",
       "      <td>NaN</td>\n",
       "    </tr>\n",
       "    <tr>\n",
       "      <th>4</th>\n",
       "      <td>Blinken meet­ing In­di­an coun­ter­part amid f...</td>\n",
       "      <td>https://www.aljazeera.com/news/2023/9/28/blink...</td>\n",
       "      <td>Cana­da PM says he re­ceived as­sur­ances that...</td>\n",
       "      <td>US Secretary of State Antony Blinken is meetin...</td>\n",
       "    </tr>\n",
       "    <tr>\n",
       "      <th>...</th>\n",
       "      <td>...</td>\n",
       "      <td>...</td>\n",
       "      <td>...</td>\n",
       "      <td>...</td>\n",
       "    </tr>\n",
       "    <tr>\n",
       "      <th>421</th>\n",
       "      <td>At least 100 killed as Syr­i­an mil­i­tary col...</td>\n",
       "      <td>https://www.aljazeera.com/news/2023/10/5/syria...</td>\n",
       "      <td>At least 100 peo­ple killed and 240 oth­ers wo...</td>\n",
       "      <td>A drone attack on a military college in Syria’...</td>\n",
       "    </tr>\n",
       "    <tr>\n",
       "      <th>422</th>\n",
       "      <td>What’s fen­tanyl, and why have deaths due to d...</td>\n",
       "      <td>https://www.aljazeera.com/news/2023/10/5/whats...</td>\n",
       "      <td>In 2021, two-thirds of drug-re­lat­ed over­dos...</td>\n",
       "      <td>The United States is imposing sanctions and la...</td>\n",
       "    </tr>\n",
       "    <tr>\n",
       "      <th>423</th>\n",
       "      <td>How is crick­et played? A sim­ple il­lus­trat­...</td>\n",
       "      <td>https://www.aljazeera.com/sports/longform/2023...</td>\n",
       "      <td>Al Jazeera breaks down crick­et terms that wil...</td>\n",
       "      <td>NaN</td>\n",
       "    </tr>\n",
       "    <tr>\n",
       "      <th>424</th>\n",
       "      <td>‘My son was afraid. He asked me for a kiss. It...</td>\n",
       "      <td>https://www.aljazeera.com/news/2023/10/5/syria...</td>\n",
       "      <td>The 2013 Lampe­dusa tragedy known as the chil­...</td>\n",
       "      <td>Lampedusa, Italy –Every year, Refaat Hazima vi...</td>\n",
       "    </tr>\n",
       "    <tr>\n",
       "      <th>425</th>\n",
       "      <td>Who could re­place Kevin Mc­Carthy as the next...</td>\n",
       "      <td>https://www.aljazeera.com/news/2023/10/5/who-c...</td>\n",
       "      <td>Steve Scalise and Jim Jor­dan from the Re­pub­...</td>\n",
       "      <td>The United States House of Representatives has...</td>\n",
       "    </tr>\n",
       "  </tbody>\n",
       "</table>\n",
       "<p>426 rows × 4 columns</p>\n",
       "</div>"
      ],
      "text/plain": [
       "                                                 title  \\\n",
       "0    Trump and ‘MAGA Re­pub­li­can ex­trem­ists’ th...   \n",
       "1    East Libya com­man­der Haf­tar in Moscow for t...   \n",
       "2    Be­larus says Pol­ish he­li­copter vi­o­lat­ed...   \n",
       "3    Pho­tos: In Brazil’s Ama­zon, drought af­fects...   \n",
       "4    Blinken meet­ing In­di­an coun­ter­part amid f...   \n",
       "..                                                 ...   \n",
       "421  At least 100 killed as Syr­i­an mil­i­tary col...   \n",
       "422  What’s fen­tanyl, and why have deaths due to d...   \n",
       "423  How is crick­et played? A sim­ple il­lus­trat­...   \n",
       "424  ‘My son was afraid. He asked me for a kiss. It...   \n",
       "425  Who could re­place Kevin Mc­Carthy as the next...   \n",
       "\n",
       "                                                  link  \\\n",
       "0    https://www.aljazeera.com/news/2023/9/28/trump...   \n",
       "1    https://www.aljazeera.com/news/2023/9/28/east-...   \n",
       "2    https://www.aljazeera.com/news/2023/9/28/belar...   \n",
       "3    https://www.aljazeera.com/gallery/2023/9/28/ph...   \n",
       "4    https://www.aljazeera.com/news/2023/9/28/blink...   \n",
       "..                                                 ...   \n",
       "421  https://www.aljazeera.com/news/2023/10/5/syria...   \n",
       "422  https://www.aljazeera.com/news/2023/10/5/whats...   \n",
       "423  https://www.aljazeera.com/sports/longform/2023...   \n",
       "424  https://www.aljazeera.com/news/2023/10/5/syria...   \n",
       "425  https://www.aljazeera.com/news/2023/10/5/who-c...   \n",
       "\n",
       "                                           description  \\\n",
       "0    Biden has un­der­scored the risk to democ­ra­c...   \n",
       "1    Krem­lin spokesper­son con­firms meet­ing, say...   \n",
       "2    Be­larus has re­peat­ed­ly ac­cused the EU mem...   \n",
       "3    With riv­er lev­els drop­ping, wa­ter trans­po...   \n",
       "4    Cana­da PM says he re­ceived as­sur­ances that...   \n",
       "..                                                 ...   \n",
       "421  At least 100 peo­ple killed and 240 oth­ers wo...   \n",
       "422  In 2021, two-thirds of drug-re­lat­ed over­dos...   \n",
       "423  Al Jazeera breaks down crick­et terms that wil...   \n",
       "424  The 2013 Lampe­dusa tragedy known as the chil­...   \n",
       "425  Steve Scalise and Jim Jor­dan from the Re­pub­...   \n",
       "\n",
       "                                               content  \n",
       "0    United States President Joe Biden has lashed o...  \n",
       "1    Renegade general Khalifa Haftar, whose forces ...  \n",
       "2    Belarus has claimed that a Polish helicopter h...  \n",
       "3                                                  NaN  \n",
       "4    US Secretary of State Antony Blinken is meetin...  \n",
       "..                                                 ...  \n",
       "421  A drone attack on a military college in Syria’...  \n",
       "422  The United States is imposing sanctions and la...  \n",
       "423                                                NaN  \n",
       "424  Lampedusa, Italy –Every year, Refaat Hazima vi...  \n",
       "425  The United States House of Representatives has...  \n",
       "\n",
       "[426 rows x 4 columns]"
      ]
     },
     "execution_count": 19,
     "metadata": {},
     "output_type": "execute_result"
    }
   ],
   "source": [
    "frames = [news_AlJazeera_01,news_AlJazeera_02,news_AlJazeera_03,news_AlJazeera_04,news_AlJazeera_05]\n",
    "AlJazeera_df = pd.concat(frames, ignore_index = True)\n",
    "AlJazeera_df"
   ]
  },
  {
   "cell_type": "markdown",
   "id": "5e72ef64",
   "metadata": {},
   "source": [
    "To apply topic modeling to a new dataset for authenticity prediction, we must preprocess the 'content' column, mirroring the initial dataset's treatment by filling in NaNs, conducting text normalization, and eliminating duplicates. We then employ the same vectorizer used on the original data to maintain feature consistency, transforming the textual content into a numerical form. Subsequently, the pre-trained LDA model discerns the underlying topics in the new corpus, assigning topic distributions to the content. Leveraging these topics as features, we deploy the previously trained logistic regression model to predict the likelihood of each news piece being genuine or fake, thus assessing the overall veracity of the new dataset.\n",
    "\n",
    "\n",
    "\n",
    "\n",
    "\n"
   ]
  },
  {
   "cell_type": "code",
   "execution_count": null,
   "id": "a1f73965",
   "metadata": {},
   "outputs": [],
   "source": [
    "#remove missing values\n",
    "AlJazeera_df['content'] = AlJazeera_df['content'].dropna()\n"
   ]
  },
  {
   "cell_type": "code",
   "execution_count": 38,
   "id": "ffa15372",
   "metadata": {},
   "outputs": [],
   "source": [
    "#remove duplicates\n",
    "AlJazeera_df = AlJazeera_df.drop_duplicates(subset=['content'])"
   ]
  },
  {
   "cell_type": "code",
   "execution_count": 39,
   "id": "5aa5c231",
   "metadata": {},
   "outputs": [],
   "source": [
    "# Convert all 'content' entries to string type and then apply the preprocess_text function\n",
    "AlJazeera_df['content'] = AlJazeera_df['content'].astype(str).apply(preprocess_text)\n",
    "\n",
    "# Apply the preprocess_text function to the 'content' column\n",
    "#AlJazeera_df['content'] = AlJazeera_df['content'].apply(preprocess_text)\n"
   ]
  },
  {
   "cell_type": "code",
   "execution_count": 40,
   "id": "2f5cf9a1",
   "metadata": {},
   "outputs": [
    {
     "data": {
      "text/plain": [
       "0      united states president joe biden lashed repub...\n",
       "1      renegade general khalifa haftar, forces domina...\n",
       "2      belarus claimed polish helicopter violated air...\n",
       "3                                                    nan\n",
       "4      secretary state antony blinken meeting indian ...\n",
       "                             ...                        \n",
       "420    took 15 rounds voting house representatives el...\n",
       "421    drone attack military college syria’s homs pro...\n",
       "422    united states imposing sanctions launching ind...\n",
       "424    lampedusa, italy –every year, refaat hazima vi...\n",
       "425    united states house representatives removed sp...\n",
       "Name: content, Length: 299, dtype: object"
      ]
     },
     "execution_count": 40,
     "metadata": {},
     "output_type": "execute_result"
    }
   ],
   "source": [
    "AlJazeera_df['content']"
   ]
  },
  {
   "cell_type": "code",
   "execution_count": 41,
   "id": "b3ad266d",
   "metadata": {},
   "outputs": [],
   "source": [
    "#Transform the Test Data\n",
    "AlJazeera_vectorized = vectorizer.transform(AlJazeera_df['content'])"
   ]
  },
  {
   "cell_type": "code",
   "execution_count": 49,
   "id": "a9504952",
   "metadata": {},
   "outputs": [],
   "source": [
    "#Apply the LDA Model\n",
    "AlJazeera_topics = lda_model.transform(AlJazeera_vectorized)"
   ]
  },
  {
   "cell_type": "code",
   "execution_count": 50,
   "id": "f87c2035",
   "metadata": {},
   "outputs": [],
   "source": [
    "#Classify Al Jazeera Documents Based on Dominant Topic\n",
    "AlJazeera_df['dominant_topic'] = AlJazeera_topics.argmax(axis=1)"
   ]
  },
  {
   "cell_type": "code",
   "execution_count": 235,
   "id": "a015c5d4",
   "metadata": {},
   "outputs": [
    {
     "name": "stdout",
     "output_type": "stream",
     "text": [
      "                                               content  dominant_topic\n",
      "48   north korea’s parliament unanimously moved ens...               1\n",
      "159  united states autoworkers expandingtheir two-w...               0\n",
      "46   coup attempt burkina faso’s military rulers th...               8\n",
      "347  death toll powerful earthquakes western afghan...               0\n",
      "414  buenos aires, argentina –it “superclásico” kin...               0\n",
      "50   meta ceo mark zuckerberg kicked tech giant’s c...               2\n",
      "79   united states pausing certain foreign assistan...               1\n",
      "45   czech government approved plan buy 24 us-made ...               0\n",
      "25   sweden’s right livelihood award, known “altern...               0\n",
      "408  melbourne, australia– days away historic refer...               7\n"
     ]
    }
   ],
   "source": [
    "print(AlJazeera_df[['content', 'dominant_topic']].sample(10))"
   ]
  },
  {
   "cell_type": "code",
   "execution_count": 236,
   "id": "85110c3f",
   "metadata": {},
   "outputs": [
    {
     "name": "stdout",
     "output_type": "stream",
     "text": [
      "dominant_topic\n",
      "0    168\n",
      "3     63\n",
      "2     21\n",
      "7     21\n",
      "1     18\n",
      "8      8\n",
      "Name: count, dtype: int64\n"
     ]
    }
   ],
   "source": [
    "# count of documents associated with each topic\n",
    "print(AlJazeera_df['dominant_topic'].value_counts())"
   ]
  },
  {
   "cell_type": "markdown",
   "id": "8daf22bf",
   "metadata": {},
   "source": [
    "This output shows the distribution of dominant topics for the articles in the news_AlJazeera dataset:\n",
    "\n",
    "- Topic 7 is the most dominant with 72 articles.\n",
    "- Topic 5 follows with 70 articles.\n",
    "- Topic 4 has 53 articles.\n",
    "- Topic 6 has 34 articles.\n",
    "- Topic 0 has 26 articles.\n",
    "- Topics 3, 9, 2, and 8 each have fewer articles, with counts of 23, 15, 5, and 1 respectively.\n",
    "From this distribution, it seems like Topics 7, 5, and 4 are the most prevalent in the dataset we've scraped from Al Jazeera."
   ]
  },
  {
   "cell_type": "code",
   "execution_count": 54,
   "id": "3045fdce",
   "metadata": {},
   "outputs": [
    {
     "data": {
      "image/png": "[encoded data removed]",
      "text/plain": [
       "<Figure size 720x432 with 1 Axes>"
      ]
     },
     "metadata": {
      "needs_background": "light"
     },
     "output_type": "display_data"
    }
   ],
   "source": [
    "# Extracting the value counts for visualization\n",
    "topic_counts = AlJazeera_df['dominant_topic'].value_counts()\n",
    "\n",
    "# Plotting\n",
    "plt.figure(figsize=(10, 6))\n",
    "topic_counts.sort_index().plot(kind='bar', color='skyblue', edgecolor='black')\n",
    "plt.title('Distribution of Dominant Topics in Al Jazeera Articles')\n",
    "plt.xlabel('Topic Number')\n",
    "plt.ylabel('Number of Articles')\n",
    "plt.xticks(rotation=0)\n",
    "plt.grid(axis='y')\n",
    "\n",
    "plt.show()"
   ]
  },
  {
   "cell_type": "code",
   "execution_count": 33,
   "id": "17b252df",
   "metadata": {},
   "outputs": [],
   "source": [
    "# Use the trained XGBoost model to predict labels\n",
    "aljazeera_label = lr_model.predict(aljazeera_vectorized)\n",
    "\n",
    "# Add the predicted labels to the Al Jazeera dataset\n",
    "AlJazeera_df['label'] = aljazeera_label"
   ]
  },
  {
   "cell_type": "code",
   "execution_count": 51,
   "id": "24c6843b",
   "metadata": {},
   "outputs": [
    {
     "name": "stdout",
     "output_type": "stream",
     "text": [
      "                                             content  dominant_topic  label\n",
      "0  united states president joe biden lashed repub...               0      1\n",
      "1  renegade general khalifa haftar, forces domina...               0      1\n",
      "2  belarus claimed polish helicopter violated air...               0      0\n",
      "3                                                nan               0      1\n",
      "4  secretary state antony blinken meeting indian ...               0      0\n"
     ]
    }
   ],
   "source": [
    "print(AlJazeera_df[['content', 'dominant_topic', 'label']].head())"
   ]
  },
  {
   "cell_type": "code",
   "execution_count": 53,
   "id": "0d5b2586",
   "metadata": {},
   "outputs": [
    {
     "data": {
      "image/png": "[encoded data removed]",
      "text/plain": [
       "<Figure size 864x432 with 1 Axes>"
      ]
     },
     "metadata": {
      "needs_background": "light"
     },
     "output_type": "display_data"
    }
   ],
   "source": [
    "import matplotlib.pyplot as plt\n",
    "\n",
    "# Assuming 'AlJazeera_df' contains the Al Jazeera dataset with predicted labels\n",
    "\n",
    "# Group the data by dominant topic and label, and count the occurrences\n",
    "grouped = AlJazeera_df.groupby(['dominant_topic', 'label']).size().unstack(fill_value=0)\n",
    "\n",
    "# Create a bar chart\n",
    "grouped.plot(kind='bar', stacked=True, figsize=(12, 6))\n",
    "\n",
    "# Add labels and a legend\n",
    "plt.xlabel('Dominant Topic')\n",
    "plt.ylabel('Count')\n",
    "plt.title('Counts of Dominant Topics with Hue by Label')\n",
    "plt.legend(title='Label', labels=['Fake', 'Real'])\n",
    "\n",
    "# Show the plot\n",
    "plt.show()\n"
   ]
  },
  {
   "cell_type": "markdown",
   "id": "247227e6",
   "metadata": {},
   "source": [
    "The analysis derived from the chart underscores a pivotal insight: the veracity of news articles, delineated as \"real\" or \"fake,\" is not predominantly influenced by the overarching topics under which they are categorized. Instead, the authenticity of these articles is intricately tethered to the specific content they harbor — the constellation of words, phrases, and the nuanced fabric of language employed within.\n",
    "\n",
    "This phenomenon can be attributed to several factors. Firstly, topics are broad categorizations and can encompass a wide spectrum of articles with varying degrees of credibility. For instance, a topic such as \"politics\" might include well-researched, factual reporting from reputable sources, as well as misleading or fabricated narratives from less credible outlets. The topic itself, being a wide umbrella, doesn't lend itself to the binary classification of news into \"real\" or \"fake.\"\n",
    "\n",
    "Conversely, the specific content within an article, the linguistic constructs and vocabulary utilized, often reveal more about its authenticity. Fake news, for example, might be more prone to sensationalist language, emotional appeals, or implausible statements, which can be identified through text analysis techniques. Moreover, the frequency and context of certain keywords can be telltale indicators of the article's intent, bias, or adherence to factual accuracy.\n",
    "\n",
    "In essence, while topics provide a macroscopic view of news content, discerning the genuineness of news necessitates a microscopic examination of the textual content. It's within the granular details of language usage that the truthfulness of news often resides, necessitating sophisticated analytical models that probe beyond topical categorization to the heart of the written word itself."
   ]
  },
  {
   "cell_type": "code",
   "execution_count": null,
   "id": "e2457c67",
   "metadata": {},
   "outputs": [],
   "source": []
  }
 ],
 "metadata": {
  "kernelspec": {
   "display_name": "Python 3 (ipykernel)",
   "language": "python",
   "name": "python3"
  },
  "language_info": {
   "codemirror_mode": {
    "name": "ipython",
    "version": 3
   },
   "file_extension": ".py",
   "mimetype": "text/x-python",
   "name": "python",
   "nbconvert_exporter": "python",
   "pygments_lexer": "ipython3",
   "version": "3.10.2"
  }
 },
 "nbformat": 4,
 "nbformat_minor": 5
}
