{
 "cells": [
  {
   "cell_type": "code",
   "execution_count": null,
   "id": "a3ab9079",
   "metadata": {},
   "outputs": [],
   "source": [
    "# !pip install selenium beautifulsoup4"
   ]
  },
  {
   "cell_type": "code",
   "execution_count": null,
   "id": "8a84f0af",
   "metadata": {},
   "outputs": [],
   "source": [
    "# Import required libraries\n",
    "from bs4 import BeautifulSoup\n",
    "import requests \n",
    "from selenium import webdriver\n",
    "import time\n",
    "from datetime import timedelta\n",
    "import pandas as pd\n",
    "import sys"
   ]
  },
  {
   "cell_type": "code",
   "execution_count": null,
   "id": "e74a3850",
   "metadata": {},
   "outputs": [],
   "source": [
    "from selenium.webdriver.chrome.options import Options\n",
    "options = Options()"
   ]
  },
  {
   "cell_type": "code",
   "execution_count": null,
   "id": "680a51e0",
   "metadata": {},
   "outputs": [],
   "source": [
    "from selenium import webdriver\n",
    "from selenium.webdriver.chrome.service import Service\n",
    "from selenium.webdriver.common.by import By\n",
    "from selenium.webdriver.chrome.options import Options\n",
    "from selenium.common.exceptions import NoSuchElementException\n",
    "from bs4 import BeautifulSoup\n",
    "import time\n",
    "\n",
    "# Setup WebDriver\n",
    "chrome_options = Options()\n",
    "chrome_options.add_argument('--no-sandbox')\n",
    "options.add_argument(\"start-maximized\"); #// https://stackoverflow.com/a/26283818/1689770\n",
    "options.add_argument(\"enable-automation\"); #// https://stackoverflow.com/a/43840128/1689770\n",
    "options.add_argument(\"--disable-dev-shm-usage\"); #//https://stackoverflow.com/a/50725918/1689770\n",
    "options.add_argument(\"--disable-browser-side-navigation\"); #//https://stackoverflow.com/a/49123152/1689770\n",
    "options.add_argument(\"--disable-gpu\"); #//https://stackoverflow.com/questions/51959986/how-to-solve-selenium-chromedriver-timed-out-receiving-message-from-renderer-exc\n",
    "\n",
    "chrome_service = Service('/usr/local/bin/chromedriver')\n",
    "driver = webdriver.Chrome(service=chrome_service, options=chrome_options)\n",
    "\n",
    "# Open the webpage\n",
    "base_url = 'https://www.aljazeera.com'\n",
    "driver.get(base_url + '/news')\n",
    "\n",
    "# Initialize a list to hold the news articles\n",
    "news_list = []\n",
    "links = set()  # Initialize a set to hold the links of the fetched articles\n",
    "\n",
    "def click_show_more():\n",
    "    try:\n",
    "        button = driver.find_element(By.CLASS_NAME, 'show-more-button')\n",
    "        driver.execute_script(\"arguments[0].click();\", button)  \n",
    "        time.sleep(2) \n",
    "        return True\n",
    "    except NoSuchElementException:\n",
    "        return False \n",
    "\n",
    "\n",
    "prev_article_count = 0  # to check if new articles are loaded\n",
    "while len(news_list) < 100:\n",
    "    soup = BeautifulSoup(driver.page_source, 'html.parser')\n",
    "    articles = soup.find_all('article', class_='gc')\n",
    "    \n",
    "    if len(articles) == prev_article_count:  \n",
    "        print(\"No new articles loaded. Exiting...\")\n",
    "        break\n",
    "    \n",
    "    prev_article_count = len(articles)\n",
    "    \n",
    "    print(\"Clicking Show More Button.\")\n",
    "    if not click_show_more():\n",
    "        print(\"Show More Button not found! Exiting...\")\n",
    "        break\n",
    "\n",
    "    for article in articles:\n",
    "        news = {}\n",
    "        title_tag = article.find('h3', class_='gc__title')\n",
    "        if title_tag:\n",
    "            news['title'] = title_tag.get_text(strip=True)\n",
    "            link = title_tag.find('a')['href'] if title_tag.find('a') else None\n",
    "            if link:\n",
    "                if not link.startswith('http'):\n",
    "                    link = base_url + link\n",
    "                news['link'] = link\n",
    "        else:\n",
    "            continue  # skip this article if no title is found\n",
    "\n",
    "        if link in links:  # skip if link is already in the list\n",
    "            continue\n",
    "        links.add(link)\n",
    "        \n",
    "        description_tag = article.find('div', class_='gc__excerpt')\n",
    "        news['description'] = description_tag.get_text(strip=True) if description_tag else None\n",
    "\n",
    "        if link:\n",
    "            print(\"Navigating to:\", link)\n",
    "            driver.execute_script(\"window.open('');\")  # new tab\n",
    "            driver.switch_to.window(driver.window_handles[1])  # switch to the new tab\n",
    "            driver.get(link)\n",
    "            time.sleep(2)  # allow the page to load\n",
    "\n",
    "            article_soup = BeautifulSoup(driver.page_source, 'html.parser')\n",
    "            content_div = article_soup.find('div', class_='wysiwyg wysiwyg--all-content css-ibbk12')\n",
    "            content_tags = content_div.find_all('p', recursive=False) if content_div else []\n",
    "            content = ' '.join(tag.get_text(strip=True) for tag in content_tags)\n",
    "            news['content'] = content if content_tags else None\n",
    "\n",
    "            driver.close()  \n",
    "            driver.switch_to.window(driver.window_handles[0])  \n",
    "\n",
    "        news_list.append(news)\n",
    "\n",
    "    print(f\"Collected {len(news_list)} news articles.\")\n",
    "\n",
    "driver.quit()  "
   ]
  },
  {
   "cell_type": "code",
   "execution_count": null,
   "id": "42719bc6",
   "metadata": {},
   "outputs": [],
   "source": [
    "news_df = pd.DataFrame(news_list)\n",
    "news_df"
   ]
  },
  {
   "cell_type": "code",
   "execution_count": null,
   "id": "cadb1bed",
   "metadata": {},
   "outputs": [],
   "source": [
    "# save the news in csv files\n",
    "news_df.to_csv('news_articles_04.csv', index=False)"
   ]
  },
  {
   "cell_type": "code",
   "execution_count": null,
   "id": "34641c76",
   "metadata": {},
   "outputs": [],
   "source": [
    "df1 = pd.read_csv(\"Aljazeera_news/news_articles_01.csv\")\n",
    "df2 = pd.read_csv(\"Aljazeera_news/news_articles_02.csv\")\n",
    "df3 = pd.read_csv(\"Aljazeera_news/news_articles_03.csv\")\n",
    "df4 = pd.read_csv(\"Aljazeera_news/news_articles_04.csv\")"
   ]
  },
  {
   "cell_type": "code",
   "execution_count": null,
   "id": "3e4f5875",
   "metadata": {},
   "outputs": [],
   "source": [
    "frames = [df1,df2,df3,df4]\n",
    "news_df = pd.concat(frames, ignore_index = True)\n",
    "news_df"
   ]
  },
  {
   "cell_type": "code",
   "execution_count": null,
   "id": "d7d81313",
   "metadata": {},
   "outputs": [],
   "source": [
    "# check missing values\n",
    "news_df.isnull().sum()"
   ]
  },
  {
   "cell_type": "code",
   "execution_count": null,
   "id": "7e62a531",
   "metadata": {},
   "outputs": [],
   "source": [
    "news_df=news_df.dropna()"
   ]
  },
  {
   "cell_type": "code",
   "execution_count": null,
   "id": "553341f1",
   "metadata": {},
   "outputs": [],
   "source": [
    "# duplicated valus\n",
    "duplicated_count = news_df.duplicated().sum()\n",
    "print(f\"Number of duplciated values are {duplicated_count}\")"
   ]
  },
  {
   "cell_type": "code",
   "execution_count": null,
   "id": "9f699b7d",
   "metadata": {},
   "outputs": [],
   "source": [
    "news_df = news_df.drop_duplicates()"
   ]
  },
  {
   "cell_type": "code",
   "execution_count": null,
   "id": "9dffc385",
   "metadata": {},
   "outputs": [],
   "source": [
    "from Cleaning import NewsPreprocessor"
   ]
  },
  {
   "cell_type": "code",
   "execution_count": null,
   "id": "26f33506",
   "metadata": {},
   "outputs": [],
   "source": [
    "import dask.dataframe as dd\n",
    "\n",
    "# Instantiate the preprocessing class\n",
    "preprocessor = NewsPreprocessor()\n",
    "\n",
    "# Convert the pandas dataframe to a Dask dataframe\n",
    "dask_df = dd.from_pandas(news_df, npartitions=4)  \n",
    "\n",
    "dask_df['content'] = dask_df['content'].map_partitions(lambda df: df.apply(lambda x: preprocessor.preprocess(x))).\\\n",
    "compute(scheduler='multiprocessing')\n",
    "\n",
    "# Convert back to pandas dataframe \n",
    "news_df = dask_df.compute()\n"
   ]
  },
  {
   "cell_type": "code",
   "execution_count": null,
   "id": "0869dbd1",
   "metadata": {},
   "outputs": [],
   "source": [
    "from Cleaning import DeepLearningTokenizer"
   ]
  },
  {
   "cell_type": "code",
   "execution_count": null,
   "id": "76790d87",
   "metadata": {},
   "outputs": [],
   "source": [
    "content_news = news_df[\"content\"]"
   ]
  },
  {
   "cell_type": "code",
   "execution_count": null,
   "id": "5b702b58",
   "metadata": {},
   "outputs": [],
   "source": [
    "# tokenizing and padding new (unlabeled) news content\n",
    "tokenizer_dl = DeepLearningTokenizer(max_length=1037)\n",
    "tokenized_data = tokenizer_dl.transform(content_news)"
   ]
  },
  {
   "cell_type": "code",
   "execution_count": null,
   "id": "2ca38c51",
   "metadata": {},
   "outputs": [],
   "source": [
    "from tensorflow.keras.models import load_model"
   ]
  },
  {
   "cell_type": "markdown",
   "id": "3bb452b6",
   "metadata": {},
   "source": [
    "## Deep Learning Modeling "
   ]
  },
  {
   "cell_type": "markdown",
   "id": "2038aac3",
   "metadata": {},
   "source": [
    "### Running LSTM "
   ]
  },
  {
   "cell_type": "code",
   "execution_count": null,
   "id": "6ad98739",
   "metadata": {},
   "outputs": [],
   "source": [
    "LSTM_model = load_model(\"Saved_models/lstm_model.h5\")"
   ]
  },
  {
   "cell_type": "code",
   "execution_count": null,
   "id": "604d0a97",
   "metadata": {},
   "outputs": [],
   "source": [
    "predictions = LSTM_model.predict(tokenized_data)"
   ]
  },
  {
   "cell_type": "code",
   "execution_count": null,
   "id": "2d1c1b88",
   "metadata": {},
   "outputs": [],
   "source": []
  }
 ],
 "metadata": {
  "kernelspec": {
   "display_name": "Python 3 (ipykernel)",
   "language": "python",
   "name": "python3"
  },
  "language_info": {
   "codemirror_mode": {
    "name": "ipython",
    "version": 3
   },
   "file_extension": ".py",
   "mimetype": "text/x-python",
   "name": "python",
   "nbconvert_exporter": "python",
   "pygments_lexer": "ipython3",
   "version": "3.10.2"
  }
 },
 "nbformat": 4,
 "nbformat_minor": 5
}
